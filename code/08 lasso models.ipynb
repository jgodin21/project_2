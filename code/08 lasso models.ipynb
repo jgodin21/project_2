{
 "cells": [
  {
   "cell_type": "markdown",
   "metadata": {},
   "source": [
    "# Imports"
   ]
  },
  {
   "cell_type": "code",
   "execution_count": 2,
   "metadata": {},
   "outputs": [],
   "source": [
    "# If Shapley Value package shap is not installed, run this code to install it\n",
    "# conda install -c conda-forge shap"
   ]
  },
  {
   "cell_type": "code",
   "execution_count": 1,
   "metadata": {},
   "outputs": [],
   "source": [
    "import numpy as np\n",
    "import pandas as pd\n",
    "import matplotlib.pyplot as plt\n",
    "import seaborn as sns\n",
    "from sklearn.linear_model import LinearRegression, Lasso, LassoCV, Ridge, RidgeCV\n",
    "from sklearn.model_selection import train_test_split, cross_val_score\n",
    "from sklearn.preprocessing import PolynomialFeatures, StandardScaler, PowerTransformer\n",
    "from sklearn import metrics\n",
    "import statsmodels.api as sm\n",
    "import shap\n",
    "\n",
    "%matplotlib inline"
   ]
  },
  {
   "cell_type": "markdown",
   "metadata": {},
   "source": [
    "# Get Cleaned Train Data"
   ]
  },
  {
   "cell_type": "code",
   "execution_count": 2,
   "metadata": {},
   "outputs": [],
   "source": [
    "df_cl = pd.read_csv(\"../datasets/train_cleaned.csv\")"
   ]
  },
  {
   "cell_type": "markdown",
   "metadata": {},
   "source": [
    "# Modeling"
   ]
  },
  {
   "cell_type": "markdown",
   "metadata": {},
   "source": [
    "### Define X & y"
   ]
  },
  {
   "cell_type": "code",
   "execution_count": 3,
   "metadata": {},
   "outputs": [],
   "source": [
    "var_list = ['MS SubClass_20',\n",
    "            'MS SubClass_30',\n",
    "            'MS SubClass_40',\n",
    "            'MS SubClass_45',\n",
    "            'MS SubClass_50',\n",
    "            'MS SubClass_60',\n",
    "            'MS SubClass_70',\n",
    "            'MS SubClass_75',\n",
    "            'MS SubClass_80',\n",
    "            'MS SubClass_85',\n",
    "            'MS SubClass_90',\n",
    "            'MS SubClass_160',\n",
    "            'MS SubClass_180',\n",
    "            'MS SubClass_190',\n",
    "            'MS Zoning_FV',\n",
    "            'MS Zoning_I (all)',\n",
    "            'MS Zoning_RH',\n",
    "            'MS Zoning_RL',\n",
    "            'MS Zoning_RM',\n",
    "            'Lot Frontage',\n",
    "            'Lot Area',\n",
    "            'Lot Area > 30k',\n",
    "            'Lot Shape_IR2',\n",
    "            'Lot Shape_IR3',\n",
    "            'Lot Shape_Reg',\n",
    "            'IsNotLevelContour',\n",
    "            'Lot Config_CulDSac',\n",
    "            'Lot Config_FR2',\n",
    "            'Lot Config_FR3',\n",
    "            'Lot Config_Inside',\n",
    "            'Land Slope_Mod',\n",
    "            'Land Slope_Sev',\n",
    "            'Neighborhood_Blueste',\n",
    "            'Neighborhood_BrDale',\n",
    "            'Neighborhood_BrkSide',\n",
    "            'Neighborhood_ClearCr',\n",
    "            'Neighborhood_CollgCr',\n",
    "            'Neighborhood_Crawfor',\n",
    "            'Neighborhood_Edwards',\n",
    "            'Neighborhood_Gilbert',\n",
    "            'Neighborhood_Greens',\n",
    "            'Neighborhood_IDOTRR',\n",
    "            'Neighborhood_MeadowV',\n",
    "            'Neighborhood_Mitchel',\n",
    "            'Neighborhood_NAmes',\n",
    "            'Neighborhood_NPkVill',\n",
    "            'Neighborhood_NWAmes',\n",
    "            'Neighborhood_NoRidge',\n",
    "            'Neighborhood_NridgHt',\n",
    "            'Neighborhood_OldTown',\n",
    "            'Neighborhood_SWISU',\n",
    "            'Neighborhood_Sawyer',\n",
    "            'Neighborhood_SawyerW',\n",
    "            'Neighborhood_Somerst',\n",
    "            'Neighborhood_StoneBr',\n",
    "            'Neighborhood_Timber',\n",
    "            'Neighborhood_Veenker',\n",
    "            'IsNotNormalCondition1',\n",
    "            'IsNotNormalCondition2',\n",
    "            'Bldg Type_2fmCon',\n",
    "            'Bldg Type_Duplex',\n",
    "            'Bldg Type_Twnhs',\n",
    "            'Bldg Type_TwnhsE',\n",
    "            'House Style_1.5Unf',\n",
    "            'House Style_1Story',\n",
    "            'House Style_2.5Fin',\n",
    "            'House Style_2.5Unf',\n",
    "            'House Style_2Story',\n",
    "            'House Style_SFoyer',\n",
    "            'House Style_SLvl',\n",
    "            'Overall Qual',\n",
    "            'Overall Cond',\n",
    "            'Age At Sale',\n",
    "            'Years Since Remod/Add',\n",
    "            'IsHipRoof',\n",
    "            'Exterior 1st_BrkFace',\n",
    "            'Exterior 1st_CemntBd',\n",
    "            'Exterior 1st_HdBoard',\n",
    "            'Exterior 1st_MetalSd',\n",
    "            'Exterior 1st_Plywood',\n",
    "            'Exterior 1st_Stucco',\n",
    "            'Exterior 1st_VinylSd',\n",
    "            'Exterior 1st_Wd Sdng',\n",
    "            'Exterior 1st_WdShing',\n",
    "            'Exterior 1st_OtherExt',\n",
    "            'DiffExt2',\n",
    "            'Mas Vnr Type_BrkFace',\n",
    "            'Mas Vnr Type_Stone',\n",
    "            'Mas Vnr Type_None',\n",
    "            'Exter Qual_Fa',\n",
    "            'Exter Qual_Gd',\n",
    "            'Exter Qual_TA',\n",
    "            'Exter Cond_Fa',\n",
    "            'Exter Cond_Gd',\n",
    "            'Exter Cond_Po',\n",
    "            'Exter Cond_TA',\n",
    "            'Foundation_CBlock',\n",
    "            'Foundation_PConc',\n",
    "            'Foundation_Slab',\n",
    "            'Foundation_Stone',\n",
    "            'Foundation_Wood',\n",
    "            'Bsmt Qual_Gd',\n",
    "            'Bsmt Qual_TA',\n",
    "            'Bsmt Qual_FairPoor',\n",
    "            'Bsmt Qual_No Basement',\n",
    "            'HasAvGdBsmtExposure',\n",
    "            'BsmtFin Type 1_BLQ',\n",
    "            'BsmtFin Type 1_GLQ',\n",
    "            'BsmtFin Type 1_LwQ',\n",
    "            'BsmtFin Type 1_Rec',\n",
    "            'BsmtFin Type 1_Unf',\n",
    "            'BsmtFin Type 1_No Basement',\n",
    "            'BsmtFin SF 1',\n",
    "            'Bsmt Unf SF',\n",
    "            'Total Bsmt SF',\n",
    "            'Heating QC_Fa',\n",
    "            'Heating QC_Gd',\n",
    "            'Heating QC_TA',\n",
    "            'Central Air',\n",
    "            'NotStdElectrical',\n",
    "            '1st Flr SF',\n",
    "            '1st Flr SF > 3000',\n",
    "            '2nd Flr SF',\n",
    "            'Low Qual Fin SF',\n",
    "            'Gr Liv Area',\n",
    "            'HasBsmtFullBath',\n",
    "            'HasBsmtHalfBath',\n",
    "            'Full Bath',\n",
    "            'Half Bath',\n",
    "            'Bedroom AbvGr',\n",
    "            'Kitchen AbvGr',\n",
    "            'Kitchen Qual_Gd',\n",
    "            'Kitchen Qual_TA',\n",
    "            'Kitchen Qual_Fa',\n",
    "            'TotRms AbvGrd',\n",
    "            'IsNotTypFunctional',\n",
    "            'HasFireplace',\n",
    "            'HasExGdFireplace',\n",
    "            'Garage Type_Attchd',\n",
    "            'Garage Type_Basment',\n",
    "            'Garage Type_BuiltIn',\n",
    "            'Garage Type_CarPort',\n",
    "            'Garage Type_Detchd',\n",
    "            'Garage Type_NoGarage',\n",
    "            'Garage Blt After House',\n",
    "            'Garage Finish_NoGarage',\n",
    "            'Garage Finish_RFn',\n",
    "            'Garage Finish_Unf',\n",
    "            'Garage Cars',\n",
    "            'Garage Area',\n",
    "            'IsNotPavedDrive',\n",
    "            'Wood Deck SF',\n",
    "            'Open Porch SF',\n",
    "            'Enclosed Porch',\n",
    "            '3Ssn Porch',\n",
    "            'Screen Porch',\n",
    "            'Pool Area',\n",
    "            'HasFence',\n",
    "            'Misc Val',\n",
    "            'Mo Sold',\n",
    "            'Sale Type_CWD',\n",
    "            'Sale Type_Con',\n",
    "            'Sale Type_ConLD',\n",
    "            'Sale Type_ConLI',\n",
    "            'Sale Type_ConLw',\n",
    "            'Sale Type_New',\n",
    "            'Sale Type_Oth',\n",
    "            'Sale Type_WD ',\n",
    "            'Unique Old Houses',\n",
    "            'Log 1st Flr SF',\n",
    "            'Log Gr Liv Area',\n",
    "            'Log Lot Area']\n",
    "#            'Quality * Age', \n",
    "#            'Log Lot Area * Log 1st Flr SF',\n",
    "#            'Garage Cars * Garage Area', \n",
    "#            'Log Gr Liv Area * Log Lot Area',\n",
    "#            'Log Gr Liv Area * Full Bath', \n",
    "#            'Pool Area * Lot Lot Area',\n",
    "#            'Age At Sale * Years Since Remod'"
   ]
  },
  {
   "cell_type": "code",
   "execution_count": 4,
   "metadata": {},
   "outputs": [],
   "source": [
    "# nbhd_list = ['Neighborhood_BrDale', 'Neighborhood_BrkSide', 'Neighborhood_ClearCr', \n",
    "#              'Neighborhood_CollgCr', 'Neighborhood_Crawfor', 'Neighborhood_Edwards', 'Neighborhood_Gilbert', \n",
    "#              'Neighborhood_IDOTRR', 'Neighborhood_MeadowV', 'Neighborhood_Mitchel', 'Neighborhood_NAmes', \n",
    "#              'Neighborhood_NWAmes', 'Neighborhood_NoRidge', 'Neighborhood_NridgHt', 'Neighborhood_OldTown',\n",
    "#              'Neighborhood_SWISU', 'Neighborhood_Sawyer', 'Neighborhood_SawyerW', 'Neighborhood_Somerst', \n",
    "#              'Neighborhood_StoneBr']"
   ]
  },
  {
   "cell_type": "code",
   "execution_count": 5,
   "metadata": {},
   "outputs": [
    {
     "data": {
      "text/html": [
       "['MS SubClass_20', 'MS SubClass_30', 'MS SubClass_40', 'MS SubClass_45', 'MS SubClass_50', 'MS SubClass_60', 'MS SubClass_70', 'MS SubClass_75', 'MS SubClass_80', 'MS SubClass_85', 'MS SubClass_90', 'MS SubClass_160', 'MS SubClass_180', 'MS SubClass_190', 'MS Zoning_FV', 'MS Zoning_I (all)', 'MS Zoning_RH', 'MS Zoning_RL', 'MS Zoning_RM', 'Lot Frontage', 'Lot Area', 'Lot Area > 30k', 'Lot Shape_IR2', 'Lot Shape_IR3', 'Lot Shape_Reg', 'IsNotLevelContour', 'Lot Config_CulDSac', 'Lot Config_FR2', 'Lot Config_FR3', 'Lot Config_Inside', 'Land Slope_Mod', 'Land Slope_Sev', 'Neighborhood_Blueste', 'Neighborhood_BrDale', 'Neighborhood_BrkSide', 'Neighborhood_ClearCr', 'Neighborhood_CollgCr', 'Neighborhood_Crawfor', 'Neighborhood_Edwards', 'Neighborhood_Gilbert', 'Neighborhood_Greens', 'Neighborhood_IDOTRR', 'Neighborhood_MeadowV', 'Neighborhood_Mitchel', 'Neighborhood_NAmes', 'Neighborhood_NPkVill', 'Neighborhood_NWAmes', 'Neighborhood_NoRidge', 'Neighborhood_NridgHt', 'Neighborhood_OldTown', 'Neighborhood_SWISU', 'Neighborhood_Sawyer', 'Neighborhood_SawyerW', 'Neighborhood_Somerst', 'Neighborhood_StoneBr', 'Neighborhood_Timber', 'Neighborhood_Veenker', 'IsNotNormalCondition1', 'IsNotNormalCondition2', 'Bldg Type_2fmCon', 'Bldg Type_Duplex', 'Bldg Type_Twnhs', 'Bldg Type_TwnhsE', 'House Style_1.5Unf', 'House Style_1Story', 'House Style_2.5Fin', 'House Style_2.5Unf', 'House Style_2Story', 'House Style_SFoyer', 'House Style_SLvl', 'Overall Qual', 'Overall Cond', 'Age At Sale', 'Years Since Remod/Add', 'IsHipRoof', 'Exterior 1st_BrkFace', 'Exterior 1st_CemntBd', 'Exterior 1st_HdBoard', 'Exterior 1st_MetalSd', 'Exterior 1st_Plywood', 'Exterior 1st_Stucco', 'Exterior 1st_VinylSd', 'Exterior 1st_Wd Sdng', 'Exterior 1st_WdShing', 'Exterior 1st_OtherExt', 'DiffExt2', 'Mas Vnr Type_BrkFace', 'Mas Vnr Type_Stone', 'Mas Vnr Type_None', 'Exter Qual_Fa', 'Exter Qual_Gd', 'Exter Qual_TA', 'Exter Cond_Fa', 'Exter Cond_Gd', 'Exter Cond_Po', 'Exter Cond_TA', 'Foundation_CBlock', 'Foundation_PConc', 'Foundation_Slab', 'Foundation_Stone', 'Foundation_Wood', 'Bsmt Qual_Gd', 'Bsmt Qual_TA', 'Bsmt Qual_FairPoor', 'Bsmt Qual_No Basement', 'HasAvGdBsmtExposure', 'BsmtFin Type 1_BLQ', 'BsmtFin Type 1_GLQ', 'BsmtFin Type 1_LwQ', 'BsmtFin Type 1_Rec', 'BsmtFin Type 1_Unf', 'BsmtFin Type 1_No Basement', 'BsmtFin SF 1', 'Bsmt Unf SF', 'Total Bsmt SF', 'Heating QC_Fa', 'Heating QC_Gd', 'Heating QC_TA', 'Central Air', 'NotStdElectrical', '1st Flr SF', '1st Flr SF > 3000', '2nd Flr SF', 'Low Qual Fin SF', 'Gr Liv Area', 'HasBsmtFullBath', 'HasBsmtHalfBath', 'Full Bath', 'Half Bath', 'Bedroom AbvGr', 'Kitchen AbvGr', 'Kitchen Qual_Gd', 'Kitchen Qual_TA', 'Kitchen Qual_Fa', 'TotRms AbvGrd', 'IsNotTypFunctional', 'HasFireplace', 'HasExGdFireplace', 'Garage Type_Attchd', 'Garage Type_Basment', 'Garage Type_BuiltIn', 'Garage Type_CarPort', 'Garage Type_Detchd', 'Garage Type_NoGarage', 'Garage Blt After House', 'Garage Finish_NoGarage', 'Garage Finish_RFn', 'Garage Finish_Unf', 'Garage Cars', 'Garage Area', 'IsNotPavedDrive', 'Wood Deck SF', 'Open Porch SF', 'Enclosed Porch', '3Ssn Porch', 'Screen Porch', 'Pool Area', 'HasFence', 'Misc Val', 'Mo Sold', 'Sale Type_CWD', 'Sale Type_Con', 'Sale Type_ConLD', 'Sale Type_ConLI', 'Sale Type_ConLw', 'Sale Type_New', 'Sale Type_Oth', 'Sale Type_WD ', 'Unique Old Houses', 'Log 1st Flr SF', 'Log Gr Liv Area', 'Log Lot Area']"
      ],
      "text/plain": [
       "['MS SubClass_20',\n",
       " 'MS SubClass_30',\n",
       " 'MS SubClass_40',\n",
       " 'MS SubClass_45',\n",
       " 'MS SubClass_50',\n",
       " 'MS SubClass_60',\n",
       " 'MS SubClass_70',\n",
       " 'MS SubClass_75',\n",
       " 'MS SubClass_80',\n",
       " 'MS SubClass_85',\n",
       " 'MS SubClass_90',\n",
       " 'MS SubClass_160',\n",
       " 'MS SubClass_180',\n",
       " 'MS SubClass_190',\n",
       " 'MS Zoning_FV',\n",
       " 'MS Zoning_I (all)',\n",
       " 'MS Zoning_RH',\n",
       " 'MS Zoning_RL',\n",
       " 'MS Zoning_RM',\n",
       " 'Lot Frontage',\n",
       " 'Lot Area',\n",
       " 'Lot Area > 30k',\n",
       " 'Lot Shape_IR2',\n",
       " 'Lot Shape_IR3',\n",
       " 'Lot Shape_Reg',\n",
       " 'IsNotLevelContour',\n",
       " 'Lot Config_CulDSac',\n",
       " 'Lot Config_FR2',\n",
       " 'Lot Config_FR3',\n",
       " 'Lot Config_Inside',\n",
       " 'Land Slope_Mod',\n",
       " 'Land Slope_Sev',\n",
       " 'Neighborhood_Blueste',\n",
       " 'Neighborhood_BrDale',\n",
       " 'Neighborhood_BrkSide',\n",
       " 'Neighborhood_ClearCr',\n",
       " 'Neighborhood_CollgCr',\n",
       " 'Neighborhood_Crawfor',\n",
       " 'Neighborhood_Edwards',\n",
       " 'Neighborhood_Gilbert',\n",
       " 'Neighborhood_Greens',\n",
       " 'Neighborhood_IDOTRR',\n",
       " 'Neighborhood_MeadowV',\n",
       " 'Neighborhood_Mitchel',\n",
       " 'Neighborhood_NAmes',\n",
       " 'Neighborhood_NPkVill',\n",
       " 'Neighborhood_NWAmes',\n",
       " 'Neighborhood_NoRidge',\n",
       " 'Neighborhood_NridgHt',\n",
       " 'Neighborhood_OldTown',\n",
       " 'Neighborhood_SWISU',\n",
       " 'Neighborhood_Sawyer',\n",
       " 'Neighborhood_SawyerW',\n",
       " 'Neighborhood_Somerst',\n",
       " 'Neighborhood_StoneBr',\n",
       " 'Neighborhood_Timber',\n",
       " 'Neighborhood_Veenker',\n",
       " 'IsNotNormalCondition1',\n",
       " 'IsNotNormalCondition2',\n",
       " 'Bldg Type_2fmCon',\n",
       " 'Bldg Type_Duplex',\n",
       " 'Bldg Type_Twnhs',\n",
       " 'Bldg Type_TwnhsE',\n",
       " 'House Style_1.5Unf',\n",
       " 'House Style_1Story',\n",
       " 'House Style_2.5Fin',\n",
       " 'House Style_2.5Unf',\n",
       " 'House Style_2Story',\n",
       " 'House Style_SFoyer',\n",
       " 'House Style_SLvl',\n",
       " 'Overall Qual',\n",
       " 'Overall Cond',\n",
       " 'Age At Sale',\n",
       " 'Years Since Remod/Add',\n",
       " 'IsHipRoof',\n",
       " 'Exterior 1st_BrkFace',\n",
       " 'Exterior 1st_CemntBd',\n",
       " 'Exterior 1st_HdBoard',\n",
       " 'Exterior 1st_MetalSd',\n",
       " 'Exterior 1st_Plywood',\n",
       " 'Exterior 1st_Stucco',\n",
       " 'Exterior 1st_VinylSd',\n",
       " 'Exterior 1st_Wd Sdng',\n",
       " 'Exterior 1st_WdShing',\n",
       " 'Exterior 1st_OtherExt',\n",
       " 'DiffExt2',\n",
       " 'Mas Vnr Type_BrkFace',\n",
       " 'Mas Vnr Type_Stone',\n",
       " 'Mas Vnr Type_None',\n",
       " 'Exter Qual_Fa',\n",
       " 'Exter Qual_Gd',\n",
       " 'Exter Qual_TA',\n",
       " 'Exter Cond_Fa',\n",
       " 'Exter Cond_Gd',\n",
       " 'Exter Cond_Po',\n",
       " 'Exter Cond_TA',\n",
       " 'Foundation_CBlock',\n",
       " 'Foundation_PConc',\n",
       " 'Foundation_Slab',\n",
       " 'Foundation_Stone',\n",
       " 'Foundation_Wood',\n",
       " 'Bsmt Qual_Gd',\n",
       " 'Bsmt Qual_TA',\n",
       " 'Bsmt Qual_FairPoor',\n",
       " 'Bsmt Qual_No Basement',\n",
       " 'HasAvGdBsmtExposure',\n",
       " 'BsmtFin Type 1_BLQ',\n",
       " 'BsmtFin Type 1_GLQ',\n",
       " 'BsmtFin Type 1_LwQ',\n",
       " 'BsmtFin Type 1_Rec',\n",
       " 'BsmtFin Type 1_Unf',\n",
       " 'BsmtFin Type 1_No Basement',\n",
       " 'BsmtFin SF 1',\n",
       " 'Bsmt Unf SF',\n",
       " 'Total Bsmt SF',\n",
       " 'Heating QC_Fa',\n",
       " 'Heating QC_Gd',\n",
       " 'Heating QC_TA',\n",
       " 'Central Air',\n",
       " 'NotStdElectrical',\n",
       " '1st Flr SF',\n",
       " '1st Flr SF > 3000',\n",
       " '2nd Flr SF',\n",
       " 'Low Qual Fin SF',\n",
       " 'Gr Liv Area',\n",
       " 'HasBsmtFullBath',\n",
       " 'HasBsmtHalfBath',\n",
       " 'Full Bath',\n",
       " 'Half Bath',\n",
       " 'Bedroom AbvGr',\n",
       " 'Kitchen AbvGr',\n",
       " 'Kitchen Qual_Gd',\n",
       " 'Kitchen Qual_TA',\n",
       " 'Kitchen Qual_Fa',\n",
       " 'TotRms AbvGrd',\n",
       " 'IsNotTypFunctional',\n",
       " 'HasFireplace',\n",
       " 'HasExGdFireplace',\n",
       " 'Garage Type_Attchd',\n",
       " 'Garage Type_Basment',\n",
       " 'Garage Type_BuiltIn',\n",
       " 'Garage Type_CarPort',\n",
       " 'Garage Type_Detchd',\n",
       " 'Garage Type_NoGarage',\n",
       " 'Garage Blt After House',\n",
       " 'Garage Finish_NoGarage',\n",
       " 'Garage Finish_RFn',\n",
       " 'Garage Finish_Unf',\n",
       " 'Garage Cars',\n",
       " 'Garage Area',\n",
       " 'IsNotPavedDrive',\n",
       " 'Wood Deck SF',\n",
       " 'Open Porch SF',\n",
       " 'Enclosed Porch',\n",
       " '3Ssn Porch',\n",
       " 'Screen Porch',\n",
       " 'Pool Area',\n",
       " 'HasFence',\n",
       " 'Misc Val',\n",
       " 'Mo Sold',\n",
       " 'Sale Type_CWD',\n",
       " 'Sale Type_Con',\n",
       " 'Sale Type_ConLD',\n",
       " 'Sale Type_ConLI',\n",
       " 'Sale Type_ConLw',\n",
       " 'Sale Type_New',\n",
       " 'Sale Type_Oth',\n",
       " 'Sale Type_WD ',\n",
       " 'Unique Old Houses',\n",
       " 'Log 1st Flr SF',\n",
       " 'Log Gr Liv Area',\n",
       " 'Log Lot Area']"
      ]
     },
     "execution_count": 5,
     "metadata": {},
     "output_type": "execute_result"
    }
   ],
   "source": [
    "var_list"
   ]
  },
  {
   "cell_type": "code",
   "execution_count": 6,
   "metadata": {},
   "outputs": [],
   "source": [
    "#Define X and y\n",
    "X = df_cl[var_list]\n",
    "y = df_cl[\"Log Sale Price\"]"
   ]
  },
  {
   "cell_type": "markdown",
   "metadata": {},
   "source": [
    "### Create train test split on dataframe"
   ]
  },
  {
   "cell_type": "code",
   "execution_count": 7,
   "metadata": {},
   "outputs": [],
   "source": [
    "# Create train test split\n",
    "X_train, X_test, y_train, y_test = train_test_split(X, y, test_size = .25, random_state=42)"
   ]
  },
  {
   "cell_type": "markdown",
   "metadata": {},
   "source": [
    "### Run LASSO model\n"
   ]
  },
  {
   "cell_type": "code",
   "execution_count": 8,
   "metadata": {},
   "outputs": [],
   "source": [
    "#First scale the data\n",
    "\n",
    "# Scale our data.\n",
    "# Relabeling scaled data as \"Z\" is common.\n",
    "sc = StandardScaler()\n",
    "Z_train = sc.fit_transform(X_train)\n",
    "Z_test = sc.transform(X_test)"
   ]
  },
  {
   "cell_type": "code",
   "execution_count": 9,
   "metadata": {},
   "outputs": [],
   "source": [
    "# Set up a list of Lasso alphas to check.\n",
    "l_alphas = np.logspace(-3, 0, 100)\n",
    "\n",
    "# Cross-validate over our list of Lasso alphas.\n",
    "lasso_cv = LassoCV(alphas=l_alphas, cv=5, max_iter=5000)\n",
    "\n",
    "# Fit model using best ridge alpha!\n",
    "lasso_model = lasso_cv.fit(Z_train, y_train);"
   ]
  },
  {
   "cell_type": "code",
   "execution_count": 10,
   "metadata": {},
   "outputs": [
    {
     "data": {
      "text/plain": [
       "0.002009233002565048"
      ]
     },
     "execution_count": 10,
     "metadata": {},
     "output_type": "execute_result"
    }
   ],
   "source": [
    "# Here is the optimal value of alpha\n",
    "lasso_model.alpha_"
   ]
  },
  {
   "cell_type": "code",
   "execution_count": 11,
   "metadata": {},
   "outputs": [
    {
     "name": "stdout",
     "output_type": "stream",
     "text": [
      "Train score: 0.92578212576411\n",
      "Test score: 0.8999260508704691\n"
     ]
    }
   ],
   "source": [
    "print(f'Train score:', lasso_model.score(Z_train, y_train))\n",
    "print(f'Test score:', lasso_model.score(Z_test, y_test))"
   ]
  },
  {
   "cell_type": "code",
   "execution_count": 12,
   "metadata": {},
   "outputs": [
    {
     "data": {
      "text/plain": [
       "array([ 1.41271299e-03,  0.00000000e+00, -1.27881531e-03,  2.79574632e-03,\n",
       "       -0.00000000e+00, -0.00000000e+00,  1.80397136e-03,  0.00000000e+00,\n",
       "       -0.00000000e+00,  4.91194247e-04, -2.41293839e-05, -3.46563037e-03,\n",
       "        0.00000000e+00, -0.00000000e+00,  7.00224002e-03,  0.00000000e+00,\n",
       "        0.00000000e+00,  2.51730008e-03,  0.00000000e+00, -1.33100431e-03,\n",
       "       -0.00000000e+00, -3.95082650e-03,  0.00000000e+00, -1.00791104e-02,\n",
       "       -0.00000000e+00,  0.00000000e+00,  0.00000000e+00, -1.78142211e-03,\n",
       "       -3.89517593e-03,  1.39763378e-04,  2.39767998e-03,  1.61073839e-03,\n",
       "        0.00000000e+00, -0.00000000e+00,  6.72623627e-03,  4.08787979e-03,\n",
       "        0.00000000e+00,  1.69547080e-02, -1.38903622e-02, -5.46316069e-05,\n",
       "        0.00000000e+00, -1.31539789e-02, -5.86014090e-03, -0.00000000e+00,\n",
       "       -0.00000000e+00,  2.07624358e-03, -1.83781309e-03,  1.28299242e-02,\n",
       "        2.02616292e-02, -7.24308402e-03, -0.00000000e+00, -3.56134961e-04,\n",
       "       -3.44015220e-03,  7.89125080e-03,  1.56573810e-02,  3.26807265e-03,\n",
       "       -0.00000000e+00, -1.12758966e-02, -0.00000000e+00, -0.00000000e+00,\n",
       "       -8.35661673e-05, -0.00000000e+00, -0.00000000e+00,  0.00000000e+00,\n",
       "        0.00000000e+00,  6.72262344e-03,  2.28137224e-03, -0.00000000e+00,\n",
       "        5.15162015e-04, -0.00000000e+00,  7.95901682e-02,  4.22243353e-02,\n",
       "       -6.27142553e-02, -2.11627254e-02,  5.79846390e-03,  1.42201746e-02,\n",
       "        0.00000000e+00, -0.00000000e+00,  2.01500251e-03,  0.00000000e+00,\n",
       "       -0.00000000e+00,  1.30156669e-03, -0.00000000e+00,  0.00000000e+00,\n",
       "       -3.56948163e-03,  5.72723563e-04,  0.00000000e+00,  3.29893841e-03,\n",
       "       -0.00000000e+00, -1.12755655e-02, -0.00000000e+00, -6.43097287e-03,\n",
       "       -0.00000000e+00, -0.00000000e+00, -2.63559554e-02,  2.28822348e-03,\n",
       "       -0.00000000e+00,  1.05209315e-02, -4.79339807e-03,  7.95524668e-04,\n",
       "        0.00000000e+00, -3.33568179e-03, -0.00000000e+00, -0.00000000e+00,\n",
       "       -4.80454605e-03,  1.38212630e-02,  0.00000000e+00,  4.23078666e-03,\n",
       "       -5.13553451e-06, -0.00000000e+00, -1.55086461e-02, -3.93426454e-04,\n",
       "        1.57987450e-02, -0.00000000e+00,  6.05238692e-03, -5.75847857e-03,\n",
       "       -2.36523107e-03, -1.14696810e-02,  6.68923373e-03, -1.80260904e-03,\n",
       "        0.00000000e+00, -2.86333558e-02,  0.00000000e+00, -8.83996356e-05,\n",
       "        0.00000000e+00,  1.52813679e-02,  1.24537787e-03,  1.12075738e-02,\n",
       "        3.08376246e-03, -0.00000000e+00, -1.27506706e-02, -1.82651890e-02,\n",
       "       -2.27708327e-02, -9.79638462e-03,  0.00000000e+00, -1.52605030e-02,\n",
       "        1.49695935e-02,  3.41079177e-03,  0.00000000e+00, -4.36701158e-03,\n",
       "        1.25461035e-03, -7.40667406e-03,  0.00000000e+00,  0.00000000e+00,\n",
       "        0.00000000e+00,  0.00000000e+00, -3.72623407e-03, -0.00000000e+00,\n",
       "        1.57598887e-02,  5.80665396e-03, -1.32993670e-02,  9.52933099e-03,\n",
       "        5.74840986e-03,  5.40355532e-03,  1.40439759e-03,  1.71080844e-02,\n",
       "       -4.57779768e-03,  0.00000000e+00, -1.06896927e-02, -0.00000000e+00,\n",
       "       -0.00000000e+00,  2.39879755e-03,  2.95372757e-03, -0.00000000e+00,\n",
       "        3.38758007e-03,  1.13491185e-02,  7.16287049e-03,  3.37062705e-03,\n",
       "        0.00000000e+00,  2.96943450e-02,  1.19529483e-01,  4.66503856e-02])"
      ]
     },
     "execution_count": 12,
     "metadata": {},
     "output_type": "execute_result"
    }
   ],
   "source": [
    "# Display model coefficients\n",
    "lasso_model.coef_"
   ]
  },
  {
   "cell_type": "code",
   "execution_count": 13,
   "metadata": {},
   "outputs": [],
   "source": [
    "#Compute predictions on test data\n",
    "preds_l = lasso_model.predict(Z_test)"
   ]
  },
  {
   "cell_type": "code",
   "execution_count": 14,
   "metadata": {},
   "outputs": [],
   "source": [
    "#Transform predictions from log scale\n",
    "exp_preds_l = np.exp(preds_l)"
   ]
  },
  {
   "cell_type": "code",
   "execution_count": 15,
   "metadata": {},
   "outputs": [
    {
     "data": {
      "text/plain": [
       "182185.68838142007"
      ]
     },
     "execution_count": 15,
     "metadata": {},
     "output_type": "execute_result"
    }
   ],
   "source": [
    "exp_preds_l.mean()"
   ]
  },
  {
   "cell_type": "code",
   "execution_count": 16,
   "metadata": {},
   "outputs": [],
   "source": [
    "#Compute residuals\n",
    "residuals_l = np.exp(y_test) - exp_preds_l"
   ]
  },
  {
   "cell_type": "code",
   "execution_count": 17,
   "metadata": {},
   "outputs": [
    {
     "data": {
      "image/png": "[encoded data removed]",
      "text/plain": [
       "<Figure size 432x288 with 1 Axes>"
      ]
     },
     "metadata": {
      "needs_background": "light"
     },
     "output_type": "display_data"
    }
   ],
   "source": [
    "plt.scatter(exp_preds_l, residuals_l)\n",
    "plt.axhline(0, color='r');"
   ]
  },
  {
   "cell_type": "code",
   "execution_count": 18,
   "metadata": {},
   "outputs": [
    {
     "data": {
      "text/plain": [
       "<matplotlib.collections.PathCollection at 0x1a35b9ccd0>"
      ]
     },
     "execution_count": 18,
     "metadata": {},
     "output_type": "execute_result"
    },
    {
     "data": {
      "image/png": "[encoded data removed]",
      "text/plain": [
       "<Figure size 432x288 with 1 Axes>"
      ]
     },
     "metadata": {
      "needs_background": "light"
     },
     "output_type": "display_data"
    }
   ],
   "source": [
    "plt.scatter(exp_preds_l, np.exp(y_test))"
   ]
  },
  {
   "cell_type": "code",
   "execution_count": 19,
   "metadata": {},
   "outputs": [
    {
     "data": {
      "text/plain": [
       "20072.632724986677"
      ]
     },
     "execution_count": 19,
     "metadata": {},
     "output_type": "execute_result"
    }
   ],
   "source": [
    "##### Calculate root mean squared error\n",
    "np.sqrt(metrics.mean_squared_error(np.exp(y_test), exp_preds_l))"
   ]
  },
  {
   "cell_type": "markdown",
   "metadata": {},
   "source": [
    "## Use Shapley Values to help translate model results"
   ]
  },
  {
   "cell_type": "code",
   "execution_count": null,
   "metadata": {},
   "outputs": [],
   "source": [
    "# See https://github.com/slundberg/shap for more info on this package\n",
    "# We used this a lot in driver analysis at my former company, so I thought it might be helpful here\n",
    "# print the JS visualization code to the notebook\n",
    "shap.initjs()"
   ]
  },
  {
   "cell_type": "code",
   "execution_count": 22,
   "metadata": {},
   "outputs": [],
   "source": [
    "explainer = shap.LinearExplainer(lasso_model, Z_train, feature_purturbation=\"interventional\")\n",
    "shap_values = explainer.shap_values(Z_train)"
   ]
  },
  {
   "cell_type": "code",
   "execution_count": 23,
   "metadata": {},
   "outputs": [
    {
     "data": {
      "image/png": "[encoded data removed]",
      "text/plain": [
       "<Figure size 576x828 with 2 Axes>"
      ]
     },
     "metadata": {
      "needs_background": "light"
     },
     "output_type": "display_data"
    }
   ],
   "source": [
    "shap.summary_plot(shap_values, Z_train, feature_names=var_list, max_display=25)"
   ]
  },
  {
   "cell_type": "code",
   "execution_count": 24,
   "metadata": {},
   "outputs": [
    {
     "data": {
      "image/png": "[encoded data removed]",
      "text/plain": [
       "<Figure size 576x828 with 1 Axes>"
      ]
     },
     "metadata": {
      "needs_background": "light"
     },
     "output_type": "display_data"
    }
   ],
   "source": [
    "shap.summary_plot(shap_values, Z_train, max_display=25, plot_type='bar', color='crimson', feature_names=var_list)"
   ]
  },
  {
   "cell_type": "markdown",
   "metadata": {},
   "source": [
    "## Score External Test Data"
   ]
  },
  {
   "cell_type": "code",
   "execution_count": 26,
   "metadata": {},
   "outputs": [
    {
     "data": {
      "text/html": [
       "<div>\n",
       "<style scoped>\n",
       "    .dataframe tbody tr th:only-of-type {\n",
       "        vertical-align: middle;\n",
       "    }\n",
       "\n",
       "    .dataframe tbody tr th {\n",
       "        vertical-align: top;\n",
       "    }\n",
       "\n",
       "    .dataframe thead th {\n",
       "        text-align: right;\n",
       "    }\n",
       "</style>\n",
       "<table border=\"1\" class=\"dataframe\">\n",
       "  <thead>\n",
       "    <tr style=\"text-align: right;\">\n",
       "      <th></th>\n",
       "      <th>Id</th>\n",
       "      <th>PID</th>\n",
       "      <th>Lot Frontage</th>\n",
       "      <th>Lot Area</th>\n",
       "      <th>Overall Qual</th>\n",
       "      <th>Overall Cond</th>\n",
       "      <th>Year Built</th>\n",
       "      <th>Year Remod/Add</th>\n",
       "      <th>BsmtFin SF 1</th>\n",
       "      <th>Bsmt Unf SF</th>\n",
       "      <th>...</th>\n",
       "      <th>Log Lot Area * Log 1st Flr SF</th>\n",
       "      <th>Garage Cars * Garage Area</th>\n",
       "      <th>Log Gr Liv Area * Log Lot Area</th>\n",
       "      <th>Log Gr Liv Area * Full Bath</th>\n",
       "      <th>Pool Area * Lot Lot Area</th>\n",
       "      <th>Age At Sale * Years Since Remod</th>\n",
       "      <th>Log Gr Liv Area ^ 2</th>\n",
       "      <th>Log Gr Liv Area ^ 3</th>\n",
       "      <th>Quality ^ 2</th>\n",
       "      <th>Quality ^ 3</th>\n",
       "    </tr>\n",
       "  </thead>\n",
       "  <tbody>\n",
       "    <tr>\n",
       "      <th>0</th>\n",
       "      <td>2658</td>\n",
       "      <td>902301120</td>\n",
       "      <td>69.000000</td>\n",
       "      <td>9142</td>\n",
       "      <td>6</td>\n",
       "      <td>8</td>\n",
       "      <td>1910</td>\n",
       "      <td>1950</td>\n",
       "      <td>0</td>\n",
       "      <td>1020</td>\n",
       "      <td>...</td>\n",
       "      <td>62.122870</td>\n",
       "      <td>440</td>\n",
       "      <td>68.990654</td>\n",
       "      <td>15.128477</td>\n",
       "      <td>0.0</td>\n",
       "      <td>5376</td>\n",
       "      <td>57.217704</td>\n",
       "      <td>432.808356</td>\n",
       "      <td>36</td>\n",
       "      <td>216</td>\n",
       "    </tr>\n",
       "    <tr>\n",
       "      <th>1</th>\n",
       "      <td>2718</td>\n",
       "      <td>905108090</td>\n",
       "      <td>68.915097</td>\n",
       "      <td>9662</td>\n",
       "      <td>5</td>\n",
       "      <td>4</td>\n",
       "      <td>1977</td>\n",
       "      <td>1977</td>\n",
       "      <td>0</td>\n",
       "      <td>1967</td>\n",
       "      <td>...</td>\n",
       "      <td>69.592880</td>\n",
       "      <td>1160</td>\n",
       "      <td>69.592880</td>\n",
       "      <td>15.168530</td>\n",
       "      <td>0.0</td>\n",
       "      <td>841</td>\n",
       "      <td>57.521073</td>\n",
       "      <td>436.255049</td>\n",
       "      <td>25</td>\n",
       "      <td>125</td>\n",
       "    </tr>\n",
       "    <tr>\n",
       "      <th>2</th>\n",
       "      <td>2414</td>\n",
       "      <td>528218130</td>\n",
       "      <td>58.000000</td>\n",
       "      <td>17104</td>\n",
       "      <td>7</td>\n",
       "      <td>5</td>\n",
       "      <td>2006</td>\n",
       "      <td>2006</td>\n",
       "      <td>554</td>\n",
       "      <td>100</td>\n",
       "      <td>...</td>\n",
       "      <td>63.339196</td>\n",
       "      <td>852</td>\n",
       "      <td>71.256427</td>\n",
       "      <td>14.621100</td>\n",
       "      <td>0.0</td>\n",
       "      <td>0</td>\n",
       "      <td>53.444144</td>\n",
       "      <td>390.706093</td>\n",
       "      <td>49</td>\n",
       "      <td>343</td>\n",
       "    </tr>\n",
       "    <tr>\n",
       "      <th>3</th>\n",
       "      <td>1989</td>\n",
       "      <td>902207150</td>\n",
       "      <td>60.000000</td>\n",
       "      <td>8520</td>\n",
       "      <td>5</td>\n",
       "      <td>6</td>\n",
       "      <td>1923</td>\n",
       "      <td>2006</td>\n",
       "      <td>0</td>\n",
       "      <td>968</td>\n",
       "      <td>...</td>\n",
       "      <td>62.222030</td>\n",
       "      <td>960</td>\n",
       "      <td>62.222030</td>\n",
       "      <td>6.875232</td>\n",
       "      <td>0.0</td>\n",
       "      <td>84</td>\n",
       "      <td>47.268816</td>\n",
       "      <td>324.984082</td>\n",
       "      <td>25</td>\n",
       "      <td>125</td>\n",
       "    </tr>\n",
       "    <tr>\n",
       "      <th>4</th>\n",
       "      <td>625</td>\n",
       "      <td>535105100</td>\n",
       "      <td>68.271963</td>\n",
       "      <td>9500</td>\n",
       "      <td>6</td>\n",
       "      <td>5</td>\n",
       "      <td>1963</td>\n",
       "      <td>1963</td>\n",
       "      <td>609</td>\n",
       "      <td>785</td>\n",
       "      <td>...</td>\n",
       "      <td>66.310883</td>\n",
       "      <td>1028</td>\n",
       "      <td>66.310883</td>\n",
       "      <td>7.239933</td>\n",
       "      <td>0.0</td>\n",
       "      <td>2116</td>\n",
       "      <td>52.416624</td>\n",
       "      <td>379.492824</td>\n",
       "      <td>36</td>\n",
       "      <td>216</td>\n",
       "    </tr>\n",
       "  </tbody>\n",
       "</table>\n",
       "<p>5 rows × 196 columns</p>\n",
       "</div>"
      ],
      "text/plain": [
       "     Id        PID  Lot Frontage  Lot Area  Overall Qual  Overall Cond  \\\n",
       "0  2658  902301120     69.000000      9142             6             8   \n",
       "1  2718  905108090     68.915097      9662             5             4   \n",
       "2  2414  528218130     58.000000     17104             7             5   \n",
       "3  1989  902207150     60.000000      8520             5             6   \n",
       "4   625  535105100     68.271963      9500             6             5   \n",
       "\n",
       "   Year Built  Year Remod/Add  BsmtFin SF 1  Bsmt Unf SF  ...  \\\n",
       "0        1910            1950             0         1020  ...   \n",
       "1        1977            1977             0         1967  ...   \n",
       "2        2006            2006           554          100  ...   \n",
       "3        1923            2006             0          968  ...   \n",
       "4        1963            1963           609          785  ...   \n",
       "\n",
       "   Log Lot Area * Log 1st Flr SF  Garage Cars * Garage Area  \\\n",
       "0                      62.122870                        440   \n",
       "1                      69.592880                       1160   \n",
       "2                      63.339196                        852   \n",
       "3                      62.222030                        960   \n",
       "4                      66.310883                       1028   \n",
       "\n",
       "   Log Gr Liv Area * Log Lot Area  Log Gr Liv Area * Full Bath  \\\n",
       "0                       68.990654                    15.128477   \n",
       "1                       69.592880                    15.168530   \n",
       "2                       71.256427                    14.621100   \n",
       "3                       62.222030                     6.875232   \n",
       "4                       66.310883                     7.239933   \n",
       "\n",
       "   Pool Area * Lot Lot Area  Age At Sale * Years Since Remod  \\\n",
       "0                       0.0                             5376   \n",
       "1                       0.0                              841   \n",
       "2                       0.0                                0   \n",
       "3                       0.0                               84   \n",
       "4                       0.0                             2116   \n",
       "\n",
       "   Log Gr Liv Area ^ 2  Log Gr Liv Area ^ 3  Quality ^ 2  Quality ^ 3  \n",
       "0            57.217704           432.808356           36          216  \n",
       "1            57.521073           436.255049           25          125  \n",
       "2            53.444144           390.706093           49          343  \n",
       "3            47.268816           324.984082           25          125  \n",
       "4            52.416624           379.492824           36          216  \n",
       "\n",
       "[5 rows x 196 columns]"
      ]
     },
     "execution_count": 26,
     "metadata": {},
     "output_type": "execute_result"
    }
   ],
   "source": [
    "#Get cleaned test data\n",
    "df_test = pd.read_csv(\"../datasets/test_cleaned.csv\")\n",
    "df_test.head()"
   ]
  },
  {
   "cell_type": "code",
   "execution_count": 27,
   "metadata": {},
   "outputs": [],
   "source": [
    "#Define X variables for test data\n",
    "X_t = df_test[var_list]"
   ]
  },
  {
   "cell_type": "code",
   "execution_count": 28,
   "metadata": {},
   "outputs": [],
   "source": [
    "# Run variables through standard scaler\n",
    "Z_test_t = sc.fit_transform(X_t)"
   ]
  },
  {
   "cell_type": "code",
   "execution_count": 29,
   "metadata": {},
   "outputs": [],
   "source": [
    "# Compute predictions on test data\n",
    "preds_t = lasso_model.predict(Z_test_t)"
   ]
  },
  {
   "cell_type": "code",
   "execution_count": 30,
   "metadata": {},
   "outputs": [],
   "source": [
    "# preds_t"
   ]
  },
  {
   "cell_type": "code",
   "execution_count": 31,
   "metadata": {},
   "outputs": [],
   "source": [
    "# Transform predictions from log scale\n",
    "exp_preds_t = np.exp(preds_t)"
   ]
  },
  {
   "cell_type": "code",
   "execution_count": 32,
   "metadata": {},
   "outputs": [
    {
     "data": {
      "text/plain": [
       "179094.7835906881"
      ]
     },
     "execution_count": 32,
     "metadata": {},
     "output_type": "execute_result"
    }
   ],
   "source": [
    "exp_preds_t.mean()"
   ]
  },
  {
   "cell_type": "code",
   "execution_count": 33,
   "metadata": {},
   "outputs": [],
   "source": [
    "# Create SalePrice variable for test data file for kaggle submission\n",
    "df_test[\"SalePrice\"] = exp_preds_t"
   ]
  },
  {
   "cell_type": "code",
   "execution_count": 34,
   "metadata": {},
   "outputs": [
    {
     "data": {
      "text/html": [
       "<div>\n",
       "<style scoped>\n",
       "    .dataframe tbody tr th:only-of-type {\n",
       "        vertical-align: middle;\n",
       "    }\n",
       "\n",
       "    .dataframe tbody tr th {\n",
       "        vertical-align: top;\n",
       "    }\n",
       "\n",
       "    .dataframe thead th {\n",
       "        text-align: right;\n",
       "    }\n",
       "</style>\n",
       "<table border=\"1\" class=\"dataframe\">\n",
       "  <thead>\n",
       "    <tr style=\"text-align: right;\">\n",
       "      <th></th>\n",
       "      <th>Id</th>\n",
       "      <th>PID</th>\n",
       "      <th>Lot Frontage</th>\n",
       "      <th>Lot Area</th>\n",
       "      <th>Overall Qual</th>\n",
       "      <th>Overall Cond</th>\n",
       "      <th>Year Built</th>\n",
       "      <th>Year Remod/Add</th>\n",
       "      <th>BsmtFin SF 1</th>\n",
       "      <th>Bsmt Unf SF</th>\n",
       "      <th>...</th>\n",
       "      <th>Garage Cars * Garage Area</th>\n",
       "      <th>Log Gr Liv Area * Log Lot Area</th>\n",
       "      <th>Log Gr Liv Area * Full Bath</th>\n",
       "      <th>Pool Area * Lot Lot Area</th>\n",
       "      <th>Age At Sale * Years Since Remod</th>\n",
       "      <th>Log Gr Liv Area ^ 2</th>\n",
       "      <th>Log Gr Liv Area ^ 3</th>\n",
       "      <th>Quality ^ 2</th>\n",
       "      <th>Quality ^ 3</th>\n",
       "      <th>SalePrice</th>\n",
       "    </tr>\n",
       "  </thead>\n",
       "  <tbody>\n",
       "    <tr>\n",
       "      <th>0</th>\n",
       "      <td>2658</td>\n",
       "      <td>902301120</td>\n",
       "      <td>69.000000</td>\n",
       "      <td>9142</td>\n",
       "      <td>6</td>\n",
       "      <td>8</td>\n",
       "      <td>1910</td>\n",
       "      <td>1950</td>\n",
       "      <td>0</td>\n",
       "      <td>1020</td>\n",
       "      <td>...</td>\n",
       "      <td>440</td>\n",
       "      <td>68.990654</td>\n",
       "      <td>15.128477</td>\n",
       "      <td>0.0</td>\n",
       "      <td>5376</td>\n",
       "      <td>57.217704</td>\n",
       "      <td>432.808356</td>\n",
       "      <td>36</td>\n",
       "      <td>216</td>\n",
       "      <td>135405.762854</td>\n",
       "    </tr>\n",
       "    <tr>\n",
       "      <th>1</th>\n",
       "      <td>2718</td>\n",
       "      <td>905108090</td>\n",
       "      <td>68.915097</td>\n",
       "      <td>9662</td>\n",
       "      <td>5</td>\n",
       "      <td>4</td>\n",
       "      <td>1977</td>\n",
       "      <td>1977</td>\n",
       "      <td>0</td>\n",
       "      <td>1967</td>\n",
       "      <td>...</td>\n",
       "      <td>1160</td>\n",
       "      <td>69.592880</td>\n",
       "      <td>15.168530</td>\n",
       "      <td>0.0</td>\n",
       "      <td>841</td>\n",
       "      <td>57.521073</td>\n",
       "      <td>436.255049</td>\n",
       "      <td>25</td>\n",
       "      <td>125</td>\n",
       "      <td>154646.760386</td>\n",
       "    </tr>\n",
       "    <tr>\n",
       "      <th>2</th>\n",
       "      <td>2414</td>\n",
       "      <td>528218130</td>\n",
       "      <td>58.000000</td>\n",
       "      <td>17104</td>\n",
       "      <td>7</td>\n",
       "      <td>5</td>\n",
       "      <td>2006</td>\n",
       "      <td>2006</td>\n",
       "      <td>554</td>\n",
       "      <td>100</td>\n",
       "      <td>...</td>\n",
       "      <td>852</td>\n",
       "      <td>71.256427</td>\n",
       "      <td>14.621100</td>\n",
       "      <td>0.0</td>\n",
       "      <td>0</td>\n",
       "      <td>53.444144</td>\n",
       "      <td>390.706093</td>\n",
       "      <td>49</td>\n",
       "      <td>343</td>\n",
       "      <td>228015.252439</td>\n",
       "    </tr>\n",
       "    <tr>\n",
       "      <th>3</th>\n",
       "      <td>1989</td>\n",
       "      <td>902207150</td>\n",
       "      <td>60.000000</td>\n",
       "      <td>8520</td>\n",
       "      <td>5</td>\n",
       "      <td>6</td>\n",
       "      <td>1923</td>\n",
       "      <td>2006</td>\n",
       "      <td>0</td>\n",
       "      <td>968</td>\n",
       "      <td>...</td>\n",
       "      <td>960</td>\n",
       "      <td>62.222030</td>\n",
       "      <td>6.875232</td>\n",
       "      <td>0.0</td>\n",
       "      <td>84</td>\n",
       "      <td>47.268816</td>\n",
       "      <td>324.984082</td>\n",
       "      <td>25</td>\n",
       "      <td>125</td>\n",
       "      <td>105976.081506</td>\n",
       "    </tr>\n",
       "    <tr>\n",
       "      <th>4</th>\n",
       "      <td>625</td>\n",
       "      <td>535105100</td>\n",
       "      <td>68.271963</td>\n",
       "      <td>9500</td>\n",
       "      <td>6</td>\n",
       "      <td>5</td>\n",
       "      <td>1963</td>\n",
       "      <td>1963</td>\n",
       "      <td>609</td>\n",
       "      <td>785</td>\n",
       "      <td>...</td>\n",
       "      <td>1028</td>\n",
       "      <td>66.310883</td>\n",
       "      <td>7.239933</td>\n",
       "      <td>0.0</td>\n",
       "      <td>2116</td>\n",
       "      <td>52.416624</td>\n",
       "      <td>379.492824</td>\n",
       "      <td>36</td>\n",
       "      <td>216</td>\n",
       "      <td>172695.152856</td>\n",
       "    </tr>\n",
       "  </tbody>\n",
       "</table>\n",
       "<p>5 rows × 197 columns</p>\n",
       "</div>"
      ],
      "text/plain": [
       "     Id        PID  Lot Frontage  Lot Area  Overall Qual  Overall Cond  \\\n",
       "0  2658  902301120     69.000000      9142             6             8   \n",
       "1  2718  905108090     68.915097      9662             5             4   \n",
       "2  2414  528218130     58.000000     17104             7             5   \n",
       "3  1989  902207150     60.000000      8520             5             6   \n",
       "4   625  535105100     68.271963      9500             6             5   \n",
       "\n",
       "   Year Built  Year Remod/Add  BsmtFin SF 1  Bsmt Unf SF  ...  \\\n",
       "0        1910            1950             0         1020  ...   \n",
       "1        1977            1977             0         1967  ...   \n",
       "2        2006            2006           554          100  ...   \n",
       "3        1923            2006             0          968  ...   \n",
       "4        1963            1963           609          785  ...   \n",
       "\n",
       "   Garage Cars * Garage Area  Log Gr Liv Area * Log Lot Area  \\\n",
       "0                        440                       68.990654   \n",
       "1                       1160                       69.592880   \n",
       "2                        852                       71.256427   \n",
       "3                        960                       62.222030   \n",
       "4                       1028                       66.310883   \n",
       "\n",
       "   Log Gr Liv Area * Full Bath  Pool Area * Lot Lot Area  \\\n",
       "0                    15.128477                       0.0   \n",
       "1                    15.168530                       0.0   \n",
       "2                    14.621100                       0.0   \n",
       "3                     6.875232                       0.0   \n",
       "4                     7.239933                       0.0   \n",
       "\n",
       "   Age At Sale * Years Since Remod  Log Gr Liv Area ^ 2  Log Gr Liv Area ^ 3  \\\n",
       "0                             5376            57.217704           432.808356   \n",
       "1                              841            57.521073           436.255049   \n",
       "2                                0            53.444144           390.706093   \n",
       "3                               84            47.268816           324.984082   \n",
       "4                             2116            52.416624           379.492824   \n",
       "\n",
       "   Quality ^ 2  Quality ^ 3      SalePrice  \n",
       "0           36          216  135405.762854  \n",
       "1           25          125  154646.760386  \n",
       "2           49          343  228015.252439  \n",
       "3           25          125  105976.081506  \n",
       "4           36          216  172695.152856  \n",
       "\n",
       "[5 rows x 197 columns]"
      ]
     },
     "execution_count": 34,
     "metadata": {},
     "output_type": "execute_result"
    }
   ],
   "source": [
    "df_test.head()"
   ]
  },
  {
   "cell_type": "code",
   "execution_count": 39,
   "metadata": {},
   "outputs": [],
   "source": [
    "# Save file to csv for kaggle submission\n",
    "df_test[[\"Id\", \"SalePrice\"]].to_csv(\"../datasets/submission.csv\", index=False)"
   ]
  },
  {
   "cell_type": "code",
   "execution_count": null,
   "metadata": {},
   "outputs": [],
   "source": []
  }
 ],
 "metadata": {
  "kernelspec": {
   "display_name": "Python 3",
   "language": "python",
   "name": "python3"
  },
  "language_info": {
   "codemirror_mode": {
    "name": "ipython",
    "version": 3
   },
   "file_extension": ".py",
   "mimetype": "text/x-python",
   "name": "python",
   "nbconvert_exporter": "python",
   "pygments_lexer": "ipython3",
   "version": "3.7.7"
  }
 },
 "nbformat": 4,
 "nbformat_minor": 4
}
