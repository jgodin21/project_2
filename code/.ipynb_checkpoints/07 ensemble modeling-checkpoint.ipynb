{
 "cells": [
  {
   "cell_type": "markdown",
   "metadata": {},
   "source": [
    "# Imports"
   ]
  },
  {
   "cell_type": "code",
   "execution_count": 1,
   "metadata": {},
   "outputs": [],
   "source": [
    "import numpy as np\n",
    "import pandas as pd\n",
    "import matplotlib.pyplot as plt\n",
    "import seaborn as sns\n",
    "from sklearn.linear_model import LinearRegression, LassoCV, RidgeCV\n",
    "from sklearn.model_selection import train_test_split, cross_val_score\n",
    "from sklearn.preprocessing import PolynomialFeatures, StandardScaler, PowerTransformer\n",
    "from sklearn import metrics\n",
    "import statsmodels.api as sm\n",
    "\n",
    "%matplotlib inline"
   ]
  },
  {
   "cell_type": "markdown",
   "metadata": {},
   "source": [
    "# Get Cleaned Train Data"
   ]
  },
  {
   "cell_type": "code",
   "execution_count": 2,
   "metadata": {},
   "outputs": [],
   "source": [
    "df_cl = pd.read_csv(\"../datasets/train_cleaned.csv\")"
   ]
  },
  {
   "cell_type": "markdown",
   "metadata": {},
   "source": [
    "## Run ensemble of linear regression models, let's see what happens"
   ]
  },
  {
   "cell_type": "markdown",
   "metadata": {},
   "source": [
    "### Model 1 - Top variables plus Style and neighborhood variables"
   ]
  },
  {
   "cell_type": "code",
   "execution_count": 3,
   "metadata": {},
   "outputs": [],
   "source": [
    "# Define X & y variables\n",
    "X_list_1 = ['Overall Qual', 'Gr Liv Area', 'Garage Cars', 'Total Bsmt SF', '1st Flr SF', 'Age At Sale', \n",
    "            'Years Since Remod/Add', 'TotRms AbvGrd', 'HasFireplace', \n",
    "            'BsmtFin Type 1_GLQ','MS SubClass_20', 'MS SubClass_30', 'MS SubClass_45', \n",
    "            'MS SubClass_50', 'MS SubClass_60', 'MS SubClass_70', 'MS SubClass_75',  \n",
    "            'MS SubClass_80', 'MS SubClass_85', 'MS SubClass_90',   \n",
    "            'MS SubClass_180', 'MS SubClass_190',   \n",
    "            'MS Zoning_FV', 'MS Zoning_RH', 'MS Zoning_RL', 'MS Zoning_RM',  \n",
    "            'Neighborhood_BrDale', 'Neighborhood_BrkSide', 'Neighborhood_ClearCr',  \n",
    "            'Neighborhood_CollgCr', 'Neighborhood_Crawfor', 'Neighborhood_Edwards', 'Neighborhood_Gilbert',  \n",
    "            'Neighborhood_IDOTRR',   \n",
    "            'Neighborhood_MeadowV', 'Neighborhood_Mitchel', 'Neighborhood_NAmes',   \n",
    "            'Neighborhood_NWAmes', 'Neighborhood_NoRidge', 'Neighborhood_NridgHt', 'Neighborhood_OldTown',  \n",
    "            'Neighborhood_SWISU', 'Neighborhood_Sawyer', 'Neighborhood_SawyerW', 'Neighborhood_Somerst',  \n",
    "            'Neighborhood_StoneBr',   \n",
    "            'Bldg Type_Duplex', 'Bldg Type_TwnhsE', 'House Style_2.5Fin']\n",
    "X1 = df_cl[X_list_1]\n",
    "y = df_cl[\"SalePrice\"]"
   ]
  },
  {
   "cell_type": "code",
   "execution_count": 4,
   "metadata": {},
   "outputs": [],
   "source": [
    "# Create train test split\n",
    "X1_train, X1_test, y_train, y_test = train_test_split(X1, y, test_size = .25, random_state=42)"
   ]
  },
  {
   "cell_type": "markdown",
   "metadata": {},
   "source": [
    "### Run PowerTransformer on X data"
   ]
  },
  {
   "cell_type": "code",
   "execution_count": 5,
   "metadata": {},
   "outputs": [],
   "source": [
    "pt = PowerTransformer()\n",
    "pt.fit(X1_train)\n",
    "X1_train = pt.transform(X1_train)\n",
    "X1_test = pt.transform(X1_test)"
   ]
  },
  {
   "cell_type": "markdown",
   "metadata": {},
   "source": [
    "### Run PowerTransformer on Y data"
   ]
  },
  {
   "cell_type": "code",
   "execution_count": 6,
   "metadata": {},
   "outputs": [],
   "source": [
    "pt_y = PowerTransformer()\n",
    "# PowerTransformer requires a matrix/DataFrame, which is why we're using the .to_frame() method on y_train\n",
    "pt_y.fit(y_train.to_frame()) \n",
    "y_train_pt = pt_y.transform(y_train.to_frame())\n",
    "y_test_pt = pt_y.transform(y_test.to_frame())"
   ]
  },
  {
   "cell_type": "markdown",
   "metadata": {},
   "source": [
    "### Instantiate models"
   ]
  },
  {
   "cell_type": "code",
   "execution_count": 7,
   "metadata": {},
   "outputs": [],
   "source": [
    "# Instantiate model\n",
    "lm1 = LinearRegression()"
   ]
  },
  {
   "cell_type": "markdown",
   "metadata": {},
   "source": [
    "### Cross Validation"
   ]
  },
  {
   "cell_type": "code",
   "execution_count": 8,
   "metadata": {},
   "outputs": [
    {
     "data": {
      "text/plain": [
       "0.8653097532702411"
      ]
     },
     "execution_count": 8,
     "metadata": {},
     "output_type": "execute_result"
    }
   ],
   "source": [
    "# Run cross validation\n",
    "cross_val_score(lm1, X1_train, y_train_pt, cv=5).mean()"
   ]
  },
  {
   "cell_type": "markdown",
   "metadata": {},
   "source": [
    "### Model Fit & Evaluation"
   ]
  },
  {
   "cell_type": "code",
   "execution_count": 9,
   "metadata": {},
   "outputs": [],
   "source": [
    "# Fit model\n",
    "lm1.fit(X1_train, y_train_pt);"
   ]
  },
  {
   "cell_type": "code",
   "execution_count": 10,
   "metadata": {},
   "outputs": [
    {
     "data": {
      "text/plain": [
       "0.8786068748618475"
      ]
     },
     "execution_count": 10,
     "metadata": {},
     "output_type": "execute_result"
    }
   ],
   "source": [
    "# Score training data\n",
    "lm1.score(X1_train, y_train_pt)"
   ]
  },
  {
   "cell_type": "code",
   "execution_count": 11,
   "metadata": {},
   "outputs": [
    {
     "data": {
      "text/plain": [
       "0.8648440937006815"
      ]
     },
     "execution_count": 11,
     "metadata": {},
     "output_type": "execute_result"
    }
   ],
   "source": [
    "# Score test data\n",
    "lm1.score(X1_test, y_test_pt)"
   ]
  },
  {
   "cell_type": "markdown",
   "metadata": {},
   "source": [
    "### Check residuals"
   ]
  },
  {
   "cell_type": "code",
   "execution_count": 12,
   "metadata": {},
   "outputs": [],
   "source": [
    "preds1 = lm1.predict(X1_test)"
   ]
  },
  {
   "cell_type": "code",
   "execution_count": 13,
   "metadata": {},
   "outputs": [
    {
     "data": {
      "text/plain": [
       "0.012159766349883583"
      ]
     },
     "execution_count": 13,
     "metadata": {},
     "output_type": "execute_result"
    }
   ],
   "source": [
    "preds1.mean()"
   ]
  },
  {
   "cell_type": "code",
   "execution_count": 14,
   "metadata": {},
   "outputs": [],
   "source": [
    "pred1_reversed = pt_y.inverse_transform(preds1.reshape(-1,1))"
   ]
  },
  {
   "cell_type": "code",
   "execution_count": 15,
   "metadata": {},
   "outputs": [
    {
     "data": {
      "text/plain": [
       "180124.52293906393"
      ]
     },
     "execution_count": 15,
     "metadata": {},
     "output_type": "execute_result"
    }
   ],
   "source": [
    "pred1_reversed.mean()"
   ]
  },
  {
   "cell_type": "code",
   "execution_count": 16,
   "metadata": {},
   "outputs": [],
   "source": [
    "residuals = y_test_pt - preds1"
   ]
  },
  {
   "cell_type": "code",
   "execution_count": 17,
   "metadata": {
    "scrolled": false
   },
   "outputs": [
    {
     "data": {
      "image/png": "[encoded data removed]",
      "text/plain": [
       "<Figure size 432x288 with 1 Axes>"
      ]
     },
     "metadata": {
      "needs_background": "light"
     },
     "output_type": "display_data"
    }
   ],
   "source": [
    "plt.scatter(pred1_reversed, residuals)\n",
    "plt.axhline(0, color='r');"
   ]
  },
  {
   "cell_type": "code",
   "execution_count": 19,
   "metadata": {},
   "outputs": [
    {
     "data": {
      "text/plain": [
       "26004.987880626064"
      ]
     },
     "execution_count": 19,
     "metadata": {},
     "output_type": "execute_result"
    }
   ],
   "source": [
    "# Calculate root mean squared error\n",
    "np.sqrt(metrics.mean_squared_error(y_test, pred1_reversed))"
   ]
  },
  {
   "cell_type": "code",
   "execution_count": 2220,
   "metadata": {},
   "outputs": [],
   "source": [
    "X = sm.add_constant(X1_train)\n",
    "y = y_train_pt\n",
    "model = sm.OLS(y, X).fit()"
   ]
  },
  {
   "cell_type": "code",
   "execution_count": 2221,
   "metadata": {
    "scrolled": false
   },
   "outputs": [
    {
     "data": {
      "text/html": [
       "<table class=\"simpletable\">\n",
       "<caption>OLS Regression Results</caption>\n",
       "<tr>\n",
       "  <th>Dep. Variable:</th>            <td>y</td>        <th>  R-squared:         </th> <td>   0.879</td>\n",
       "</tr>\n",
       "<tr>\n",
       "  <th>Model:</th>                   <td>OLS</td>       <th>  Adj. R-squared:    </th> <td>   0.875</td>\n",
       "</tr>\n",
       "<tr>\n",
       "  <th>Method:</th>             <td>Least Squares</td>  <th>  F-statistic:       </th> <td>   224.5</td>\n",
       "</tr>\n",
       "<tr>\n",
       "  <th>Date:</th>             <td>Sun, 05 Apr 2020</td> <th>  Prob (F-statistic):</th>  <td>  0.00</td> \n",
       "</tr>\n",
       "<tr>\n",
       "  <th>Time:</th>                 <td>23:46:05</td>     <th>  Log-Likelihood:    </th> <td> -560.72</td>\n",
       "</tr>\n",
       "<tr>\n",
       "  <th>No. Observations:</th>      <td>  1538</td>      <th>  AIC:               </th> <td>   1219.</td>\n",
       "</tr>\n",
       "<tr>\n",
       "  <th>Df Residuals:</th>          <td>  1489</td>      <th>  BIC:               </th> <td>   1481.</td>\n",
       "</tr>\n",
       "<tr>\n",
       "  <th>Df Model:</th>              <td>    48</td>      <th>                     </th>     <td> </td>   \n",
       "</tr>\n",
       "<tr>\n",
       "  <th>Covariance Type:</th>      <td>nonrobust</td>    <th>                     </th>     <td> </td>   \n",
       "</tr>\n",
       "</table>\n",
       "<table class=\"simpletable\">\n",
       "<tr>\n",
       "    <td></td>       <th>coef</th>     <th>std err</th>      <th>t</th>      <th>P>|t|</th>  <th>[0.025</th>    <th>0.975]</th>  \n",
       "</tr>\n",
       "<tr>\n",
       "  <th>const</th> <td>-2.341e-15</td> <td>    0.009</td> <td>-2.59e-13</td> <td> 1.000</td> <td>   -0.018</td> <td>    0.018</td>\n",
       "</tr>\n",
       "<tr>\n",
       "  <th>x1</th>    <td>    0.2536</td> <td>    0.018</td> <td>   14.317</td> <td> 0.000</td> <td>    0.219</td> <td>    0.288</td>\n",
       "</tr>\n",
       "<tr>\n",
       "  <th>x2</th>    <td>    0.2792</td> <td>    0.028</td> <td>    9.863</td> <td> 0.000</td> <td>    0.224</td> <td>    0.335</td>\n",
       "</tr>\n",
       "<tr>\n",
       "  <th>x3</th>    <td>    0.0822</td> <td>    0.013</td> <td>    6.148</td> <td> 0.000</td> <td>    0.056</td> <td>    0.108</td>\n",
       "</tr>\n",
       "<tr>\n",
       "  <th>x4</th>    <td>    0.0785</td> <td>    0.015</td> <td>    5.168</td> <td> 0.000</td> <td>    0.049</td> <td>    0.108</td>\n",
       "</tr>\n",
       "<tr>\n",
       "  <th>x5</th>    <td>    0.0751</td> <td>    0.024</td> <td>    3.093</td> <td> 0.002</td> <td>    0.027</td> <td>    0.123</td>\n",
       "</tr>\n",
       "<tr>\n",
       "  <th>x6</th>    <td>   -0.0200</td> <td>    0.026</td> <td>   -0.755</td> <td> 0.451</td> <td>   -0.072</td> <td>    0.032</td>\n",
       "</tr>\n",
       "<tr>\n",
       "  <th>x7</th>    <td>   -0.1242</td> <td>    0.015</td> <td>   -8.170</td> <td> 0.000</td> <td>   -0.154</td> <td>   -0.094</td>\n",
       "</tr>\n",
       "<tr>\n",
       "  <th>x8</th>    <td>   -0.0389</td> <td>    0.018</td> <td>   -2.222</td> <td> 0.026</td> <td>   -0.073</td> <td>   -0.005</td>\n",
       "</tr>\n",
       "<tr>\n",
       "  <th>x9</th>    <td>    0.0638</td> <td>    0.012</td> <td>    5.342</td> <td> 0.000</td> <td>    0.040</td> <td>    0.087</td>\n",
       "</tr>\n",
       "<tr>\n",
       "  <th>x10</th>   <td>    0.0774</td> <td>    0.011</td> <td>    6.766</td> <td> 0.000</td> <td>    0.055</td> <td>    0.100</td>\n",
       "</tr>\n",
       "<tr>\n",
       "  <th>x11</th>   <td>    0.2026</td> <td>    0.033</td> <td>    6.111</td> <td> 0.000</td> <td>    0.138</td> <td>    0.268</td>\n",
       "</tr>\n",
       "<tr>\n",
       "  <th>x12</th>   <td>    0.0412</td> <td>    0.018</td> <td>    2.319</td> <td> 0.021</td> <td>    0.006</td> <td>    0.076</td>\n",
       "</tr>\n",
       "<tr>\n",
       "  <th>x13</th>   <td>    0.0374</td> <td>    0.011</td> <td>    3.552</td> <td> 0.000</td> <td>    0.017</td> <td>    0.058</td>\n",
       "</tr>\n",
       "<tr>\n",
       "  <th>x14</th>   <td>    0.1018</td> <td>    0.022</td> <td>    4.644</td> <td> 0.000</td> <td>    0.059</td> <td>    0.145</td>\n",
       "</tr>\n",
       "<tr>\n",
       "  <th>x15</th>   <td>    0.1879</td> <td>    0.028</td> <td>    6.782</td> <td> 0.000</td> <td>    0.134</td> <td>    0.242</td>\n",
       "</tr>\n",
       "<tr>\n",
       "  <th>x16</th>   <td>    0.0748</td> <td>    0.018</td> <td>    4.215</td> <td> 0.000</td> <td>    0.040</td> <td>    0.110</td>\n",
       "</tr>\n",
       "<tr>\n",
       "  <th>x17</th>   <td>    0.0375</td> <td>    0.012</td> <td>    3.164</td> <td> 0.002</td> <td>    0.014</td> <td>    0.061</td>\n",
       "</tr>\n",
       "<tr>\n",
       "  <th>x18</th>   <td>    0.0893</td> <td>    0.015</td> <td>    5.793</td> <td> 0.000</td> <td>    0.059</td> <td>    0.120</td>\n",
       "</tr>\n",
       "<tr>\n",
       "  <th>x19</th>   <td>    0.0673</td> <td>    0.012</td> <td>    5.594</td> <td> 0.000</td> <td>    0.044</td> <td>    0.091</td>\n",
       "</tr>\n",
       "<tr>\n",
       "  <th>x20</th>   <td>    0.0192</td> <td>    0.008</td> <td>    2.513</td> <td> 0.012</td> <td>    0.004</td> <td>    0.034</td>\n",
       "</tr>\n",
       "<tr>\n",
       "  <th>x21</th>   <td>    0.0184</td> <td>    0.010</td> <td>    1.774</td> <td> 0.076</td> <td>   -0.002</td> <td>    0.039</td>\n",
       "</tr>\n",
       "<tr>\n",
       "  <th>x22</th>   <td>    0.0428</td> <td>    0.014</td> <td>    3.060</td> <td> 0.002</td> <td>    0.015</td> <td>    0.070</td>\n",
       "</tr>\n",
       "<tr>\n",
       "  <th>x23</th>   <td>    0.1943</td> <td>    0.032</td> <td>    6.004</td> <td> 0.000</td> <td>    0.131</td> <td>    0.258</td>\n",
       "</tr>\n",
       "<tr>\n",
       "  <th>x24</th>   <td>    0.0611</td> <td>    0.014</td> <td>    4.447</td> <td> 0.000</td> <td>    0.034</td> <td>    0.088</td>\n",
       "</tr>\n",
       "<tr>\n",
       "  <th>x25</th>   <td>    0.2850</td> <td>    0.047</td> <td>    6.030</td> <td> 0.000</td> <td>    0.192</td> <td>    0.378</td>\n",
       "</tr>\n",
       "<tr>\n",
       "  <th>x26</th>   <td>    0.2434</td> <td>    0.038</td> <td>    6.444</td> <td> 0.000</td> <td>    0.169</td> <td>    0.318</td>\n",
       "</tr>\n",
       "<tr>\n",
       "  <th>x27</th>   <td>   -0.0183</td> <td>    0.012</td> <td>   -1.569</td> <td> 0.117</td> <td>   -0.041</td> <td>    0.005</td>\n",
       "</tr>\n",
       "<tr>\n",
       "  <th>x28</th>   <td>   -0.0415</td> <td>    0.016</td> <td>   -2.597</td> <td> 0.009</td> <td>   -0.073</td> <td>   -0.010</td>\n",
       "</tr>\n",
       "<tr>\n",
       "  <th>x29</th>   <td>    0.0159</td> <td>    0.010</td> <td>    1.532</td> <td> 0.126</td> <td>   -0.004</td> <td>    0.036</td>\n",
       "</tr>\n",
       "<tr>\n",
       "  <th>x30</th>   <td>   -0.0339</td> <td>    0.015</td> <td>   -2.221</td> <td> 0.027</td> <td>   -0.064</td> <td>   -0.004</td>\n",
       "</tr>\n",
       "<tr>\n",
       "  <th>x31</th>   <td>    0.0322</td> <td>    0.013</td> <td>    2.478</td> <td> 0.013</td> <td>    0.007</td> <td>    0.058</td>\n",
       "</tr>\n",
       "<tr>\n",
       "  <th>x32</th>   <td>   -0.0970</td> <td>    0.016</td> <td>   -6.175</td> <td> 0.000</td> <td>   -0.128</td> <td>   -0.066</td>\n",
       "</tr>\n",
       "<tr>\n",
       "  <th>x33</th>   <td>   -0.0437</td> <td>    0.014</td> <td>   -3.132</td> <td> 0.002</td> <td>   -0.071</td> <td>   -0.016</td>\n",
       "</tr>\n",
       "<tr>\n",
       "  <th>x34</th>   <td>   -0.0851</td> <td>    0.018</td> <td>   -4.687</td> <td> 0.000</td> <td>   -0.121</td> <td>   -0.049</td>\n",
       "</tr>\n",
       "<tr>\n",
       "  <th>x35</th>   <td>   -0.0306</td> <td>    0.012</td> <td>   -2.467</td> <td> 0.014</td> <td>   -0.055</td> <td>   -0.006</td>\n",
       "</tr>\n",
       "<tr>\n",
       "  <th>x36</th>   <td>   -0.0160</td> <td>    0.013</td> <td>   -1.254</td> <td> 0.210</td> <td>   -0.041</td> <td>    0.009</td>\n",
       "</tr>\n",
       "<tr>\n",
       "  <th>x37</th>   <td>   -0.0472</td> <td>    0.020</td> <td>   -2.406</td> <td> 0.016</td> <td>   -0.086</td> <td>   -0.009</td>\n",
       "</tr>\n",
       "<tr>\n",
       "  <th>x38</th>   <td>   -0.0302</td> <td>    0.013</td> <td>   -2.283</td> <td> 0.023</td> <td>   -0.056</td> <td>   -0.004</td>\n",
       "</tr>\n",
       "<tr>\n",
       "  <th>x39</th>   <td>    0.0279</td> <td>    0.012</td> <td>    2.423</td> <td> 0.015</td> <td>    0.005</td> <td>    0.050</td>\n",
       "</tr>\n",
       "<tr>\n",
       "  <th>x40</th>   <td>    0.0527</td> <td>    0.013</td> <td>    3.995</td> <td> 0.000</td> <td>    0.027</td> <td>    0.079</td>\n",
       "</tr>\n",
       "<tr>\n",
       "  <th>x41</th>   <td>   -0.1171</td> <td>    0.022</td> <td>   -5.436</td> <td> 0.000</td> <td>   -0.159</td> <td>   -0.075</td>\n",
       "</tr>\n",
       "<tr>\n",
       "  <th>x42</th>   <td>   -0.0366</td> <td>    0.012</td> <td>   -3.130</td> <td> 0.002</td> <td>   -0.060</td> <td>   -0.014</td>\n",
       "</tr>\n",
       "<tr>\n",
       "  <th>x43</th>   <td>   -0.0433</td> <td>    0.015</td> <td>   -2.946</td> <td> 0.003</td> <td>   -0.072</td> <td>   -0.014</td>\n",
       "</tr>\n",
       "<tr>\n",
       "  <th>x44</th>   <td>   -0.0377</td> <td>    0.013</td> <td>   -2.978</td> <td> 0.003</td> <td>   -0.062</td> <td>   -0.013</td>\n",
       "</tr>\n",
       "<tr>\n",
       "  <th>x45</th>   <td>   -0.0410</td> <td>    0.023</td> <td>   -1.818</td> <td> 0.069</td> <td>   -0.085</td> <td>    0.003</td>\n",
       "</tr>\n",
       "<tr>\n",
       "  <th>x46</th>   <td>    0.0539</td> <td>    0.011</td> <td>    5.055</td> <td> 0.000</td> <td>    0.033</td> <td>    0.075</td>\n",
       "</tr>\n",
       "<tr>\n",
       "  <th>x47</th>   <td>    0.0192</td> <td>    0.008</td> <td>    2.513</td> <td> 0.012</td> <td>    0.004</td> <td>    0.034</td>\n",
       "</tr>\n",
       "<tr>\n",
       "  <th>x48</th>   <td>    0.0283</td> <td>    0.018</td> <td>    1.595</td> <td> 0.111</td> <td>   -0.007</td> <td>    0.063</td>\n",
       "</tr>\n",
       "<tr>\n",
       "  <th>x49</th>   <td>    0.0286</td> <td>    0.010</td> <td>    2.864</td> <td> 0.004</td> <td>    0.009</td> <td>    0.048</td>\n",
       "</tr>\n",
       "</table>\n",
       "<table class=\"simpletable\">\n",
       "<tr>\n",
       "  <th>Omnibus:</th>       <td>639.886</td> <th>  Durbin-Watson:     </th> <td>   1.953</td>\n",
       "</tr>\n",
       "<tr>\n",
       "  <th>Prob(Omnibus):</th> <td> 0.000</td>  <th>  Jarque-Bera (JB):  </th> <td>9685.086</td>\n",
       "</tr>\n",
       "<tr>\n",
       "  <th>Skew:</th>          <td>-1.528</td>  <th>  Prob(JB):          </th> <td>    0.00</td>\n",
       "</tr>\n",
       "<tr>\n",
       "  <th>Kurtosis:</th>      <td>14.908</td>  <th>  Cond. No.          </th> <td>2.25e+15</td>\n",
       "</tr>\n",
       "</table><br/><br/>Warnings:<br/>[1] Standard Errors assume that the covariance matrix of the errors is correctly specified.<br/>[2] The smallest eigenvalue is 1.88e-27. This might indicate that there are<br/>strong multicollinearity problems or that the design matrix is singular."
      ],
      "text/plain": [
       "<class 'statsmodels.iolib.summary.Summary'>\n",
       "\"\"\"\n",
       "                            OLS Regression Results                            \n",
       "==============================================================================\n",
       "Dep. Variable:                      y   R-squared:                       0.879\n",
       "Model:                            OLS   Adj. R-squared:                  0.875\n",
       "Method:                 Least Squares   F-statistic:                     224.5\n",
       "Date:                Sun, 05 Apr 2020   Prob (F-statistic):               0.00\n",
       "Time:                        23:46:05   Log-Likelihood:                -560.72\n",
       "No. Observations:                1538   AIC:                             1219.\n",
       "Df Residuals:                    1489   BIC:                             1481.\n",
       "Df Model:                          48                                         \n",
       "Covariance Type:            nonrobust                                         \n",
       "==============================================================================\n",
       "                 coef    std err          t      P>|t|      [0.025      0.975]\n",
       "------------------------------------------------------------------------------\n",
       "const      -2.341e-15      0.009  -2.59e-13      1.000      -0.018       0.018\n",
       "x1             0.2536      0.018     14.317      0.000       0.219       0.288\n",
       "x2             0.2792      0.028      9.863      0.000       0.224       0.335\n",
       "x3             0.0822      0.013      6.148      0.000       0.056       0.108\n",
       "x4             0.0785      0.015      5.168      0.000       0.049       0.108\n",
       "x5             0.0751      0.024      3.093      0.002       0.027       0.123\n",
       "x6            -0.0200      0.026     -0.755      0.451      -0.072       0.032\n",
       "x7            -0.1242      0.015     -8.170      0.000      -0.154      -0.094\n",
       "x8            -0.0389      0.018     -2.222      0.026      -0.073      -0.005\n",
       "x9             0.0638      0.012      5.342      0.000       0.040       0.087\n",
       "x10            0.0774      0.011      6.766      0.000       0.055       0.100\n",
       "x11            0.2026      0.033      6.111      0.000       0.138       0.268\n",
       "x12            0.0412      0.018      2.319      0.021       0.006       0.076\n",
       "x13            0.0374      0.011      3.552      0.000       0.017       0.058\n",
       "x14            0.1018      0.022      4.644      0.000       0.059       0.145\n",
       "x15            0.1879      0.028      6.782      0.000       0.134       0.242\n",
       "x16            0.0748      0.018      4.215      0.000       0.040       0.110\n",
       "x17            0.0375      0.012      3.164      0.002       0.014       0.061\n",
       "x18            0.0893      0.015      5.793      0.000       0.059       0.120\n",
       "x19            0.0673      0.012      5.594      0.000       0.044       0.091\n",
       "x20            0.0192      0.008      2.513      0.012       0.004       0.034\n",
       "x21            0.0184      0.010      1.774      0.076      -0.002       0.039\n",
       "x22            0.0428      0.014      3.060      0.002       0.015       0.070\n",
       "x23            0.1943      0.032      6.004      0.000       0.131       0.258\n",
       "x24            0.0611      0.014      4.447      0.000       0.034       0.088\n",
       "x25            0.2850      0.047      6.030      0.000       0.192       0.378\n",
       "x26            0.2434      0.038      6.444      0.000       0.169       0.318\n",
       "x27           -0.0183      0.012     -1.569      0.117      -0.041       0.005\n",
       "x28           -0.0415      0.016     -2.597      0.009      -0.073      -0.010\n",
       "x29            0.0159      0.010      1.532      0.126      -0.004       0.036\n",
       "x30           -0.0339      0.015     -2.221      0.027      -0.064      -0.004\n",
       "x31            0.0322      0.013      2.478      0.013       0.007       0.058\n",
       "x32           -0.0970      0.016     -6.175      0.000      -0.128      -0.066\n",
       "x33           -0.0437      0.014     -3.132      0.002      -0.071      -0.016\n",
       "x34           -0.0851      0.018     -4.687      0.000      -0.121      -0.049\n",
       "x35           -0.0306      0.012     -2.467      0.014      -0.055      -0.006\n",
       "x36           -0.0160      0.013     -1.254      0.210      -0.041       0.009\n",
       "x37           -0.0472      0.020     -2.406      0.016      -0.086      -0.009\n",
       "x38           -0.0302      0.013     -2.283      0.023      -0.056      -0.004\n",
       "x39            0.0279      0.012      2.423      0.015       0.005       0.050\n",
       "x40            0.0527      0.013      3.995      0.000       0.027       0.079\n",
       "x41           -0.1171      0.022     -5.436      0.000      -0.159      -0.075\n",
       "x42           -0.0366      0.012     -3.130      0.002      -0.060      -0.014\n",
       "x43           -0.0433      0.015     -2.946      0.003      -0.072      -0.014\n",
       "x44           -0.0377      0.013     -2.978      0.003      -0.062      -0.013\n",
       "x45           -0.0410      0.023     -1.818      0.069      -0.085       0.003\n",
       "x46            0.0539      0.011      5.055      0.000       0.033       0.075\n",
       "x47            0.0192      0.008      2.513      0.012       0.004       0.034\n",
       "x48            0.0283      0.018      1.595      0.111      -0.007       0.063\n",
       "x49            0.0286      0.010      2.864      0.004       0.009       0.048\n",
       "==============================================================================\n",
       "Omnibus:                      639.886   Durbin-Watson:                   1.953\n",
       "Prob(Omnibus):                  0.000   Jarque-Bera (JB):             9685.086\n",
       "Skew:                          -1.528   Prob(JB):                         0.00\n",
       "Kurtosis:                      14.908   Cond. No.                     2.25e+15\n",
       "==============================================================================\n",
       "\n",
       "Warnings:\n",
       "[1] Standard Errors assume that the covariance matrix of the errors is correctly specified.\n",
       "[2] The smallest eigenvalue is 1.88e-27. This might indicate that there are\n",
       "strong multicollinearity problems or that the design matrix is singular.\n",
       "\"\"\""
      ]
     },
     "execution_count": 2221,
     "metadata": {},
     "output_type": "execute_result"
    }
   ],
   "source": [
    "model.summary()"
   ]
  },
  {
   "cell_type": "code",
   "execution_count": null,
   "metadata": {},
   "outputs": [],
   "source": []
  },
  {
   "cell_type": "markdown",
   "metadata": {},
   "source": [
    "## Model 2 - Top variables plus Lot characteristics"
   ]
  },
  {
   "cell_type": "code",
   "execution_count": 20,
   "metadata": {},
   "outputs": [],
   "source": [
    "# Define X & y variables\n",
    "X_list_2 = ['Overall Qual', 'Gr Liv Area', 'Garage Cars', 'Total Bsmt SF', \n",
    "            '1st Flr SF', 'Age At Sale', 'Years Since Remod/Add', 'Full Bath', \n",
    "            'TotRms AbvGrd', 'HasFireplace', 'BsmtFin Type 1_GLQ',\n",
    "            'Lot Area', 'Lot Shape_IR3', 'Lot Shape_Reg']\n",
    "X2 = df_cl[X_list_2]\n",
    "y = df_cl[\"SalePrice\"]"
   ]
  },
  {
   "cell_type": "code",
   "execution_count": 21,
   "metadata": {},
   "outputs": [],
   "source": [
    "# Create train test split\n",
    "X2_train, X2_test, y_train, y_test = train_test_split(X2, y, test_size = .25, random_state=42)"
   ]
  },
  {
   "cell_type": "markdown",
   "metadata": {},
   "source": [
    "### Run PowerTransformer on X data"
   ]
  },
  {
   "cell_type": "code",
   "execution_count": 22,
   "metadata": {},
   "outputs": [],
   "source": [
    "pt = PowerTransformer()\n",
    "pt.fit(X2_train)\n",
    "X2_train = pt.transform(X2_train)\n",
    "X2_test = pt.transform(X2_test)"
   ]
  },
  {
   "cell_type": "markdown",
   "metadata": {},
   "source": [
    "### Run PowerTransformer on Y data"
   ]
  },
  {
   "cell_type": "code",
   "execution_count": 23,
   "metadata": {},
   "outputs": [],
   "source": [
    "pt_y = PowerTransformer()\n",
    "# PowerTransformer requires a matrix/DataFrame, which is why we're using the .to_frame() method on y_train\n",
    "pt_y.fit(y_train.to_frame()) \n",
    "y_train_pt = pt_y.transform(y_train.to_frame())\n",
    "y_test_pt = pt_y.transform(y_test.to_frame())"
   ]
  },
  {
   "cell_type": "markdown",
   "metadata": {},
   "source": [
    "### Instantiate models"
   ]
  },
  {
   "cell_type": "code",
   "execution_count": 24,
   "metadata": {},
   "outputs": [],
   "source": [
    "# Instantiate model\n",
    "lm2 = LinearRegression()"
   ]
  },
  {
   "cell_type": "markdown",
   "metadata": {},
   "source": [
    "### Cross Validation"
   ]
  },
  {
   "cell_type": "code",
   "execution_count": 25,
   "metadata": {},
   "outputs": [
    {
     "data": {
      "text/plain": [
       "0.8437879501686142"
      ]
     },
     "execution_count": 25,
     "metadata": {},
     "output_type": "execute_result"
    }
   ],
   "source": [
    "# Run cross validation\n",
    "cross_val_score(lm2, X2_train, y_train_pt, cv=5).mean()"
   ]
  },
  {
   "cell_type": "markdown",
   "metadata": {},
   "source": [
    "### Model Fit & Evaluation"
   ]
  },
  {
   "cell_type": "code",
   "execution_count": 26,
   "metadata": {},
   "outputs": [],
   "source": [
    "# Fit model\n",
    "lm2.fit(X2_train, y_train_pt);"
   ]
  },
  {
   "cell_type": "code",
   "execution_count": 27,
   "metadata": {},
   "outputs": [
    {
     "data": {
      "text/plain": [
       "0.8554515383890365"
      ]
     },
     "execution_count": 27,
     "metadata": {},
     "output_type": "execute_result"
    }
   ],
   "source": [
    "# Score training data\n",
    "lm2.score(X2_train, y_train_pt)"
   ]
  },
  {
   "cell_type": "code",
   "execution_count": 28,
   "metadata": {},
   "outputs": [
    {
     "data": {
      "text/plain": [
       "0.8576486760166822"
      ]
     },
     "execution_count": 28,
     "metadata": {},
     "output_type": "execute_result"
    }
   ],
   "source": [
    "# Score test data\n",
    "lm2.score(X2_test, y_test_pt)"
   ]
  },
  {
   "cell_type": "markdown",
   "metadata": {},
   "source": [
    "### Check residuals"
   ]
  },
  {
   "cell_type": "code",
   "execution_count": 29,
   "metadata": {},
   "outputs": [],
   "source": [
    "preds2 = lm2.predict(X2_test)"
   ]
  },
  {
   "cell_type": "code",
   "execution_count": 30,
   "metadata": {},
   "outputs": [
    {
     "data": {
      "text/plain": [
       "0.01975079269110881"
      ]
     },
     "execution_count": 30,
     "metadata": {},
     "output_type": "execute_result"
    }
   ],
   "source": [
    "preds2.mean()"
   ]
  },
  {
   "cell_type": "code",
   "execution_count": 31,
   "metadata": {},
   "outputs": [],
   "source": [
    "pred2_reversed = pt_y.inverse_transform(preds2.reshape(-1,1))"
   ]
  },
  {
   "cell_type": "code",
   "execution_count": 32,
   "metadata": {},
   "outputs": [
    {
     "data": {
      "text/plain": [
       "180262.77132187143"
      ]
     },
     "execution_count": 32,
     "metadata": {},
     "output_type": "execute_result"
    }
   ],
   "source": [
    "pred2_reversed.mean()"
   ]
  },
  {
   "cell_type": "code",
   "execution_count": 33,
   "metadata": {},
   "outputs": [],
   "source": [
    "residuals2 = y_test_pt - preds2"
   ]
  },
  {
   "cell_type": "code",
   "execution_count": 34,
   "metadata": {},
   "outputs": [
    {
     "data": {
      "image/png": "[encoded data removed]",
      "text/plain": [
       "<Figure size 432x288 with 1 Axes>"
      ]
     },
     "metadata": {
      "needs_background": "light"
     },
     "output_type": "display_data"
    }
   ],
   "source": [
    "plt.scatter(pred2_reversed, residuals)\n",
    "plt.axhline(0, color='r');"
   ]
  },
  {
   "cell_type": "code",
   "execution_count": 35,
   "metadata": {},
   "outputs": [
    {
     "data": {
      "text/plain": [
       "25016.838795719483"
      ]
     },
     "execution_count": 35,
     "metadata": {},
     "output_type": "execute_result"
    }
   ],
   "source": [
    "# Calculate root mean squared error\n",
    "np.sqrt(metrics.mean_squared_error(y_test, pred2_reversed))"
   ]
  },
  {
   "cell_type": "code",
   "execution_count": 2237,
   "metadata": {},
   "outputs": [],
   "source": [
    "X2 = sm.add_constant(X2_train)\n",
    "y = y_train_pt\n",
    "model = sm.OLS(y, X2).fit()"
   ]
  },
  {
   "cell_type": "code",
   "execution_count": 2238,
   "metadata": {},
   "outputs": [
    {
     "data": {
      "text/html": [
       "<table class=\"simpletable\">\n",
       "<caption>OLS Regression Results</caption>\n",
       "<tr>\n",
       "  <th>Dep. Variable:</th>            <td>y</td>        <th>  R-squared:         </th> <td>   0.855</td>\n",
       "</tr>\n",
       "<tr>\n",
       "  <th>Model:</th>                   <td>OLS</td>       <th>  Adj. R-squared:    </th> <td>   0.854</td>\n",
       "</tr>\n",
       "<tr>\n",
       "  <th>Method:</th>             <td>Least Squares</td>  <th>  F-statistic:       </th> <td>   643.8</td>\n",
       "</tr>\n",
       "<tr>\n",
       "  <th>Date:</th>             <td>Sun, 05 Apr 2020</td> <th>  Prob (F-statistic):</th>  <td>  0.00</td> \n",
       "</tr>\n",
       "<tr>\n",
       "  <th>Time:</th>                 <td>23:46:40</td>     <th>  Log-Likelihood:    </th> <td> -694.97</td>\n",
       "</tr>\n",
       "<tr>\n",
       "  <th>No. Observations:</th>      <td>  1538</td>      <th>  AIC:               </th> <td>   1420.</td>\n",
       "</tr>\n",
       "<tr>\n",
       "  <th>Df Residuals:</th>          <td>  1523</td>      <th>  BIC:               </th> <td>   1500.</td>\n",
       "</tr>\n",
       "<tr>\n",
       "  <th>Df Model:</th>              <td>    14</td>      <th>                     </th>     <td> </td>   \n",
       "</tr>\n",
       "<tr>\n",
       "  <th>Covariance Type:</th>      <td>nonrobust</td>    <th>                     </th>     <td> </td>   \n",
       "</tr>\n",
       "</table>\n",
       "<table class=\"simpletable\">\n",
       "<tr>\n",
       "    <td></td>       <th>coef</th>     <th>std err</th>      <th>t</th>      <th>P>|t|</th>  <th>[0.025</th>    <th>0.975]</th>  \n",
       "</tr>\n",
       "<tr>\n",
       "  <th>const</th> <td>-1.547e-15</td> <td>    0.010</td> <td>-1.59e-13</td> <td> 1.000</td> <td>   -0.019</td> <td>    0.019</td>\n",
       "</tr>\n",
       "<tr>\n",
       "  <th>x1</th>    <td>    0.3138</td> <td>    0.017</td> <td>   18.207</td> <td> 0.000</td> <td>    0.280</td> <td>    0.348</td>\n",
       "</tr>\n",
       "<tr>\n",
       "  <th>x2</th>    <td>    0.2852</td> <td>    0.022</td> <td>   12.937</td> <td> 0.000</td> <td>    0.242</td> <td>    0.328</td>\n",
       "</tr>\n",
       "<tr>\n",
       "  <th>x3</th>    <td>    0.0924</td> <td>    0.014</td> <td>    6.637</td> <td> 0.000</td> <td>    0.065</td> <td>    0.120</td>\n",
       "</tr>\n",
       "<tr>\n",
       "  <th>x4</th>    <td>    0.0966</td> <td>    0.016</td> <td>    6.179</td> <td> 0.000</td> <td>    0.066</td> <td>    0.127</td>\n",
       "</tr>\n",
       "<tr>\n",
       "  <th>x5</th>    <td>    0.0421</td> <td>    0.017</td> <td>    2.521</td> <td> 0.012</td> <td>    0.009</td> <td>    0.075</td>\n",
       "</tr>\n",
       "<tr>\n",
       "  <th>x6</th>    <td>   -0.1110</td> <td>    0.018</td> <td>   -6.105</td> <td> 0.000</td> <td>   -0.147</td> <td>   -0.075</td>\n",
       "</tr>\n",
       "<tr>\n",
       "  <th>x7</th>    <td>   -0.1137</td> <td>    0.015</td> <td>   -7.544</td> <td> 0.000</td> <td>   -0.143</td> <td>   -0.084</td>\n",
       "</tr>\n",
       "<tr>\n",
       "  <th>x8</th>    <td>   -0.0293</td> <td>    0.014</td> <td>   -2.054</td> <td> 0.040</td> <td>   -0.057</td> <td>   -0.001</td>\n",
       "</tr>\n",
       "<tr>\n",
       "  <th>x9</th>    <td>   -0.0310</td> <td>    0.018</td> <td>   -1.763</td> <td> 0.078</td> <td>   -0.065</td> <td>    0.003</td>\n",
       "</tr>\n",
       "<tr>\n",
       "  <th>x10</th>   <td>    0.0926</td> <td>    0.012</td> <td>    7.956</td> <td> 0.000</td> <td>    0.070</td> <td>    0.115</td>\n",
       "</tr>\n",
       "<tr>\n",
       "  <th>x11</th>   <td>    0.0779</td> <td>    0.012</td> <td>    6.587</td> <td> 0.000</td> <td>    0.055</td> <td>    0.101</td>\n",
       "</tr>\n",
       "<tr>\n",
       "  <th>x12</th>   <td>    0.1170</td> <td>    0.012</td> <td>    9.447</td> <td> 0.000</td> <td>    0.093</td> <td>    0.141</td>\n",
       "</tr>\n",
       "<tr>\n",
       "  <th>x13</th>   <td>   -0.0599</td> <td>    0.010</td> <td>   -6.058</td> <td> 0.000</td> <td>   -0.079</td> <td>   -0.041</td>\n",
       "</tr>\n",
       "<tr>\n",
       "  <th>x14</th>   <td>   -0.0323</td> <td>    0.011</td> <td>   -3.048</td> <td> 0.002</td> <td>   -0.053</td> <td>   -0.012</td>\n",
       "</tr>\n",
       "</table>\n",
       "<table class=\"simpletable\">\n",
       "<tr>\n",
       "  <th>Omnibus:</th>       <td>886.202</td> <th>  Durbin-Watson:     </th> <td>   1.947</td> \n",
       "</tr>\n",
       "<tr>\n",
       "  <th>Prob(Omnibus):</th> <td> 0.000</td>  <th>  Jarque-Bera (JB):  </th> <td>20045.276</td>\n",
       "</tr>\n",
       "<tr>\n",
       "  <th>Skew:</th>          <td>-2.231</td>  <th>  Prob(JB):          </th> <td>    0.00</td> \n",
       "</tr>\n",
       "<tr>\n",
       "  <th>Kurtosis:</th>      <td>20.114</td>  <th>  Cond. No.          </th> <td>    6.51</td> \n",
       "</tr>\n",
       "</table><br/><br/>Warnings:<br/>[1] Standard Errors assume that the covariance matrix of the errors is correctly specified."
      ],
      "text/plain": [
       "<class 'statsmodels.iolib.summary.Summary'>\n",
       "\"\"\"\n",
       "                            OLS Regression Results                            \n",
       "==============================================================================\n",
       "Dep. Variable:                      y   R-squared:                       0.855\n",
       "Model:                            OLS   Adj. R-squared:                  0.854\n",
       "Method:                 Least Squares   F-statistic:                     643.8\n",
       "Date:                Sun, 05 Apr 2020   Prob (F-statistic):               0.00\n",
       "Time:                        23:46:40   Log-Likelihood:                -694.97\n",
       "No. Observations:                1538   AIC:                             1420.\n",
       "Df Residuals:                    1523   BIC:                             1500.\n",
       "Df Model:                          14                                         \n",
       "Covariance Type:            nonrobust                                         \n",
       "==============================================================================\n",
       "                 coef    std err          t      P>|t|      [0.025      0.975]\n",
       "------------------------------------------------------------------------------\n",
       "const      -1.547e-15      0.010  -1.59e-13      1.000      -0.019       0.019\n",
       "x1             0.3138      0.017     18.207      0.000       0.280       0.348\n",
       "x2             0.2852      0.022     12.937      0.000       0.242       0.328\n",
       "x3             0.0924      0.014      6.637      0.000       0.065       0.120\n",
       "x4             0.0966      0.016      6.179      0.000       0.066       0.127\n",
       "x5             0.0421      0.017      2.521      0.012       0.009       0.075\n",
       "x6            -0.1110      0.018     -6.105      0.000      -0.147      -0.075\n",
       "x7            -0.1137      0.015     -7.544      0.000      -0.143      -0.084\n",
       "x8            -0.0293      0.014     -2.054      0.040      -0.057      -0.001\n",
       "x9            -0.0310      0.018     -1.763      0.078      -0.065       0.003\n",
       "x10            0.0926      0.012      7.956      0.000       0.070       0.115\n",
       "x11            0.0779      0.012      6.587      0.000       0.055       0.101\n",
       "x12            0.1170      0.012      9.447      0.000       0.093       0.141\n",
       "x13           -0.0599      0.010     -6.058      0.000      -0.079      -0.041\n",
       "x14           -0.0323      0.011     -3.048      0.002      -0.053      -0.012\n",
       "==============================================================================\n",
       "Omnibus:                      886.202   Durbin-Watson:                   1.947\n",
       "Prob(Omnibus):                  0.000   Jarque-Bera (JB):            20045.276\n",
       "Skew:                          -2.231   Prob(JB):                         0.00\n",
       "Kurtosis:                      20.114   Cond. No.                         6.51\n",
       "==============================================================================\n",
       "\n",
       "Warnings:\n",
       "[1] Standard Errors assume that the covariance matrix of the errors is correctly specified.\n",
       "\"\"\""
      ]
     },
     "execution_count": 2238,
     "metadata": {},
     "output_type": "execute_result"
    }
   ],
   "source": [
    "model.summary()"
   ]
  },
  {
   "cell_type": "code",
   "execution_count": null,
   "metadata": {},
   "outputs": [],
   "source": []
  },
  {
   "cell_type": "markdown",
   "metadata": {},
   "source": [
    "### Model 3 - Age and Quality"
   ]
  },
  {
   "cell_type": "code",
   "execution_count": 36,
   "metadata": {},
   "outputs": [],
   "source": [
    "# Define X & y variables\n",
    "X_list_3 = ['Overall Qual', 'Gr Liv Area', 'Garage Cars', 'Total Bsmt SF', '1st Flr SF', 'Age At Sale', \n",
    "            'Years Since Remod/Add', 'Full Bath', 'HasFireplace', \n",
    "            'BsmtFin Type 1_GLQ','IsNotNormalCondition1', 'Overall Cond', \n",
    "            'Mo Sold', 'Sale Type_CWD', 'Sale Type_Con', \n",
    "            'Sale Type_ConLD', 'Sale Type_ConLw', 'Sale Type_New', 'Sale Type_Oth', \n",
    "            'Sale Type_WD ']\n",
    "X3 = df_cl[X_list_3]\n",
    "y = df_cl[\"SalePrice\"]"
   ]
  },
  {
   "cell_type": "code",
   "execution_count": 37,
   "metadata": {},
   "outputs": [],
   "source": [
    "# Create train test split\n",
    "X3_train, X3_test, y_train, y_test = train_test_split(X3, y, test_size = .25, random_state=42)"
   ]
  },
  {
   "cell_type": "markdown",
   "metadata": {},
   "source": [
    "### Run PowerTransformer on X data"
   ]
  },
  {
   "cell_type": "code",
   "execution_count": 38,
   "metadata": {},
   "outputs": [],
   "source": [
    "pt = PowerTransformer()\n",
    "pt.fit(X3_train)\n",
    "X3_train = pt.transform(X3_train)\n",
    "X3_test = pt.transform(X3_test)"
   ]
  },
  {
   "cell_type": "markdown",
   "metadata": {},
   "source": [
    "### Run PowerTransformer on Y data"
   ]
  },
  {
   "cell_type": "code",
   "execution_count": 39,
   "metadata": {},
   "outputs": [],
   "source": [
    "pt_y = PowerTransformer()\n",
    "# PowerTransformer requires a matrix/DataFrame, which is why we're using the .to_frame() method on y_train\n",
    "pt_y.fit(y_train.to_frame()) \n",
    "y_train_pt = pt_y.transform(y_train.to_frame())\n",
    "y_test_pt = pt_y.transform(y_test.to_frame())"
   ]
  },
  {
   "cell_type": "markdown",
   "metadata": {},
   "source": [
    "### Instantiate models"
   ]
  },
  {
   "cell_type": "code",
   "execution_count": 40,
   "metadata": {},
   "outputs": [],
   "source": [
    "# Instantiate model\n",
    "lm3 = LinearRegression()"
   ]
  },
  {
   "cell_type": "markdown",
   "metadata": {},
   "source": [
    "### Cross Validation"
   ]
  },
  {
   "cell_type": "code",
   "execution_count": 41,
   "metadata": {},
   "outputs": [
    {
     "data": {
      "text/plain": [
       "0.8554545199115102"
      ]
     },
     "execution_count": 41,
     "metadata": {},
     "output_type": "execute_result"
    }
   ],
   "source": [
    "# Run cross validation\n",
    "cross_val_score(lm3, X3_train, y_train_pt, cv=5).mean()"
   ]
  },
  {
   "cell_type": "markdown",
   "metadata": {},
   "source": [
    "### Model Fit & Evaluation"
   ]
  },
  {
   "cell_type": "code",
   "execution_count": 42,
   "metadata": {},
   "outputs": [],
   "source": [
    "# Fit model\n",
    "lm3.fit(X3_train, y_train_pt);"
   ]
  },
  {
   "cell_type": "code",
   "execution_count": 43,
   "metadata": {},
   "outputs": [
    {
     "data": {
      "text/plain": [
       "0.8647290493667551"
      ]
     },
     "execution_count": 43,
     "metadata": {},
     "output_type": "execute_result"
    }
   ],
   "source": [
    "# Score training data\n",
    "lm3.score(X3_train, y_train_pt)"
   ]
  },
  {
   "cell_type": "code",
   "execution_count": 44,
   "metadata": {},
   "outputs": [
    {
     "data": {
      "text/plain": [
       "0.869334617101587"
      ]
     },
     "execution_count": 44,
     "metadata": {},
     "output_type": "execute_result"
    }
   ],
   "source": [
    "# Score test data\n",
    "lm3.score(X3_test, y_test_pt)"
   ]
  },
  {
   "cell_type": "markdown",
   "metadata": {},
   "source": [
    "### Check residuals"
   ]
  },
  {
   "cell_type": "code",
   "execution_count": 46,
   "metadata": {},
   "outputs": [],
   "source": [
    "preds3 = lm3.predict(X3_test)"
   ]
  },
  {
   "cell_type": "code",
   "execution_count": 47,
   "metadata": {},
   "outputs": [
    {
     "data": {
      "text/plain": [
       "0.024389422310303523"
      ]
     },
     "execution_count": 47,
     "metadata": {},
     "output_type": "execute_result"
    }
   ],
   "source": [
    "preds3.mean()"
   ]
  },
  {
   "cell_type": "code",
   "execution_count": 48,
   "metadata": {},
   "outputs": [],
   "source": [
    "pred3_reversed = pt_y.inverse_transform(preds3.reshape(-1,1))"
   ]
  },
  {
   "cell_type": "code",
   "execution_count": 49,
   "metadata": {},
   "outputs": [
    {
     "data": {
      "text/plain": [
       "180103.84473565005"
      ]
     },
     "execution_count": 49,
     "metadata": {},
     "output_type": "execute_result"
    }
   ],
   "source": [
    "pred3_reversed.mean()"
   ]
  },
  {
   "cell_type": "code",
   "execution_count": 50,
   "metadata": {},
   "outputs": [],
   "source": [
    "residuals3 = y_test_pt - preds3"
   ]
  },
  {
   "cell_type": "code",
   "execution_count": 51,
   "metadata": {},
   "outputs": [
    {
     "data": {
      "image/png": "[encoded data removed]",
      "text/plain": [
       "<Figure size 432x288 with 1 Axes>"
      ]
     },
     "metadata": {
      "needs_background": "light"
     },
     "output_type": "display_data"
    }
   ],
   "source": [
    "plt.scatter(pred3_reversed, residuals)\n",
    "plt.axhline(0, color='r');"
   ]
  },
  {
   "cell_type": "code",
   "execution_count": 52,
   "metadata": {},
   "outputs": [
    {
     "data": {
      "text/plain": [
       "25741.613236918118"
      ]
     },
     "execution_count": 52,
     "metadata": {},
     "output_type": "execute_result"
    }
   ],
   "source": [
    "# Calculate root mean squared error\n",
    "np.sqrt(metrics.mean_squared_error(y_test, pred3_reversed))"
   ]
  },
  {
   "cell_type": "code",
   "execution_count": 2254,
   "metadata": {},
   "outputs": [],
   "source": [
    "X3 = sm.add_constant(X3_train)\n",
    "y = y_train_pt\n",
    "model = sm.OLS(y, X3).fit()"
   ]
  },
  {
   "cell_type": "code",
   "execution_count": 2255,
   "metadata": {},
   "outputs": [
    {
     "data": {
      "text/html": [
       "<table class=\"simpletable\">\n",
       "<caption>OLS Regression Results</caption>\n",
       "<tr>\n",
       "  <th>Dep. Variable:</th>            <td>y</td>        <th>  R-squared:         </th> <td>   0.865</td>\n",
       "</tr>\n",
       "<tr>\n",
       "  <th>Model:</th>                   <td>OLS</td>       <th>  Adj. R-squared:    </th> <td>   0.863</td>\n",
       "</tr>\n",
       "<tr>\n",
       "  <th>Method:</th>             <td>Least Squares</td>  <th>  F-statistic:       </th> <td>   484.9</td>\n",
       "</tr>\n",
       "<tr>\n",
       "  <th>Date:</th>             <td>Sun, 05 Apr 2020</td> <th>  Prob (F-statistic):</th>  <td>  0.00</td> \n",
       "</tr>\n",
       "<tr>\n",
       "  <th>Time:</th>                 <td>23:47:15</td>     <th>  Log-Likelihood:    </th> <td> -643.96</td>\n",
       "</tr>\n",
       "<tr>\n",
       "  <th>No. Observations:</th>      <td>  1538</td>      <th>  AIC:               </th> <td>   1330.</td>\n",
       "</tr>\n",
       "<tr>\n",
       "  <th>Df Residuals:</th>          <td>  1517</td>      <th>  BIC:               </th> <td>   1442.</td>\n",
       "</tr>\n",
       "<tr>\n",
       "  <th>Df Model:</th>              <td>    20</td>      <th>                     </th>     <td> </td>   \n",
       "</tr>\n",
       "<tr>\n",
       "  <th>Covariance Type:</th>      <td>nonrobust</td>    <th>                     </th>     <td> </td>   \n",
       "</tr>\n",
       "</table>\n",
       "<table class=\"simpletable\">\n",
       "<tr>\n",
       "    <td></td>       <th>coef</th>     <th>std err</th>      <th>t</th>      <th>P>|t|</th>  <th>[0.025</th>    <th>0.975]</th>  \n",
       "</tr>\n",
       "<tr>\n",
       "  <th>const</th> <td>-1.547e-15</td> <td>    0.009</td> <td>-1.64e-13</td> <td> 1.000</td> <td>   -0.019</td> <td>    0.019</td>\n",
       "</tr>\n",
       "<tr>\n",
       "  <th>x1</th>    <td>    0.2344</td> <td>    0.017</td> <td>   13.792</td> <td> 0.000</td> <td>    0.201</td> <td>    0.268</td>\n",
       "</tr>\n",
       "<tr>\n",
       "  <th>x2</th>    <td>    0.3139</td> <td>    0.016</td> <td>   19.986</td> <td> 0.000</td> <td>    0.283</td> <td>    0.345</td>\n",
       "</tr>\n",
       "<tr>\n",
       "  <th>x3</th>    <td>    0.1171</td> <td>    0.013</td> <td>    8.813</td> <td> 0.000</td> <td>    0.091</td> <td>    0.143</td>\n",
       "</tr>\n",
       "<tr>\n",
       "  <th>x4</th>    <td>    0.0966</td> <td>    0.015</td> <td>    6.350</td> <td> 0.000</td> <td>    0.067</td> <td>    0.126</td>\n",
       "</tr>\n",
       "<tr>\n",
       "  <th>x5</th>    <td>    0.1107</td> <td>    0.015</td> <td>    7.153</td> <td> 0.000</td> <td>    0.080</td> <td>    0.141</td>\n",
       "</tr>\n",
       "<tr>\n",
       "  <th>x6</th>    <td>   -0.2429</td> <td>    0.021</td> <td>  -11.776</td> <td> 0.000</td> <td>   -0.283</td> <td>   -0.202</td>\n",
       "</tr>\n",
       "<tr>\n",
       "  <th>x7</th>    <td>   -0.0236</td> <td>    0.016</td> <td>   -1.449</td> <td> 0.148</td> <td>   -0.056</td> <td>    0.008</td>\n",
       "</tr>\n",
       "<tr>\n",
       "  <th>x8</th>    <td>   -0.0326</td> <td>    0.014</td> <td>   -2.359</td> <td> 0.018</td> <td>   -0.060</td> <td>   -0.005</td>\n",
       "</tr>\n",
       "<tr>\n",
       "  <th>x9</th>    <td>    0.0869</td> <td>    0.011</td> <td>    7.680</td> <td> 0.000</td> <td>    0.065</td> <td>    0.109</td>\n",
       "</tr>\n",
       "<tr>\n",
       "  <th>x10</th>   <td>    0.0740</td> <td>    0.012</td> <td>    6.416</td> <td> 0.000</td> <td>    0.051</td> <td>    0.097</td>\n",
       "</tr>\n",
       "<tr>\n",
       "  <th>x11</th>   <td>   -0.0362</td> <td>    0.010</td> <td>   -3.743</td> <td> 0.000</td> <td>   -0.055</td> <td>   -0.017</td>\n",
       "</tr>\n",
       "<tr>\n",
       "  <th>x12</th>   <td>    0.1697</td> <td>    0.012</td> <td>   14.530</td> <td> 0.000</td> <td>    0.147</td> <td>    0.193</td>\n",
       "</tr>\n",
       "<tr>\n",
       "  <th>x13</th>   <td>    0.0127</td> <td>    0.010</td> <td>    1.333</td> <td> 0.183</td> <td>   -0.006</td> <td>    0.031</td>\n",
       "</tr>\n",
       "<tr>\n",
       "  <th>x14</th>   <td>    0.0150</td> <td>    0.010</td> <td>    1.485</td> <td> 0.138</td> <td>   -0.005</td> <td>    0.035</td>\n",
       "</tr>\n",
       "<tr>\n",
       "  <th>x15</th>   <td>    0.0205</td> <td>    0.010</td> <td>    2.124</td> <td> 0.034</td> <td>    0.002</td> <td>    0.039</td>\n",
       "</tr>\n",
       "<tr>\n",
       "  <th>x16</th>   <td>    0.0273</td> <td>    0.010</td> <td>    2.602</td> <td> 0.009</td> <td>    0.007</td> <td>    0.048</td>\n",
       "</tr>\n",
       "<tr>\n",
       "  <th>x17</th>   <td>    0.0191</td> <td>    0.010</td> <td>    1.979</td> <td> 0.048</td> <td>    0.000</td> <td>    0.038</td>\n",
       "</tr>\n",
       "<tr>\n",
       "  <th>x18</th>   <td>    0.0469</td> <td>    0.017</td> <td>    2.680</td> <td> 0.007</td> <td>    0.013</td> <td>    0.081</td>\n",
       "</tr>\n",
       "<tr>\n",
       "  <th>x19</th>   <td>    0.0354</td> <td>    0.010</td> <td>    3.637</td> <td> 0.000</td> <td>    0.016</td> <td>    0.054</td>\n",
       "</tr>\n",
       "<tr>\n",
       "  <th>x20</th>   <td>    0.0638</td> <td>    0.017</td> <td>    3.733</td> <td> 0.000</td> <td>    0.030</td> <td>    0.097</td>\n",
       "</tr>\n",
       "</table>\n",
       "<table class=\"simpletable\">\n",
       "<tr>\n",
       "  <th>Omnibus:</th>       <td>887.420</td> <th>  Durbin-Watson:     </th> <td>   1.928</td> \n",
       "</tr>\n",
       "<tr>\n",
       "  <th>Prob(Omnibus):</th> <td> 0.000</td>  <th>  Jarque-Bera (JB):  </th> <td>26202.106</td>\n",
       "</tr>\n",
       "<tr>\n",
       "  <th>Skew:</th>          <td>-2.145</td>  <th>  Prob(JB):          </th> <td>    0.00</td> \n",
       "</tr>\n",
       "<tr>\n",
       "  <th>Kurtosis:</th>      <td>22.760</td>  <th>  Cond. No.          </th> <td>    6.23</td> \n",
       "</tr>\n",
       "</table><br/><br/>Warnings:<br/>[1] Standard Errors assume that the covariance matrix of the errors is correctly specified."
      ],
      "text/plain": [
       "<class 'statsmodels.iolib.summary.Summary'>\n",
       "\"\"\"\n",
       "                            OLS Regression Results                            \n",
       "==============================================================================\n",
       "Dep. Variable:                      y   R-squared:                       0.865\n",
       "Model:                            OLS   Adj. R-squared:                  0.863\n",
       "Method:                 Least Squares   F-statistic:                     484.9\n",
       "Date:                Sun, 05 Apr 2020   Prob (F-statistic):               0.00\n",
       "Time:                        23:47:15   Log-Likelihood:                -643.96\n",
       "No. Observations:                1538   AIC:                             1330.\n",
       "Df Residuals:                    1517   BIC:                             1442.\n",
       "Df Model:                          20                                         \n",
       "Covariance Type:            nonrobust                                         \n",
       "==============================================================================\n",
       "                 coef    std err          t      P>|t|      [0.025      0.975]\n",
       "------------------------------------------------------------------------------\n",
       "const      -1.547e-15      0.009  -1.64e-13      1.000      -0.019       0.019\n",
       "x1             0.2344      0.017     13.792      0.000       0.201       0.268\n",
       "x2             0.3139      0.016     19.986      0.000       0.283       0.345\n",
       "x3             0.1171      0.013      8.813      0.000       0.091       0.143\n",
       "x4             0.0966      0.015      6.350      0.000       0.067       0.126\n",
       "x5             0.1107      0.015      7.153      0.000       0.080       0.141\n",
       "x6            -0.2429      0.021    -11.776      0.000      -0.283      -0.202\n",
       "x7            -0.0236      0.016     -1.449      0.148      -0.056       0.008\n",
       "x8            -0.0326      0.014     -2.359      0.018      -0.060      -0.005\n",
       "x9             0.0869      0.011      7.680      0.000       0.065       0.109\n",
       "x10            0.0740      0.012      6.416      0.000       0.051       0.097\n",
       "x11           -0.0362      0.010     -3.743      0.000      -0.055      -0.017\n",
       "x12            0.1697      0.012     14.530      0.000       0.147       0.193\n",
       "x13            0.0127      0.010      1.333      0.183      -0.006       0.031\n",
       "x14            0.0150      0.010      1.485      0.138      -0.005       0.035\n",
       "x15            0.0205      0.010      2.124      0.034       0.002       0.039\n",
       "x16            0.0273      0.010      2.602      0.009       0.007       0.048\n",
       "x17            0.0191      0.010      1.979      0.048       0.000       0.038\n",
       "x18            0.0469      0.017      2.680      0.007       0.013       0.081\n",
       "x19            0.0354      0.010      3.637      0.000       0.016       0.054\n",
       "x20            0.0638      0.017      3.733      0.000       0.030       0.097\n",
       "==============================================================================\n",
       "Omnibus:                      887.420   Durbin-Watson:                   1.928\n",
       "Prob(Omnibus):                  0.000   Jarque-Bera (JB):            26202.106\n",
       "Skew:                          -2.145   Prob(JB):                         0.00\n",
       "Kurtosis:                      22.760   Cond. No.                         6.23\n",
       "==============================================================================\n",
       "\n",
       "Warnings:\n",
       "[1] Standard Errors assume that the covariance matrix of the errors is correctly specified.\n",
       "\"\"\""
      ]
     },
     "execution_count": 2255,
     "metadata": {},
     "output_type": "execute_result"
    }
   ],
   "source": [
    "model.summary()"
   ]
  },
  {
   "cell_type": "code",
   "execution_count": null,
   "metadata": {},
   "outputs": [],
   "source": []
  },
  {
   "cell_type": "code",
   "execution_count": null,
   "metadata": {},
   "outputs": [],
   "source": []
  },
  {
   "cell_type": "markdown",
   "metadata": {},
   "source": [
    "### Model 4 - Top variables plus Exterior variables"
   ]
  },
  {
   "cell_type": "code",
   "execution_count": 53,
   "metadata": {},
   "outputs": [],
   "source": [
    "# Define X & y variables\n",
    "X_list_4 = [ 'Overall Qual', 'Gr Liv Area', 'Garage Cars', 'Total Bsmt SF', '1st Flr SF', 'Age At Sale', \n",
    "            'Years Since Remod/Add', 'Full Bath', 'HasFireplace', \n",
    "            'BsmtFin Type 1_GLQ','IsHipRoof', 'Exterior 1st_BrkFace', 'Exterior 1st_CemntBd', \n",
    "            'Exterior 1st_HdBoard', \n",
    "            'Exterior 1st_MetalSd', 'Exterior 1st_Plywood', 'Exterior 1st_VinylSd', \n",
    "            'Exterior 1st_Wd Sdng', 'Exterior 1st_WdShing', 'DiffExt2', \n",
    "            'Mas Vnr Type_BrkFace', 'Mas Vnr Type_Stone', 'Mas Vnr Type_None', 'Exter Qual_Fa', \n",
    "            'Exter Qual_Gd', 'Exter Qual_TA', 'Exter Cond_Fa', 'Exter Cond_Gd', 'Exter Cond_Po', \n",
    "            'Exter Cond_TA', 'Foundation_CBlock', 'Foundation_PConc', 'Foundation_Slab']\n",
    "X4 = df_cl[X_list_4]\n",
    "y = df_cl[\"SalePrice\"]"
   ]
  },
  {
   "cell_type": "code",
   "execution_count": 54,
   "metadata": {},
   "outputs": [],
   "source": [
    "# Create train test split\n",
    "X4_train, X4_test, y_train, y_test = train_test_split(X4, y, test_size = .25, random_state=42)"
   ]
  },
  {
   "cell_type": "markdown",
   "metadata": {},
   "source": [
    "### Run PowerTransformer on X data"
   ]
  },
  {
   "cell_type": "code",
   "execution_count": 55,
   "metadata": {},
   "outputs": [],
   "source": [
    "pt = PowerTransformer()\n",
    "pt.fit(X4_train)\n",
    "X4_train = pt.transform(X4_train)\n",
    "X4_test = pt.transform(X4_test)"
   ]
  },
  {
   "cell_type": "markdown",
   "metadata": {},
   "source": [
    "### Run PowerTransformer on Y data"
   ]
  },
  {
   "cell_type": "code",
   "execution_count": 56,
   "metadata": {},
   "outputs": [],
   "source": [
    "pt_y = PowerTransformer()\n",
    "# PowerTransformer requires a matrix/DataFrame, which is why we're using the .to_frame() method on y_train\n",
    "pt_y.fit(y_train.to_frame()) \n",
    "y_train_pt = pt_y.transform(y_train.to_frame())\n",
    "y_test_pt = pt_y.transform(y_test.to_frame())"
   ]
  },
  {
   "cell_type": "markdown",
   "metadata": {},
   "source": [
    "### Instantiate models"
   ]
  },
  {
   "cell_type": "code",
   "execution_count": 57,
   "metadata": {},
   "outputs": [],
   "source": [
    "# Instantiate model\n",
    "lm4 = LinearRegression()"
   ]
  },
  {
   "cell_type": "markdown",
   "metadata": {},
   "source": [
    "### Cross Validation"
   ]
  },
  {
   "cell_type": "code",
   "execution_count": 58,
   "metadata": {},
   "outputs": [
    {
     "data": {
      "text/plain": [
       "0.8482098723419771"
      ]
     },
     "execution_count": 58,
     "metadata": {},
     "output_type": "execute_result"
    }
   ],
   "source": [
    "# Run cross validation\n",
    "cross_val_score(lm4, X4_train, y_train_pt, cv=5).mean()"
   ]
  },
  {
   "cell_type": "markdown",
   "metadata": {},
   "source": [
    "### Model Fit & Evaluation"
   ]
  },
  {
   "cell_type": "code",
   "execution_count": 59,
   "metadata": {},
   "outputs": [],
   "source": [
    "# Fit model\n",
    "lm4.fit(X4_train, y_train_pt);"
   ]
  },
  {
   "cell_type": "code",
   "execution_count": 60,
   "metadata": {},
   "outputs": [
    {
     "data": {
      "text/plain": [
       "0.8645439506828172"
      ]
     },
     "execution_count": 60,
     "metadata": {},
     "output_type": "execute_result"
    }
   ],
   "source": [
    "# Score training data\n",
    "lm4.score(X4_train, y_train_pt)"
   ]
  },
  {
   "cell_type": "code",
   "execution_count": 61,
   "metadata": {},
   "outputs": [
    {
     "data": {
      "text/plain": [
       "0.8560846086738768"
      ]
     },
     "execution_count": 61,
     "metadata": {},
     "output_type": "execute_result"
    }
   ],
   "source": [
    "# Score test data\n",
    "lm4.score(X4_test, y_test_pt)"
   ]
  },
  {
   "cell_type": "markdown",
   "metadata": {},
   "source": [
    "### Check residuals"
   ]
  },
  {
   "cell_type": "code",
   "execution_count": 62,
   "metadata": {},
   "outputs": [],
   "source": [
    "preds4 = lm4.predict(X4_test)"
   ]
  },
  {
   "cell_type": "code",
   "execution_count": 63,
   "metadata": {
    "scrolled": true
   },
   "outputs": [
    {
     "data": {
      "text/plain": [
       "0.035387500686831434"
      ]
     },
     "execution_count": 63,
     "metadata": {},
     "output_type": "execute_result"
    }
   ],
   "source": [
    "preds4.mean()"
   ]
  },
  {
   "cell_type": "code",
   "execution_count": 64,
   "metadata": {},
   "outputs": [],
   "source": [
    "pred4_reversed = pt_y.inverse_transform(preds4.reshape(-1,1))"
   ]
  },
  {
   "cell_type": "code",
   "execution_count": 65,
   "metadata": {},
   "outputs": [
    {
     "data": {
      "text/plain": [
       "181068.3883209662"
      ]
     },
     "execution_count": 65,
     "metadata": {},
     "output_type": "execute_result"
    }
   ],
   "source": [
    "pred4_reversed.mean()"
   ]
  },
  {
   "cell_type": "code",
   "execution_count": 66,
   "metadata": {},
   "outputs": [],
   "source": [
    "residuals = y_test_pt - preds4"
   ]
  },
  {
   "cell_type": "code",
   "execution_count": 67,
   "metadata": {
    "scrolled": true
   },
   "outputs": [
    {
     "data": {
      "image/png": "[encoded data removed]",
      "text/plain": [
       "<Figure size 432x288 with 1 Axes>"
      ]
     },
     "metadata": {
      "needs_background": "light"
     },
     "output_type": "display_data"
    }
   ],
   "source": [
    "plt.scatter(pred4_reversed, residuals)\n",
    "plt.axhline(0, color='r');"
   ]
  },
  {
   "cell_type": "code",
   "execution_count": 68,
   "metadata": {},
   "outputs": [
    {
     "data": {
      "text/plain": [
       "25930.29544772229"
      ]
     },
     "execution_count": 68,
     "metadata": {},
     "output_type": "execute_result"
    }
   ],
   "source": [
    "# Calculate root mean squared error\n",
    "np.sqrt(metrics.mean_squared_error(y_test, pred4_reversed))"
   ]
  },
  {
   "cell_type": "code",
   "execution_count": 2272,
   "metadata": {},
   "outputs": [],
   "source": [
    "X = sm.add_constant(X4_train)\n",
    "y = y_train_pt\n",
    "model = sm.OLS(y, X).fit()"
   ]
  },
  {
   "cell_type": "code",
   "execution_count": 2273,
   "metadata": {},
   "outputs": [
    {
     "data": {
      "text/html": [
       "<table class=\"simpletable\">\n",
       "<caption>OLS Regression Results</caption>\n",
       "<tr>\n",
       "  <th>Dep. Variable:</th>            <td>y</td>        <th>  R-squared:         </th> <td>   0.865</td>\n",
       "</tr>\n",
       "<tr>\n",
       "  <th>Model:</th>                   <td>OLS</td>       <th>  Adj. R-squared:    </th> <td>   0.862</td>\n",
       "</tr>\n",
       "<tr>\n",
       "  <th>Method:</th>             <td>Least Squares</td>  <th>  F-statistic:       </th> <td>   290.9</td>\n",
       "</tr>\n",
       "<tr>\n",
       "  <th>Date:</th>             <td>Sun, 05 Apr 2020</td> <th>  Prob (F-statistic):</th>  <td>  0.00</td> \n",
       "</tr>\n",
       "<tr>\n",
       "  <th>Time:</th>                 <td>23:47:58</td>     <th>  Log-Likelihood:    </th> <td> -645.01</td>\n",
       "</tr>\n",
       "<tr>\n",
       "  <th>No. Observations:</th>      <td>  1538</td>      <th>  AIC:               </th> <td>   1358.</td>\n",
       "</tr>\n",
       "<tr>\n",
       "  <th>Df Residuals:</th>          <td>  1504</td>      <th>  BIC:               </th> <td>   1540.</td>\n",
       "</tr>\n",
       "<tr>\n",
       "  <th>Df Model:</th>              <td>    33</td>      <th>                     </th>     <td> </td>   \n",
       "</tr>\n",
       "<tr>\n",
       "  <th>Covariance Type:</th>      <td>nonrobust</td>    <th>                     </th>     <td> </td>   \n",
       "</tr>\n",
       "</table>\n",
       "<table class=\"simpletable\">\n",
       "<tr>\n",
       "    <td></td>       <th>coef</th>     <th>std err</th>      <th>t</th>      <th>P>|t|</th>  <th>[0.025</th>    <th>0.975]</th>  \n",
       "</tr>\n",
       "<tr>\n",
       "  <th>const</th> <td>-2.987e-15</td> <td>    0.009</td> <td>-3.15e-13</td> <td> 1.000</td> <td>   -0.019</td> <td>    0.019</td>\n",
       "</tr>\n",
       "<tr>\n",
       "  <th>x1</th>    <td>    0.2497</td> <td>    0.018</td> <td>   13.803</td> <td> 0.000</td> <td>    0.214</td> <td>    0.285</td>\n",
       "</tr>\n",
       "<tr>\n",
       "  <th>x2</th>    <td>    0.2981</td> <td>    0.016</td> <td>   18.518</td> <td> 0.000</td> <td>    0.267</td> <td>    0.330</td>\n",
       "</tr>\n",
       "<tr>\n",
       "  <th>x3</th>    <td>    0.1161</td> <td>    0.014</td> <td>    8.536</td> <td> 0.000</td> <td>    0.089</td> <td>    0.143</td>\n",
       "</tr>\n",
       "<tr>\n",
       "  <th>x4</th>    <td>    0.0524</td> <td>    0.018</td> <td>    2.871</td> <td> 0.004</td> <td>    0.017</td> <td>    0.088</td>\n",
       "</tr>\n",
       "<tr>\n",
       "  <th>x5</th>    <td>    0.0993</td> <td>    0.017</td> <td>    5.679</td> <td> 0.000</td> <td>    0.065</td> <td>    0.134</td>\n",
       "</tr>\n",
       "<tr>\n",
       "  <th>x6</th>    <td>   -0.0604</td> <td>    0.025</td> <td>   -2.432</td> <td> 0.015</td> <td>   -0.109</td> <td>   -0.012</td>\n",
       "</tr>\n",
       "<tr>\n",
       "  <th>x7</th>    <td>   -0.1120</td> <td>    0.016</td> <td>   -6.860</td> <td> 0.000</td> <td>   -0.144</td> <td>   -0.080</td>\n",
       "</tr>\n",
       "<tr>\n",
       "  <th>x8</th>    <td>   -0.0294</td> <td>    0.014</td> <td>   -2.068</td> <td> 0.039</td> <td>   -0.057</td> <td>   -0.002</td>\n",
       "</tr>\n",
       "<tr>\n",
       "  <th>x9</th>    <td>    0.0890</td> <td>    0.012</td> <td>    7.740</td> <td> 0.000</td> <td>    0.066</td> <td>    0.112</td>\n",
       "</tr>\n",
       "<tr>\n",
       "  <th>x10</th>   <td>    0.0770</td> <td>    0.012</td> <td>    6.633</td> <td> 0.000</td> <td>    0.054</td> <td>    0.100</td>\n",
       "</tr>\n",
       "<tr>\n",
       "  <th>x11</th>   <td>    0.0299</td> <td>    0.011</td> <td>    2.800</td> <td> 0.005</td> <td>    0.009</td> <td>    0.051</td>\n",
       "</tr>\n",
       "<tr>\n",
       "  <th>x12</th>   <td>    0.0831</td> <td>    0.013</td> <td>    6.508</td> <td> 0.000</td> <td>    0.058</td> <td>    0.108</td>\n",
       "</tr>\n",
       "<tr>\n",
       "  <th>x13</th>   <td>    0.0473</td> <td>    0.016</td> <td>    2.950</td> <td> 0.003</td> <td>    0.016</td> <td>    0.079</td>\n",
       "</tr>\n",
       "<tr>\n",
       "  <th>x14</th>   <td>    0.1198</td> <td>    0.022</td> <td>    5.455</td> <td> 0.000</td> <td>    0.077</td> <td>    0.163</td>\n",
       "</tr>\n",
       "<tr>\n",
       "  <th>x15</th>   <td>    0.1112</td> <td>    0.022</td> <td>    5.093</td> <td> 0.000</td> <td>    0.068</td> <td>    0.154</td>\n",
       "</tr>\n",
       "<tr>\n",
       "  <th>x16</th>   <td>    0.0781</td> <td>    0.018</td> <td>    4.392</td> <td> 0.000</td> <td>    0.043</td> <td>    0.113</td>\n",
       "</tr>\n",
       "<tr>\n",
       "  <th>x17</th>   <td>    0.1448</td> <td>    0.029</td> <td>    4.912</td> <td> 0.000</td> <td>    0.087</td> <td>    0.203</td>\n",
       "</tr>\n",
       "<tr>\n",
       "  <th>x18</th>   <td>    0.0915</td> <td>    0.020</td> <td>    4.475</td> <td> 0.000</td> <td>    0.051</td> <td>    0.132</td>\n",
       "</tr>\n",
       "<tr>\n",
       "  <th>x19</th>   <td>    0.0358</td> <td>    0.013</td> <td>    2.808</td> <td> 0.005</td> <td>    0.011</td> <td>    0.061</td>\n",
       "</tr>\n",
       "<tr>\n",
       "  <th>x20</th>   <td>    0.0227</td> <td>    0.013</td> <td>    1.722</td> <td> 0.085</td> <td>   -0.003</td> <td>    0.049</td>\n",
       "</tr>\n",
       "<tr>\n",
       "  <th>x21</th>   <td>    0.1291</td> <td>    0.053</td> <td>    2.424</td> <td> 0.015</td> <td>    0.025</td> <td>    0.234</td>\n",
       "</tr>\n",
       "<tr>\n",
       "  <th>x22</th>   <td>    0.0701</td> <td>    0.032</td> <td>    2.190</td> <td> 0.029</td> <td>    0.007</td> <td>    0.133</td>\n",
       "</tr>\n",
       "<tr>\n",
       "  <th>x23</th>   <td>    0.1333</td> <td>    0.056</td> <td>    2.380</td> <td> 0.017</td> <td>    0.023</td> <td>    0.243</td>\n",
       "</tr>\n",
       "<tr>\n",
       "  <th>x24</th>   <td>   -0.0746</td> <td>    0.014</td> <td>   -5.412</td> <td> 0.000</td> <td>   -0.102</td> <td>   -0.048</td>\n",
       "</tr>\n",
       "<tr>\n",
       "  <th>x25</th>   <td>   -0.1085</td> <td>    0.029</td> <td>   -3.789</td> <td> 0.000</td> <td>   -0.165</td> <td>   -0.052</td>\n",
       "</tr>\n",
       "<tr>\n",
       "  <th>x26</th>   <td>   -0.1418</td> <td>    0.035</td> <td>   -4.076</td> <td> 0.000</td> <td>   -0.210</td> <td>   -0.074</td>\n",
       "</tr>\n",
       "<tr>\n",
       "  <th>x27</th>   <td>   -0.0838</td> <td>    0.028</td> <td>   -2.979</td> <td> 0.003</td> <td>   -0.139</td> <td>   -0.029</td>\n",
       "</tr>\n",
       "<tr>\n",
       "  <th>x28</th>   <td>   -0.0662</td> <td>    0.052</td> <td>   -1.262</td> <td> 0.207</td> <td>   -0.169</td> <td>    0.037</td>\n",
       "</tr>\n",
       "<tr>\n",
       "  <th>x29</th>   <td>   -0.0791</td> <td>    0.012</td> <td>   -6.774</td> <td> 0.000</td> <td>   -0.102</td> <td>   -0.056</td>\n",
       "</tr>\n",
       "<tr>\n",
       "  <th>x30</th>   <td>   -0.1025</td> <td>    0.058</td> <td>   -1.772</td> <td> 0.077</td> <td>   -0.216</td> <td>    0.011</td>\n",
       "</tr>\n",
       "<tr>\n",
       "  <th>x31</th>   <td>    0.0754</td> <td>    0.019</td> <td>    3.966</td> <td> 0.000</td> <td>    0.038</td> <td>    0.113</td>\n",
       "</tr>\n",
       "<tr>\n",
       "  <th>x32</th>   <td>    0.0780</td> <td>    0.023</td> <td>    3.347</td> <td> 0.001</td> <td>    0.032</td> <td>    0.124</td>\n",
       "</tr>\n",
       "<tr>\n",
       "  <th>x33</th>   <td>   -0.0158</td> <td>    0.013</td> <td>   -1.257</td> <td> 0.209</td> <td>   -0.040</td> <td>    0.009</td>\n",
       "</tr>\n",
       "</table>\n",
       "<table class=\"simpletable\">\n",
       "<tr>\n",
       "  <th>Omnibus:</th>       <td>599.384</td> <th>  Durbin-Watson:     </th> <td>   1.896</td>\n",
       "</tr>\n",
       "<tr>\n",
       "  <th>Prob(Omnibus):</th> <td> 0.000</td>  <th>  Jarque-Bera (JB):  </th> <td>7753.077</td>\n",
       "</tr>\n",
       "<tr>\n",
       "  <th>Skew:</th>          <td>-1.449</td>  <th>  Prob(JB):          </th> <td>    0.00</td>\n",
       "</tr>\n",
       "<tr>\n",
       "  <th>Kurtosis:</th>      <td>13.611</td>  <th>  Cond. No.          </th> <td>    24.4</td>\n",
       "</tr>\n",
       "</table><br/><br/>Warnings:<br/>[1] Standard Errors assume that the covariance matrix of the errors is correctly specified."
      ],
      "text/plain": [
       "<class 'statsmodels.iolib.summary.Summary'>\n",
       "\"\"\"\n",
       "                            OLS Regression Results                            \n",
       "==============================================================================\n",
       "Dep. Variable:                      y   R-squared:                       0.865\n",
       "Model:                            OLS   Adj. R-squared:                  0.862\n",
       "Method:                 Least Squares   F-statistic:                     290.9\n",
       "Date:                Sun, 05 Apr 2020   Prob (F-statistic):               0.00\n",
       "Time:                        23:47:58   Log-Likelihood:                -645.01\n",
       "No. Observations:                1538   AIC:                             1358.\n",
       "Df Residuals:                    1504   BIC:                             1540.\n",
       "Df Model:                          33                                         \n",
       "Covariance Type:            nonrobust                                         \n",
       "==============================================================================\n",
       "                 coef    std err          t      P>|t|      [0.025      0.975]\n",
       "------------------------------------------------------------------------------\n",
       "const      -2.987e-15      0.009  -3.15e-13      1.000      -0.019       0.019\n",
       "x1             0.2497      0.018     13.803      0.000       0.214       0.285\n",
       "x2             0.2981      0.016     18.518      0.000       0.267       0.330\n",
       "x3             0.1161      0.014      8.536      0.000       0.089       0.143\n",
       "x4             0.0524      0.018      2.871      0.004       0.017       0.088\n",
       "x5             0.0993      0.017      5.679      0.000       0.065       0.134\n",
       "x6            -0.0604      0.025     -2.432      0.015      -0.109      -0.012\n",
       "x7            -0.1120      0.016     -6.860      0.000      -0.144      -0.080\n",
       "x8            -0.0294      0.014     -2.068      0.039      -0.057      -0.002\n",
       "x9             0.0890      0.012      7.740      0.000       0.066       0.112\n",
       "x10            0.0770      0.012      6.633      0.000       0.054       0.100\n",
       "x11            0.0299      0.011      2.800      0.005       0.009       0.051\n",
       "x12            0.0831      0.013      6.508      0.000       0.058       0.108\n",
       "x13            0.0473      0.016      2.950      0.003       0.016       0.079\n",
       "x14            0.1198      0.022      5.455      0.000       0.077       0.163\n",
       "x15            0.1112      0.022      5.093      0.000       0.068       0.154\n",
       "x16            0.0781      0.018      4.392      0.000       0.043       0.113\n",
       "x17            0.1448      0.029      4.912      0.000       0.087       0.203\n",
       "x18            0.0915      0.020      4.475      0.000       0.051       0.132\n",
       "x19            0.0358      0.013      2.808      0.005       0.011       0.061\n",
       "x20            0.0227      0.013      1.722      0.085      -0.003       0.049\n",
       "x21            0.1291      0.053      2.424      0.015       0.025       0.234\n",
       "x22            0.0701      0.032      2.190      0.029       0.007       0.133\n",
       "x23            0.1333      0.056      2.380      0.017       0.023       0.243\n",
       "x24           -0.0746      0.014     -5.412      0.000      -0.102      -0.048\n",
       "x25           -0.1085      0.029     -3.789      0.000      -0.165      -0.052\n",
       "x26           -0.1418      0.035     -4.076      0.000      -0.210      -0.074\n",
       "x27           -0.0838      0.028     -2.979      0.003      -0.139      -0.029\n",
       "x28           -0.0662      0.052     -1.262      0.207      -0.169       0.037\n",
       "x29           -0.0791      0.012     -6.774      0.000      -0.102      -0.056\n",
       "x30           -0.1025      0.058     -1.772      0.077      -0.216       0.011\n",
       "x31            0.0754      0.019      3.966      0.000       0.038       0.113\n",
       "x32            0.0780      0.023      3.347      0.001       0.032       0.124\n",
       "x33           -0.0158      0.013     -1.257      0.209      -0.040       0.009\n",
       "==============================================================================\n",
       "Omnibus:                      599.384   Durbin-Watson:                   1.896\n",
       "Prob(Omnibus):                  0.000   Jarque-Bera (JB):             7753.077\n",
       "Skew:                          -1.449   Prob(JB):                         0.00\n",
       "Kurtosis:                      13.611   Cond. No.                         24.4\n",
       "==============================================================================\n",
       "\n",
       "Warnings:\n",
       "[1] Standard Errors assume that the covariance matrix of the errors is correctly specified.\n",
       "\"\"\""
      ]
     },
     "execution_count": 2273,
     "metadata": {},
     "output_type": "execute_result"
    }
   ],
   "source": [
    "model.summary()"
   ]
  },
  {
   "cell_type": "code",
   "execution_count": null,
   "metadata": {},
   "outputs": [],
   "source": []
  },
  {
   "cell_type": "markdown",
   "metadata": {},
   "source": [
    "### Model 5 - Top Variables plus Misc Additional Features"
   ]
  },
  {
   "cell_type": "code",
   "execution_count": 69,
   "metadata": {},
   "outputs": [],
   "source": [
    "# Define X & y variables\n",
    "X_list_5 = ['Overall Qual', 'Gr Liv Area', 'Garage Cars', 'Total Bsmt SF', '1st Flr SF', \n",
    "            'Age At Sale', 'Years Since Remod/Add', 'TotRms AbvGrd', \n",
    "            'HasFireplace', 'Bsmt Qual_Gd', 'Bsmt Qual_TA', 'Bsmt Qual_FairPoor',  \n",
    "            'BsmtFin Type 1_Unf', 'BsmtFin SF 1', \n",
    "            'Heating QC_Fa', 'Heating QC_Gd',  \n",
    "            'Heating QC_TA', 'Central Air', 'NotStdElectrical', 'HasExGdFireplace', \n",
    "            'Garage Type_Attchd', 'Garage Type_BuiltIn', 'Garage Type_CarPort', \n",
    "            'IsNotPavedDrive', 'Wood Deck SF', 'Open Porch SF', \n",
    "            '3Ssn Porch', 'Screen Porch', 'Pool Area', 'Misc Val']\n",
    "X5 = df_cl[X_list_5]\n",
    "y = df_cl[\"SalePrice\"]"
   ]
  },
  {
   "cell_type": "code",
   "execution_count": 70,
   "metadata": {},
   "outputs": [],
   "source": [
    "# Create train test split\n",
    "X5_train, X5_test, y_train, y_test = train_test_split(X5, y, test_size = .25, random_state=42)"
   ]
  },
  {
   "cell_type": "markdown",
   "metadata": {},
   "source": [
    "### Run PowerTransformer on X data"
   ]
  },
  {
   "cell_type": "code",
   "execution_count": 71,
   "metadata": {},
   "outputs": [],
   "source": [
    "pt = PowerTransformer()\n",
    "pt.fit(X5_train)\n",
    "X5_train = pt.transform(X5_train)\n",
    "X5_test = pt.transform(X5_test)"
   ]
  },
  {
   "cell_type": "markdown",
   "metadata": {},
   "source": [
    "### Run PowerTransformer on Y data"
   ]
  },
  {
   "cell_type": "code",
   "execution_count": 72,
   "metadata": {},
   "outputs": [],
   "source": [
    "pt_y = PowerTransformer()\n",
    "# PowerTransformer requires a matrix/DataFrame, which is why we're using the .to_frame() method on y_train\n",
    "pt_y.fit(y_train.to_frame()) \n",
    "y_train_pt = pt_y.transform(y_train.to_frame())\n",
    "y_test_pt = pt_y.transform(y_test.to_frame())"
   ]
  },
  {
   "cell_type": "markdown",
   "metadata": {},
   "source": [
    "### Instantiate models"
   ]
  },
  {
   "cell_type": "code",
   "execution_count": 73,
   "metadata": {},
   "outputs": [],
   "source": [
    "# Instantiate model\n",
    "lm5 = LinearRegression()"
   ]
  },
  {
   "cell_type": "markdown",
   "metadata": {},
   "source": [
    "### Cross Validation"
   ]
  },
  {
   "cell_type": "code",
   "execution_count": 74,
   "metadata": {},
   "outputs": [
    {
     "data": {
      "text/plain": [
       "0.8619765606642827"
      ]
     },
     "execution_count": 74,
     "metadata": {},
     "output_type": "execute_result"
    }
   ],
   "source": [
    "# Run cross validation\n",
    "cross_val_score(lm5, X5_train, y_train_pt, cv=5).mean()"
   ]
  },
  {
   "cell_type": "markdown",
   "metadata": {},
   "source": [
    "### Model Fit & Evaluation"
   ]
  },
  {
   "cell_type": "code",
   "execution_count": 75,
   "metadata": {},
   "outputs": [],
   "source": [
    "# Fit model\n",
    "lm5.fit(X5_train, y_train_pt);"
   ]
  },
  {
   "cell_type": "code",
   "execution_count": 76,
   "metadata": {},
   "outputs": [
    {
     "data": {
      "text/plain": [
       "0.8743380149216706"
      ]
     },
     "execution_count": 76,
     "metadata": {},
     "output_type": "execute_result"
    }
   ],
   "source": [
    "# Score training data\n",
    "lm5.score(X5_train, y_train_pt)"
   ]
  },
  {
   "cell_type": "code",
   "execution_count": 77,
   "metadata": {},
   "outputs": [
    {
     "data": {
      "text/plain": [
       "0.86710013667019"
      ]
     },
     "execution_count": 77,
     "metadata": {},
     "output_type": "execute_result"
    }
   ],
   "source": [
    "# Score test data\n",
    "lm5.score(X5_test, y_test_pt)"
   ]
  },
  {
   "cell_type": "markdown",
   "metadata": {},
   "source": [
    "### Check residuals"
   ]
  },
  {
   "cell_type": "code",
   "execution_count": 78,
   "metadata": {},
   "outputs": [],
   "source": [
    "preds5 = lm5.predict(X5_test)"
   ]
  },
  {
   "cell_type": "code",
   "execution_count": 79,
   "metadata": {},
   "outputs": [
    {
     "data": {
      "text/plain": [
       "0.032050668584741905"
      ]
     },
     "execution_count": 79,
     "metadata": {},
     "output_type": "execute_result"
    }
   ],
   "source": [
    "preds5.mean()"
   ]
  },
  {
   "cell_type": "code",
   "execution_count": 80,
   "metadata": {},
   "outputs": [],
   "source": [
    "pred5_reversed = pt_y.inverse_transform(preds5.reshape(-1,1))"
   ]
  },
  {
   "cell_type": "code",
   "execution_count": 81,
   "metadata": {},
   "outputs": [
    {
     "data": {
      "text/plain": [
       "181143.52570090396"
      ]
     },
     "execution_count": 81,
     "metadata": {},
     "output_type": "execute_result"
    }
   ],
   "source": [
    "pred5_reversed.mean()"
   ]
  },
  {
   "cell_type": "code",
   "execution_count": 82,
   "metadata": {},
   "outputs": [],
   "source": [
    "residuals5 = y_test_pt - preds5"
   ]
  },
  {
   "cell_type": "code",
   "execution_count": 83,
   "metadata": {},
   "outputs": [
    {
     "data": {
      "image/png": "[encoded data removed]",
      "text/plain": [
       "<Figure size 432x288 with 1 Axes>"
      ]
     },
     "metadata": {
      "needs_background": "light"
     },
     "output_type": "display_data"
    }
   ],
   "source": [
    "plt.scatter(pred5_reversed, residuals)\n",
    "plt.axhline(0, color='r');"
   ]
  },
  {
   "cell_type": "code",
   "execution_count": 84,
   "metadata": {},
   "outputs": [
    {
     "data": {
      "text/plain": [
       "25441.89414579718"
      ]
     },
     "execution_count": 84,
     "metadata": {},
     "output_type": "execute_result"
    }
   ],
   "source": [
    "# Calculate root mean squared error\n",
    "np.sqrt(metrics.mean_squared_error(y_test, pred5_reversed))"
   ]
  },
  {
   "cell_type": "code",
   "execution_count": 85,
   "metadata": {},
   "outputs": [],
   "source": [
    "X5 = sm.add_constant(X5_train)\n",
    "y = y_train_pt\n",
    "model = sm.OLS(y, X5).fit()"
   ]
  },
  {
   "cell_type": "code",
   "execution_count": 2290,
   "metadata": {},
   "outputs": [
    {
     "data": {
      "text/html": [
       "<table class=\"simpletable\">\n",
       "<caption>OLS Regression Results</caption>\n",
       "<tr>\n",
       "  <th>Dep. Variable:</th>            <td>y</td>        <th>  R-squared:         </th> <td>   0.874</td>\n",
       "</tr>\n",
       "<tr>\n",
       "  <th>Model:</th>                   <td>OLS</td>       <th>  Adj. R-squared:    </th> <td>   0.872</td>\n",
       "</tr>\n",
       "<tr>\n",
       "  <th>Method:</th>             <td>Least Squares</td>  <th>  F-statistic:       </th> <td>   349.5</td>\n",
       "</tr>\n",
       "<tr>\n",
       "  <th>Date:</th>             <td>Sun, 05 Apr 2020</td> <th>  Prob (F-statistic):</th>  <td>  0.00</td> \n",
       "</tr>\n",
       "<tr>\n",
       "  <th>Time:</th>                 <td>23:48:37</td>     <th>  Log-Likelihood:    </th> <td> -587.30</td>\n",
       "</tr>\n",
       "<tr>\n",
       "  <th>No. Observations:</th>      <td>  1538</td>      <th>  AIC:               </th> <td>   1237.</td>\n",
       "</tr>\n",
       "<tr>\n",
       "  <th>Df Residuals:</th>          <td>  1507</td>      <th>  BIC:               </th> <td>   1402.</td>\n",
       "</tr>\n",
       "<tr>\n",
       "  <th>Df Model:</th>              <td>    30</td>      <th>                     </th>     <td> </td>   \n",
       "</tr>\n",
       "<tr>\n",
       "  <th>Covariance Type:</th>      <td>nonrobust</td>    <th>                     </th>     <td> </td>   \n",
       "</tr>\n",
       "</table>\n",
       "<table class=\"simpletable\">\n",
       "<tr>\n",
       "    <td></td>       <th>coef</th>     <th>std err</th>      <th>t</th>      <th>P>|t|</th>  <th>[0.025</th>    <th>0.975]</th>  \n",
       "</tr>\n",
       "<tr>\n",
       "  <th>const</th> <td>-2.152e-15</td> <td>    0.009</td> <td>-2.36e-13</td> <td> 1.000</td> <td>   -0.018</td> <td>    0.018</td>\n",
       "</tr>\n",
       "<tr>\n",
       "  <th>x1</th>    <td>    0.2795</td> <td>    0.016</td> <td>   17.197</td> <td> 0.000</td> <td>    0.248</td> <td>    0.311</td>\n",
       "</tr>\n",
       "<tr>\n",
       "  <th>x2</th>    <td>    0.2527</td> <td>    0.021</td> <td>   12.153</td> <td> 0.000</td> <td>    0.212</td> <td>    0.293</td>\n",
       "</tr>\n",
       "<tr>\n",
       "  <th>x3</th>    <td>    0.0918</td> <td>    0.013</td> <td>    7.036</td> <td> 0.000</td> <td>    0.066</td> <td>    0.117</td>\n",
       "</tr>\n",
       "<tr>\n",
       "  <th>x4</th>    <td>    0.0364</td> <td>    0.019</td> <td>    1.946</td> <td> 0.052</td> <td>   -0.000</td> <td>    0.073</td>\n",
       "</tr>\n",
       "<tr>\n",
       "  <th>x5</th>    <td>    0.0982</td> <td>    0.017</td> <td>    5.731</td> <td> 0.000</td> <td>    0.065</td> <td>    0.132</td>\n",
       "</tr>\n",
       "<tr>\n",
       "  <th>x6</th>    <td>   -0.0300</td> <td>    0.021</td> <td>   -1.401</td> <td> 0.161</td> <td>   -0.072</td> <td>    0.012</td>\n",
       "</tr>\n",
       "<tr>\n",
       "  <th>x7</th>    <td>   -0.1182</td> <td>    0.015</td> <td>   -7.668</td> <td> 0.000</td> <td>   -0.148</td> <td>   -0.088</td>\n",
       "</tr>\n",
       "<tr>\n",
       "  <th>x8</th>    <td>    0.0209</td> <td>    0.017</td> <td>    1.241</td> <td> 0.215</td> <td>   -0.012</td> <td>    0.054</td>\n",
       "</tr>\n",
       "<tr>\n",
       "  <th>x9</th>    <td>    0.0507</td> <td>    0.013</td> <td>    3.805</td> <td> 0.000</td> <td>    0.025</td> <td>    0.077</td>\n",
       "</tr>\n",
       "<tr>\n",
       "  <th>x10</th>   <td>   -0.0631</td> <td>    0.017</td> <td>   -3.615</td> <td> 0.000</td> <td>   -0.097</td> <td>   -0.029</td>\n",
       "</tr>\n",
       "<tr>\n",
       "  <th>x11</th>   <td>   -0.0721</td> <td>    0.022</td> <td>   -3.256</td> <td> 0.001</td> <td>   -0.116</td> <td>   -0.029</td>\n",
       "</tr>\n",
       "<tr>\n",
       "  <th>x12</th>   <td>   -0.0445</td> <td>    0.012</td> <td>   -3.664</td> <td> 0.000</td> <td>   -0.068</td> <td>   -0.021</td>\n",
       "</tr>\n",
       "<tr>\n",
       "  <th>x13</th>   <td>    0.0463</td> <td>    0.023</td> <td>    2.059</td> <td> 0.040</td> <td>    0.002</td> <td>    0.090</td>\n",
       "</tr>\n",
       "<tr>\n",
       "  <th>x14</th>   <td>    0.1783</td> <td>    0.024</td> <td>    7.534</td> <td> 0.000</td> <td>    0.132</td> <td>    0.225</td>\n",
       "</tr>\n",
       "<tr>\n",
       "  <th>x15</th>   <td>   -0.0366</td> <td>    0.010</td> <td>   -3.523</td> <td> 0.000</td> <td>   -0.057</td> <td>   -0.016</td>\n",
       "</tr>\n",
       "<tr>\n",
       "  <th>x16</th>   <td>   -0.0180</td> <td>    0.010</td> <td>   -1.715</td> <td> 0.087</td> <td>   -0.038</td> <td>    0.003</td>\n",
       "</tr>\n",
       "<tr>\n",
       "  <th>x17</th>   <td>   -0.0479</td> <td>    0.012</td> <td>   -3.950</td> <td> 0.000</td> <td>   -0.072</td> <td>   -0.024</td>\n",
       "</tr>\n",
       "<tr>\n",
       "  <th>x18</th>   <td>    0.0526</td> <td>    0.011</td> <td>    4.789</td> <td> 0.000</td> <td>    0.031</td> <td>    0.074</td>\n",
       "</tr>\n",
       "<tr>\n",
       "  <th>x19</th>   <td>   -0.0200</td> <td>    0.010</td> <td>   -1.944</td> <td> 0.052</td> <td>   -0.040</td> <td>    0.000</td>\n",
       "</tr>\n",
       "<tr>\n",
       "  <th>x20</th>   <td>    0.0183</td> <td>    0.013</td> <td>    1.457</td> <td> 0.145</td> <td>   -0.006</td> <td>    0.043</td>\n",
       "</tr>\n",
       "<tr>\n",
       "  <th>x21</th>   <td>    0.0275</td> <td>    0.013</td> <td>    2.170</td> <td> 0.030</td> <td>    0.003</td> <td>    0.052</td>\n",
       "</tr>\n",
       "<tr>\n",
       "  <th>x22</th>   <td>    0.0304</td> <td>    0.011</td> <td>    2.669</td> <td> 0.008</td> <td>    0.008</td> <td>    0.053</td>\n",
       "</tr>\n",
       "<tr>\n",
       "  <th>x23</th>   <td>   -0.0287</td> <td>    0.009</td> <td>   -3.085</td> <td> 0.002</td> <td>   -0.047</td> <td>   -0.010</td>\n",
       "</tr>\n",
       "<tr>\n",
       "  <th>x24</th>   <td>   -0.0473</td> <td>    0.011</td> <td>   -4.288</td> <td> 0.000</td> <td>   -0.069</td> <td>   -0.026</td>\n",
       "</tr>\n",
       "<tr>\n",
       "  <th>x25</th>   <td>    0.0261</td> <td>    0.010</td> <td>    2.561</td> <td> 0.011</td> <td>    0.006</td> <td>    0.046</td>\n",
       "</tr>\n",
       "<tr>\n",
       "  <th>x26</th>   <td>    0.0162</td> <td>    0.011</td> <td>    1.442</td> <td> 0.149</td> <td>   -0.006</td> <td>    0.038</td>\n",
       "</tr>\n",
       "<tr>\n",
       "  <th>x27</th>   <td>    0.0126</td> <td>    0.009</td> <td>    1.365</td> <td> 0.173</td> <td>   -0.006</td> <td>    0.031</td>\n",
       "</tr>\n",
       "<tr>\n",
       "  <th>x28</th>   <td>    0.0519</td> <td>    0.009</td> <td>    5.472</td> <td> 0.000</td> <td>    0.033</td> <td>    0.070</td>\n",
       "</tr>\n",
       "<tr>\n",
       "  <th>x29</th>   <td>   -0.0337</td> <td>    0.009</td> <td>   -3.627</td> <td> 0.000</td> <td>   -0.052</td> <td>   -0.015</td>\n",
       "</tr>\n",
       "<tr>\n",
       "  <th>x30</th>   <td>   -0.0150</td> <td>    0.009</td> <td>   -1.610</td> <td> 0.108</td> <td>   -0.033</td> <td>    0.003</td>\n",
       "</tr>\n",
       "</table>\n",
       "<table class=\"simpletable\">\n",
       "<tr>\n",
       "  <th>Omnibus:</th>       <td>802.163</td> <th>  Durbin-Watson:     </th> <td>   1.910</td> \n",
       "</tr>\n",
       "<tr>\n",
       "  <th>Prob(Omnibus):</th> <td> 0.000</td>  <th>  Jarque-Bera (JB):  </th> <td>17366.824</td>\n",
       "</tr>\n",
       "<tr>\n",
       "  <th>Skew:</th>          <td>-1.949</td>  <th>  Prob(JB):          </th> <td>    0.00</td> \n",
       "</tr>\n",
       "<tr>\n",
       "  <th>Kurtosis:</th>      <td>18.994</td>  <th>  Cond. No.          </th> <td>    9.81</td> \n",
       "</tr>\n",
       "</table><br/><br/>Warnings:<br/>[1] Standard Errors assume that the covariance matrix of the errors is correctly specified."
      ],
      "text/plain": [
       "<class 'statsmodels.iolib.summary.Summary'>\n",
       "\"\"\"\n",
       "                            OLS Regression Results                            \n",
       "==============================================================================\n",
       "Dep. Variable:                      y   R-squared:                       0.874\n",
       "Model:                            OLS   Adj. R-squared:                  0.872\n",
       "Method:                 Least Squares   F-statistic:                     349.5\n",
       "Date:                Sun, 05 Apr 2020   Prob (F-statistic):               0.00\n",
       "Time:                        23:48:37   Log-Likelihood:                -587.30\n",
       "No. Observations:                1538   AIC:                             1237.\n",
       "Df Residuals:                    1507   BIC:                             1402.\n",
       "Df Model:                          30                                         \n",
       "Covariance Type:            nonrobust                                         \n",
       "==============================================================================\n",
       "                 coef    std err          t      P>|t|      [0.025      0.975]\n",
       "------------------------------------------------------------------------------\n",
       "const      -2.152e-15      0.009  -2.36e-13      1.000      -0.018       0.018\n",
       "x1             0.2795      0.016     17.197      0.000       0.248       0.311\n",
       "x2             0.2527      0.021     12.153      0.000       0.212       0.293\n",
       "x3             0.0918      0.013      7.036      0.000       0.066       0.117\n",
       "x4             0.0364      0.019      1.946      0.052      -0.000       0.073\n",
       "x5             0.0982      0.017      5.731      0.000       0.065       0.132\n",
       "x6            -0.0300      0.021     -1.401      0.161      -0.072       0.012\n",
       "x7            -0.1182      0.015     -7.668      0.000      -0.148      -0.088\n",
       "x8             0.0209      0.017      1.241      0.215      -0.012       0.054\n",
       "x9             0.0507      0.013      3.805      0.000       0.025       0.077\n",
       "x10           -0.0631      0.017     -3.615      0.000      -0.097      -0.029\n",
       "x11           -0.0721      0.022     -3.256      0.001      -0.116      -0.029\n",
       "x12           -0.0445      0.012     -3.664      0.000      -0.068      -0.021\n",
       "x13            0.0463      0.023      2.059      0.040       0.002       0.090\n",
       "x14            0.1783      0.024      7.534      0.000       0.132       0.225\n",
       "x15           -0.0366      0.010     -3.523      0.000      -0.057      -0.016\n",
       "x16           -0.0180      0.010     -1.715      0.087      -0.038       0.003\n",
       "x17           -0.0479      0.012     -3.950      0.000      -0.072      -0.024\n",
       "x18            0.0526      0.011      4.789      0.000       0.031       0.074\n",
       "x19           -0.0200      0.010     -1.944      0.052      -0.040       0.000\n",
       "x20            0.0183      0.013      1.457      0.145      -0.006       0.043\n",
       "x21            0.0275      0.013      2.170      0.030       0.003       0.052\n",
       "x22            0.0304      0.011      2.669      0.008       0.008       0.053\n",
       "x23           -0.0287      0.009     -3.085      0.002      -0.047      -0.010\n",
       "x24           -0.0473      0.011     -4.288      0.000      -0.069      -0.026\n",
       "x25            0.0261      0.010      2.561      0.011       0.006       0.046\n",
       "x26            0.0162      0.011      1.442      0.149      -0.006       0.038\n",
       "x27            0.0126      0.009      1.365      0.173      -0.006       0.031\n",
       "x28            0.0519      0.009      5.472      0.000       0.033       0.070\n",
       "x29           -0.0337      0.009     -3.627      0.000      -0.052      -0.015\n",
       "x30           -0.0150      0.009     -1.610      0.108      -0.033       0.003\n",
       "==============================================================================\n",
       "Omnibus:                      802.163   Durbin-Watson:                   1.910\n",
       "Prob(Omnibus):                  0.000   Jarque-Bera (JB):            17366.824\n",
       "Skew:                          -1.949   Prob(JB):                         0.00\n",
       "Kurtosis:                      18.994   Cond. No.                         9.81\n",
       "==============================================================================\n",
       "\n",
       "Warnings:\n",
       "[1] Standard Errors assume that the covariance matrix of the errors is correctly specified.\n",
       "\"\"\""
      ]
     },
     "execution_count": 2290,
     "metadata": {},
     "output_type": "execute_result"
    }
   ],
   "source": [
    "model.summary()"
   ]
  },
  {
   "cell_type": "code",
   "execution_count": null,
   "metadata": {},
   "outputs": [],
   "source": []
  },
  {
   "cell_type": "markdown",
   "metadata": {},
   "source": [
    "### Model 6 - Top Variables plus Size & Key Features"
   ]
  },
  {
   "cell_type": "code",
   "execution_count": 86,
   "metadata": {},
   "outputs": [],
   "source": [
    "# Define X & y variables\n",
    "X_list_6 = ['Overall Qual', 'Gr Liv Area', 'Garage Cars', 'Total Bsmt SF', '1st Flr SF', \n",
    "            'Age At Sale', 'Years Since Remod/Add',  \n",
    "            'HasFireplace', '2nd Flr SF', 'Low Qual Fin SF', \n",
    "            'HasBsmtFullBath', 'HasBsmtHalfBath', 'Half Bath', 'Kitchen AbvGr', \n",
    "            'Kitchen Qual_Gd', 'Kitchen Qual_TA', 'Kitchen Qual_Fa', 'IsNotTypFunctional']\n",
    "\n",
    "X6 = df_cl[X_list_6]\n",
    "y = df_cl[\"SalePrice\"]"
   ]
  },
  {
   "cell_type": "code",
   "execution_count": 87,
   "metadata": {},
   "outputs": [],
   "source": [
    "# Create train test split\n",
    "X6_train, X6_test, y_train, y_test = train_test_split(X6, y, test_size = .25, random_state=42)"
   ]
  },
  {
   "cell_type": "markdown",
   "metadata": {},
   "source": [
    "### Run PowerTransformer on X data"
   ]
  },
  {
   "cell_type": "code",
   "execution_count": 88,
   "metadata": {},
   "outputs": [],
   "source": [
    "pt = PowerTransformer()\n",
    "pt.fit(X6_train)\n",
    "X6_train = pt.transform(X6_train)\n",
    "X6_test = pt.transform(X6_test)"
   ]
  },
  {
   "cell_type": "markdown",
   "metadata": {},
   "source": [
    "### Run PowerTransformer on Y data"
   ]
  },
  {
   "cell_type": "code",
   "execution_count": 89,
   "metadata": {},
   "outputs": [],
   "source": [
    "pt_y = PowerTransformer()\n",
    "# PowerTransformer requires a matrix/DataFrame, which is why we're using the .to_frame() method on y_train\n",
    "pt_y.fit(y_train.to_frame()) \n",
    "y_train_pt = pt_y.transform(y_train.to_frame())\n",
    "y_test_pt = pt_y.transform(y_test.to_frame())"
   ]
  },
  {
   "cell_type": "markdown",
   "metadata": {},
   "source": [
    "### Instantiate models"
   ]
  },
  {
   "cell_type": "code",
   "execution_count": 90,
   "metadata": {},
   "outputs": [],
   "source": [
    "# Instantiate model\n",
    "lm6 = LinearRegression()"
   ]
  },
  {
   "cell_type": "markdown",
   "metadata": {},
   "source": [
    "### Cross Validation"
   ]
  },
  {
   "cell_type": "code",
   "execution_count": 91,
   "metadata": {},
   "outputs": [
    {
     "data": {
      "text/plain": [
       "0.8539335069577174"
      ]
     },
     "execution_count": 91,
     "metadata": {},
     "output_type": "execute_result"
    }
   ],
   "source": [
    "# Run cross validation\n",
    "cross_val_score(lm6, X6_train, y_train_pt, cv=5).mean()"
   ]
  },
  {
   "cell_type": "markdown",
   "metadata": {},
   "source": [
    "### Model Fit & Evaluation"
   ]
  },
  {
   "cell_type": "code",
   "execution_count": 92,
   "metadata": {},
   "outputs": [],
   "source": [
    "# Fit model\n",
    "lm6.fit(X6_train, y_train_pt);"
   ]
  },
  {
   "cell_type": "code",
   "execution_count": 93,
   "metadata": {},
   "outputs": [
    {
     "data": {
      "text/plain": [
       "0.862112655572718"
      ]
     },
     "execution_count": 93,
     "metadata": {},
     "output_type": "execute_result"
    }
   ],
   "source": [
    "# Score training data\n",
    "lm6.score(X6_train, y_train_pt)"
   ]
  },
  {
   "cell_type": "code",
   "execution_count": 94,
   "metadata": {},
   "outputs": [
    {
     "data": {
      "text/plain": [
       "0.8611057285618093"
      ]
     },
     "execution_count": 94,
     "metadata": {},
     "output_type": "execute_result"
    }
   ],
   "source": [
    "# Score test data\n",
    "lm6.score(X6_test, y_test_pt)"
   ]
  },
  {
   "cell_type": "markdown",
   "metadata": {},
   "source": [
    "### Check residuals"
   ]
  },
  {
   "cell_type": "code",
   "execution_count": 95,
   "metadata": {},
   "outputs": [],
   "source": [
    "preds6 = lm6.predict(X6_test)"
   ]
  },
  {
   "cell_type": "code",
   "execution_count": 96,
   "metadata": {},
   "outputs": [
    {
     "data": {
      "text/plain": [
       "0.02719218179230507"
      ]
     },
     "execution_count": 96,
     "metadata": {},
     "output_type": "execute_result"
    }
   ],
   "source": [
    "preds6.mean()"
   ]
  },
  {
   "cell_type": "code",
   "execution_count": 97,
   "metadata": {},
   "outputs": [],
   "source": [
    "pred6_reversed = pt_y.inverse_transform(preds6.reshape(-1,1))"
   ]
  },
  {
   "cell_type": "code",
   "execution_count": 98,
   "metadata": {},
   "outputs": [
    {
     "data": {
      "text/plain": [
       "180491.0326103278"
      ]
     },
     "execution_count": 98,
     "metadata": {},
     "output_type": "execute_result"
    }
   ],
   "source": [
    "pred6_reversed.mean()"
   ]
  },
  {
   "cell_type": "code",
   "execution_count": 99,
   "metadata": {},
   "outputs": [],
   "source": [
    "residuals6 = y_test_pt - preds6"
   ]
  },
  {
   "cell_type": "code",
   "execution_count": 100,
   "metadata": {},
   "outputs": [
    {
     "data": {
      "image/png": "[encoded data removed]",
      "text/plain": [
       "<Figure size 432x288 with 1 Axes>"
      ]
     },
     "metadata": {
      "needs_background": "light"
     },
     "output_type": "display_data"
    }
   ],
   "source": [
    "plt.scatter(pred6_reversed, residuals)\n",
    "plt.axhline(0, color='r');"
   ]
  },
  {
   "cell_type": "code",
   "execution_count": 102,
   "metadata": {},
   "outputs": [
    {
     "data": {
      "text/plain": [
       "24516.922777779513"
      ]
     },
     "execution_count": 102,
     "metadata": {},
     "output_type": "execute_result"
    }
   ],
   "source": [
    "# Calculate root mean squared error\n",
    "np.sqrt(metrics.mean_squared_error(y_test, pred6_reversed))"
   ]
  },
  {
   "cell_type": "code",
   "execution_count": 2306,
   "metadata": {},
   "outputs": [],
   "source": [
    "X6 = sm.add_constant(X6_train)\n",
    "y = y_train_pt\n",
    "model = sm.OLS(y, X6).fit()"
   ]
  },
  {
   "cell_type": "code",
   "execution_count": 1554,
   "metadata": {},
   "outputs": [
    {
     "data": {
      "text/html": [
       "<table class=\"simpletable\">\n",
       "<caption>OLS Regression Results</caption>\n",
       "<tr>\n",
       "  <th>Dep. Variable:</th>            <td>y</td>        <th>  R-squared:         </th> <td>   0.863</td>\n",
       "</tr>\n",
       "<tr>\n",
       "  <th>Model:</th>                   <td>OLS</td>       <th>  Adj. R-squared:    </th> <td>   0.862</td>\n",
       "</tr>\n",
       "<tr>\n",
       "  <th>Method:</th>             <td>Least Squares</td>  <th>  F-statistic:       </th> <td>   533.3</td>\n",
       "</tr>\n",
       "<tr>\n",
       "  <th>Date:</th>             <td>Sun, 05 Apr 2020</td> <th>  Prob (F-statistic):</th>  <td>  0.00</td> \n",
       "</tr>\n",
       "<tr>\n",
       "  <th>Time:</th>                 <td>22:22:41</td>     <th>  Log-Likelihood:    </th> <td> -651.61</td>\n",
       "</tr>\n",
       "<tr>\n",
       "  <th>No. Observations:</th>      <td>  1538</td>      <th>  AIC:               </th> <td>   1341.</td>\n",
       "</tr>\n",
       "<tr>\n",
       "  <th>Df Residuals:</th>          <td>  1519</td>      <th>  BIC:               </th> <td>   1443.</td>\n",
       "</tr>\n",
       "<tr>\n",
       "  <th>Df Model:</th>              <td>    18</td>      <th>                     </th>     <td> </td>   \n",
       "</tr>\n",
       "<tr>\n",
       "  <th>Covariance Type:</th>      <td>nonrobust</td>    <th>                     </th>     <td> </td>   \n",
       "</tr>\n",
       "</table>\n",
       "<table class=\"simpletable\">\n",
       "<tr>\n",
       "    <td></td>       <th>coef</th>     <th>std err</th>      <th>t</th>      <th>P>|t|</th>  <th>[0.025</th>    <th>0.975]</th>  \n",
       "</tr>\n",
       "<tr>\n",
       "  <th>const</th> <td>-1.547e-15</td> <td>    0.009</td> <td>-1.63e-13</td> <td> 1.000</td> <td>   -0.019</td> <td>    0.019</td>\n",
       "</tr>\n",
       "<tr>\n",
       "  <th>x1</th>    <td>    0.2444</td> <td>    0.018</td> <td>   13.850</td> <td> 0.000</td> <td>    0.210</td> <td>    0.279</td>\n",
       "</tr>\n",
       "<tr>\n",
       "  <th>x2</th>    <td>    0.3532</td> <td>    0.042</td> <td>    8.445</td> <td> 0.000</td> <td>    0.271</td> <td>    0.435</td>\n",
       "</tr>\n",
       "<tr>\n",
       "  <th>x3</th>    <td>    0.1047</td> <td>    0.013</td> <td>    7.784</td> <td> 0.000</td> <td>    0.078</td> <td>    0.131</td>\n",
       "</tr>\n",
       "<tr>\n",
       "  <th>x4</th>    <td>    0.0457</td> <td>    0.016</td> <td>    2.930</td> <td> 0.003</td> <td>    0.015</td> <td>    0.076</td>\n",
       "</tr>\n",
       "<tr>\n",
       "  <th>x5</th>    <td>    0.0667</td> <td>    0.039</td> <td>    1.725</td> <td> 0.085</td> <td>   -0.009</td> <td>    0.142</td>\n",
       "</tr>\n",
       "<tr>\n",
       "  <th>x6</th>    <td>    0.0856</td> <td>    0.016</td> <td>    5.231</td> <td> 0.000</td> <td>    0.054</td> <td>    0.118</td>\n",
       "</tr>\n",
       "<tr>\n",
       "  <th>x7</th>    <td>    0.1093</td> <td>    0.015</td> <td>    7.491</td> <td> 0.000</td> <td>    0.081</td> <td>    0.138</td>\n",
       "</tr>\n",
       "<tr>\n",
       "  <th>x8</th>    <td>    0.0766</td> <td>    0.012</td> <td>    6.643</td> <td> 0.000</td> <td>    0.054</td> <td>    0.099</td>\n",
       "</tr>\n",
       "<tr>\n",
       "  <th>x9</th>    <td>   -0.0663</td> <td>    0.036</td> <td>   -1.830</td> <td> 0.067</td> <td>   -0.137</td> <td>    0.005</td>\n",
       "</tr>\n",
       "<tr>\n",
       "  <th>x10</th>   <td>   -0.0307</td> <td>    0.010</td> <td>   -2.927</td> <td> 0.003</td> <td>   -0.051</td> <td>   -0.010</td>\n",
       "</tr>\n",
       "<tr>\n",
       "  <th>x11</th>   <td>    0.1045</td> <td>    0.010</td> <td>   10.138</td> <td> 0.000</td> <td>    0.084</td> <td>    0.125</td>\n",
       "</tr>\n",
       "<tr>\n",
       "  <th>x12</th>   <td>    0.0270</td> <td>    0.010</td> <td>    2.755</td> <td> 0.006</td> <td>    0.008</td> <td>    0.046</td>\n",
       "</tr>\n",
       "<tr>\n",
       "  <th>x13</th>   <td>    0.0308</td> <td>    0.013</td> <td>    2.406</td> <td> 0.016</td> <td>    0.006</td> <td>    0.056</td>\n",
       "</tr>\n",
       "<tr>\n",
       "  <th>x14</th>   <td>   -0.0533</td> <td>    0.010</td> <td>   -5.175</td> <td> 0.000</td> <td>   -0.073</td> <td>   -0.033</td>\n",
       "</tr>\n",
       "<tr>\n",
       "  <th>x15</th>   <td>   -0.1235</td> <td>    0.020</td> <td>   -6.052</td> <td> 0.000</td> <td>   -0.164</td> <td>   -0.083</td>\n",
       "</tr>\n",
       "<tr>\n",
       "  <th>x16</th>   <td>   -0.1543</td> <td>    0.025</td> <td>   -6.234</td> <td> 0.000</td> <td>   -0.203</td> <td>   -0.106</td>\n",
       "</tr>\n",
       "<tr>\n",
       "  <th>x17</th>   <td>   -0.0913</td> <td>    0.013</td> <td>   -7.063</td> <td> 0.000</td> <td>   -0.117</td> <td>   -0.066</td>\n",
       "</tr>\n",
       "<tr>\n",
       "  <th>x18</th>   <td>   -0.0681</td> <td>    0.010</td> <td>   -6.625</td> <td> 0.000</td> <td>   -0.088</td> <td>   -0.048</td>\n",
       "</tr>\n",
       "</table>\n",
       "<table class=\"simpletable\">\n",
       "<tr>\n",
       "  <th>Omnibus:</th>       <td>828.872</td> <th>  Durbin-Watson:     </th> <td>   1.938</td> \n",
       "</tr>\n",
       "<tr>\n",
       "  <th>Prob(Omnibus):</th> <td> 0.000</td>  <th>  Jarque-Bera (JB):  </th> <td>18595.427</td>\n",
       "</tr>\n",
       "<tr>\n",
       "  <th>Skew:</th>          <td>-2.030</td>  <th>  Prob(JB):          </th> <td>    0.00</td> \n",
       "</tr>\n",
       "<tr>\n",
       "  <th>Kurtosis:</th>      <td>19.544</td>  <th>  Cond. No.          </th> <td>    15.6</td> \n",
       "</tr>\n",
       "</table><br/><br/>Warnings:<br/>[1] Standard Errors assume that the covariance matrix of the errors is correctly specified."
      ],
      "text/plain": [
       "<class 'statsmodels.iolib.summary.Summary'>\n",
       "\"\"\"\n",
       "                            OLS Regression Results                            \n",
       "==============================================================================\n",
       "Dep. Variable:                      y   R-squared:                       0.863\n",
       "Model:                            OLS   Adj. R-squared:                  0.862\n",
       "Method:                 Least Squares   F-statistic:                     533.3\n",
       "Date:                Sun, 05 Apr 2020   Prob (F-statistic):               0.00\n",
       "Time:                        22:22:41   Log-Likelihood:                -651.61\n",
       "No. Observations:                1538   AIC:                             1341.\n",
       "Df Residuals:                    1519   BIC:                             1443.\n",
       "Df Model:                          18                                         \n",
       "Covariance Type:            nonrobust                                         \n",
       "==============================================================================\n",
       "                 coef    std err          t      P>|t|      [0.025      0.975]\n",
       "------------------------------------------------------------------------------\n",
       "const      -1.547e-15      0.009  -1.63e-13      1.000      -0.019       0.019\n",
       "x1             0.2444      0.018     13.850      0.000       0.210       0.279\n",
       "x2             0.3532      0.042      8.445      0.000       0.271       0.435\n",
       "x3             0.1047      0.013      7.784      0.000       0.078       0.131\n",
       "x4             0.0457      0.016      2.930      0.003       0.015       0.076\n",
       "x5             0.0667      0.039      1.725      0.085      -0.009       0.142\n",
       "x6             0.0856      0.016      5.231      0.000       0.054       0.118\n",
       "x7             0.1093      0.015      7.491      0.000       0.081       0.138\n",
       "x8             0.0766      0.012      6.643      0.000       0.054       0.099\n",
       "x9            -0.0663      0.036     -1.830      0.067      -0.137       0.005\n",
       "x10           -0.0307      0.010     -2.927      0.003      -0.051      -0.010\n",
       "x11            0.1045      0.010     10.138      0.000       0.084       0.125\n",
       "x12            0.0270      0.010      2.755      0.006       0.008       0.046\n",
       "x13            0.0308      0.013      2.406      0.016       0.006       0.056\n",
       "x14           -0.0533      0.010     -5.175      0.000      -0.073      -0.033\n",
       "x15           -0.1235      0.020     -6.052      0.000      -0.164      -0.083\n",
       "x16           -0.1543      0.025     -6.234      0.000      -0.203      -0.106\n",
       "x17           -0.0913      0.013     -7.063      0.000      -0.117      -0.066\n",
       "x18           -0.0681      0.010     -6.625      0.000      -0.088      -0.048\n",
       "==============================================================================\n",
       "Omnibus:                      828.872   Durbin-Watson:                   1.938\n",
       "Prob(Omnibus):                  0.000   Jarque-Bera (JB):            18595.427\n",
       "Skew:                          -2.030   Prob(JB):                         0.00\n",
       "Kurtosis:                      19.544   Cond. No.                         15.6\n",
       "==============================================================================\n",
       "\n",
       "Warnings:\n",
       "[1] Standard Errors assume that the covariance matrix of the errors is correctly specified.\n",
       "\"\"\""
      ]
     },
     "execution_count": 1554,
     "metadata": {},
     "output_type": "execute_result"
    }
   ],
   "source": [
    "model.summary()"
   ]
  },
  {
   "cell_type": "code",
   "execution_count": null,
   "metadata": {},
   "outputs": [],
   "source": []
  },
  {
   "cell_type": "code",
   "execution_count": null,
   "metadata": {},
   "outputs": [],
   "source": []
  },
  {
   "cell_type": "markdown",
   "metadata": {},
   "source": [
    "## Ensemble Predictions"
   ]
  },
  {
   "cell_type": "code",
   "execution_count": 103,
   "metadata": {
    "scrolled": false
   },
   "outputs": [],
   "source": [
    "#Get cleaned test data file\n",
    "df_test = pd.read_csv(\"../datasets/test_cleaned.csv\")"
   ]
  },
  {
   "cell_type": "code",
   "execution_count": 2307,
   "metadata": {},
   "outputs": [],
   "source": [
    "#Model 1 \n",
    "X_1 = df_test[X_list_1]"
   ]
  },
  {
   "cell_type": "code",
   "execution_count": 2308,
   "metadata": {},
   "outputs": [],
   "source": [
    "pt.fit(X_1)\n",
    "X_1_pt = pt.transform(X_1)\n",
    "preds1 = lm1.predict(X_1_pt)"
   ]
  },
  {
   "cell_type": "code",
   "execution_count": 2309,
   "metadata": {},
   "outputs": [],
   "source": [
    "pred1_reversed = pt_y.inverse_transform(preds1.reshape(-1,1))"
   ]
  },
  {
   "cell_type": "code",
   "execution_count": 2310,
   "metadata": {},
   "outputs": [
    {
     "data": {
      "text/plain": [
       "179058.99234397968"
      ]
     },
     "execution_count": 2310,
     "metadata": {},
     "output_type": "execute_result"
    }
   ],
   "source": [
    "pred1_reversed.mean()"
   ]
  },
  {
   "cell_type": "code",
   "execution_count": 2311,
   "metadata": {},
   "outputs": [],
   "source": [
    "df_test[\"pred1\"] = pred1_reversed"
   ]
  },
  {
   "cell_type": "code",
   "execution_count": 2312,
   "metadata": {},
   "outputs": [
    {
     "data": {
      "text/plain": [
       "<matplotlib.axes._subplots.AxesSubplot at 0x1a3c7e8450>"
      ]
     },
     "execution_count": 2312,
     "metadata": {},
     "output_type": "execute_result"
    },
    {
     "data": {
      "image/png": "[encoded data removed]",
      "text/plain": [
       "<Figure size 432x288 with 1 Axes>"
      ]
     },
     "metadata": {
      "needs_background": "light"
     },
     "output_type": "display_data"
    }
   ],
   "source": [
    "sns.boxplot(df_test[\"pred1\"])"
   ]
  },
  {
   "cell_type": "code",
   "execution_count": 2313,
   "metadata": {},
   "outputs": [],
   "source": [
    "#Model 2 \n",
    "X_2 = df_test[X_list_2]"
   ]
  },
  {
   "cell_type": "code",
   "execution_count": 2314,
   "metadata": {},
   "outputs": [],
   "source": [
    "pt.fit(X_2)\n",
    "X_2_pt = pt.transform(X_2)\n",
    "preds2 = lm2.predict(X_2_pt)"
   ]
  },
  {
   "cell_type": "code",
   "execution_count": 2315,
   "metadata": {},
   "outputs": [],
   "source": [
    "pred2_reversed = pt_y.inverse_transform(preds2.reshape(-1,1))"
   ]
  },
  {
   "cell_type": "code",
   "execution_count": 2316,
   "metadata": {},
   "outputs": [
    {
     "data": {
      "text/plain": [
       "178800.54885889328"
      ]
     },
     "execution_count": 2316,
     "metadata": {},
     "output_type": "execute_result"
    }
   ],
   "source": [
    "pred2_reversed.mean()"
   ]
  },
  {
   "cell_type": "code",
   "execution_count": 2317,
   "metadata": {},
   "outputs": [
    {
     "data": {
      "text/plain": [
       "(878, 1)"
      ]
     },
     "execution_count": 2317,
     "metadata": {},
     "output_type": "execute_result"
    }
   ],
   "source": [
    "pred2_reversed.shape"
   ]
  },
  {
   "cell_type": "code",
   "execution_count": 2318,
   "metadata": {},
   "outputs": [],
   "source": [
    "df_test[\"pred2\"] = pred2_reversed"
   ]
  },
  {
   "cell_type": "code",
   "execution_count": null,
   "metadata": {},
   "outputs": [],
   "source": []
  },
  {
   "cell_type": "code",
   "execution_count": 2319,
   "metadata": {},
   "outputs": [],
   "source": [
    "#Model 3 \n",
    "X_3 = df_test[X_list_3]"
   ]
  },
  {
   "cell_type": "code",
   "execution_count": 2320,
   "metadata": {},
   "outputs": [],
   "source": [
    "pt.fit(X_3)\n",
    "X_3_pt = pt.transform(X_3)\n",
    "preds3 = lm3.predict(X_3_pt)"
   ]
  },
  {
   "cell_type": "code",
   "execution_count": 2321,
   "metadata": {},
   "outputs": [],
   "source": [
    "pred3_reversed = pt_y.inverse_transform(preds3.reshape(-1,1))"
   ]
  },
  {
   "cell_type": "code",
   "execution_count": 2322,
   "metadata": {},
   "outputs": [
    {
     "data": {
      "text/plain": [
       "178481.23980072778"
      ]
     },
     "execution_count": 2322,
     "metadata": {},
     "output_type": "execute_result"
    }
   ],
   "source": [
    "pred3_reversed.mean()"
   ]
  },
  {
   "cell_type": "code",
   "execution_count": 2323,
   "metadata": {},
   "outputs": [
    {
     "data": {
      "text/plain": [
       "(878, 1)"
      ]
     },
     "execution_count": 2323,
     "metadata": {},
     "output_type": "execute_result"
    }
   ],
   "source": [
    "pred3_reversed.shape"
   ]
  },
  {
   "cell_type": "code",
   "execution_count": 2324,
   "metadata": {},
   "outputs": [],
   "source": [
    "df_test[\"pred3\"] = pred3_reversed"
   ]
  },
  {
   "cell_type": "code",
   "execution_count": null,
   "metadata": {},
   "outputs": [],
   "source": []
  },
  {
   "cell_type": "code",
   "execution_count": 2325,
   "metadata": {},
   "outputs": [],
   "source": [
    "#Model 4 \n",
    "X_4 = df_test[X_list_4]"
   ]
  },
  {
   "cell_type": "code",
   "execution_count": 2326,
   "metadata": {},
   "outputs": [],
   "source": [
    "pt.fit(X_4)\n",
    "X_4_pt = pt.transform(X_4)\n",
    "preds4 = lm4.predict(X_4_pt)"
   ]
  },
  {
   "cell_type": "code",
   "execution_count": 2327,
   "metadata": {},
   "outputs": [],
   "source": [
    "pred4_reversed = pt_y.inverse_transform(preds4.reshape(-1,1))"
   ]
  },
  {
   "cell_type": "code",
   "execution_count": 2328,
   "metadata": {},
   "outputs": [
    {
     "data": {
      "text/plain": [
       "178639.1414509078"
      ]
     },
     "execution_count": 2328,
     "metadata": {},
     "output_type": "execute_result"
    }
   ],
   "source": [
    "pred4_reversed.mean()"
   ]
  },
  {
   "cell_type": "code",
   "execution_count": 2329,
   "metadata": {},
   "outputs": [
    {
     "data": {
      "text/plain": [
       "(878, 1)"
      ]
     },
     "execution_count": 2329,
     "metadata": {},
     "output_type": "execute_result"
    }
   ],
   "source": [
    "pred4_reversed.shape"
   ]
  },
  {
   "cell_type": "code",
   "execution_count": 2330,
   "metadata": {},
   "outputs": [],
   "source": [
    "df_test[\"pred4\"] = pred4_reversed"
   ]
  },
  {
   "cell_type": "code",
   "execution_count": null,
   "metadata": {},
   "outputs": [],
   "source": []
  },
  {
   "cell_type": "code",
   "execution_count": 2331,
   "metadata": {},
   "outputs": [],
   "source": [
    "#Model 5 \n",
    "X_5 = df_test[X_list_5]"
   ]
  },
  {
   "cell_type": "code",
   "execution_count": 2332,
   "metadata": {},
   "outputs": [],
   "source": [
    "pt.fit(X_5)\n",
    "X_5_pt = pt.transform(X_5)\n",
    "preds5 = lm5.predict(X_5_pt)"
   ]
  },
  {
   "cell_type": "code",
   "execution_count": 2333,
   "metadata": {},
   "outputs": [],
   "source": [
    "pred5_reversed = pt_y.inverse_transform(preds5.reshape(-1,1))"
   ]
  },
  {
   "cell_type": "code",
   "execution_count": 2334,
   "metadata": {},
   "outputs": [
    {
     "data": {
      "text/plain": [
       "178612.7235599056"
      ]
     },
     "execution_count": 2334,
     "metadata": {},
     "output_type": "execute_result"
    }
   ],
   "source": [
    "pred5_reversed.mean()"
   ]
  },
  {
   "cell_type": "code",
   "execution_count": 2335,
   "metadata": {},
   "outputs": [
    {
     "data": {
      "text/plain": [
       "(878, 1)"
      ]
     },
     "execution_count": 2335,
     "metadata": {},
     "output_type": "execute_result"
    }
   ],
   "source": [
    "pred5_reversed.shape"
   ]
  },
  {
   "cell_type": "code",
   "execution_count": 2336,
   "metadata": {},
   "outputs": [],
   "source": [
    "df_test[\"pred5\"] = pred5_reversed"
   ]
  },
  {
   "cell_type": "code",
   "execution_count": null,
   "metadata": {},
   "outputs": [],
   "source": []
  },
  {
   "cell_type": "code",
   "execution_count": 2337,
   "metadata": {},
   "outputs": [],
   "source": [
    "#Model 6\n",
    "X_6 = df_test[X_list_6]"
   ]
  },
  {
   "cell_type": "code",
   "execution_count": 2338,
   "metadata": {},
   "outputs": [],
   "source": [
    "pt.fit(X_6)\n",
    "X_6_pt = pt.transform(X_6)\n",
    "preds6 = lm6.predict(X_6_pt)"
   ]
  },
  {
   "cell_type": "code",
   "execution_count": 2339,
   "metadata": {},
   "outputs": [],
   "source": [
    "pred6_reversed = pt_y.inverse_transform(preds6.reshape(-1,1))"
   ]
  },
  {
   "cell_type": "code",
   "execution_count": 2340,
   "metadata": {},
   "outputs": [
    {
     "data": {
      "text/plain": [
       "178650.77109674105"
      ]
     },
     "execution_count": 2340,
     "metadata": {},
     "output_type": "execute_result"
    }
   ],
   "source": [
    "pred6_reversed.mean()"
   ]
  },
  {
   "cell_type": "code",
   "execution_count": 2341,
   "metadata": {},
   "outputs": [
    {
     "data": {
      "text/plain": [
       "(878, 1)"
      ]
     },
     "execution_count": 2341,
     "metadata": {},
     "output_type": "execute_result"
    }
   ],
   "source": [
    "pred6_reversed.shape"
   ]
  },
  {
   "cell_type": "code",
   "execution_count": 2342,
   "metadata": {},
   "outputs": [],
   "source": [
    "df_test[\"pred6\"] = pred6_reversed"
   ]
  },
  {
   "cell_type": "code",
   "execution_count": 2343,
   "metadata": {},
   "outputs": [
    {
     "data": {
      "text/html": [
       "<div>\n",
       "<style scoped>\n",
       "    .dataframe tbody tr th:only-of-type {\n",
       "        vertical-align: middle;\n",
       "    }\n",
       "\n",
       "    .dataframe tbody tr th {\n",
       "        vertical-align: top;\n",
       "    }\n",
       "\n",
       "    .dataframe thead th {\n",
       "        text-align: right;\n",
       "    }\n",
       "</style>\n",
       "<table border=\"1\" class=\"dataframe\">\n",
       "  <thead>\n",
       "    <tr style=\"text-align: right;\">\n",
       "      <th></th>\n",
       "      <th>pred1</th>\n",
       "      <th>pred2</th>\n",
       "      <th>pred3</th>\n",
       "      <th>pred4</th>\n",
       "      <th>pred5</th>\n",
       "      <th>pred6</th>\n",
       "    </tr>\n",
       "  </thead>\n",
       "  <tbody>\n",
       "    <tr>\n",
       "      <th>0</th>\n",
       "      <td>132984.715427</td>\n",
       "      <td>142199.270092</td>\n",
       "      <td>161339.479222</td>\n",
       "      <td>108861.833749</td>\n",
       "      <td>122504.300129</td>\n",
       "      <td>118385.884923</td>\n",
       "    </tr>\n",
       "    <tr>\n",
       "      <th>1</th>\n",
       "      <td>161843.122158</td>\n",
       "      <td>175734.557185</td>\n",
       "      <td>179755.437664</td>\n",
       "      <td>179526.612021</td>\n",
       "      <td>170702.399518</td>\n",
       "      <td>166673.439494</td>\n",
       "    </tr>\n",
       "    <tr>\n",
       "      <th>2</th>\n",
       "      <td>206817.389913</td>\n",
       "      <td>240917.970112</td>\n",
       "      <td>210171.087923</td>\n",
       "      <td>212180.275740</td>\n",
       "      <td>214427.088004</td>\n",
       "      <td>218354.402251</td>\n",
       "    </tr>\n",
       "    <tr>\n",
       "      <th>3</th>\n",
       "      <td>114824.092942</td>\n",
       "      <td>127058.703919</td>\n",
       "      <td>117961.330828</td>\n",
       "      <td>131570.076184</td>\n",
       "      <td>113850.303896</td>\n",
       "      <td>125283.321770</td>\n",
       "    </tr>\n",
       "    <tr>\n",
       "      <th>4</th>\n",
       "      <td>173131.289944</td>\n",
       "      <td>173403.090021</td>\n",
       "      <td>170713.559788</td>\n",
       "      <td>170144.591476</td>\n",
       "      <td>193945.960401</td>\n",
       "      <td>185607.639589</td>\n",
       "    </tr>\n",
       "    <tr>\n",
       "      <th>...</th>\n",
       "      <td>...</td>\n",
       "      <td>...</td>\n",
       "      <td>...</td>\n",
       "      <td>...</td>\n",
       "      <td>...</td>\n",
       "      <td>...</td>\n",
       "    </tr>\n",
       "    <tr>\n",
       "      <th>873</th>\n",
       "      <td>186232.782053</td>\n",
       "      <td>176462.295981</td>\n",
       "      <td>187394.013168</td>\n",
       "      <td>183572.731982</td>\n",
       "      <td>190618.497496</td>\n",
       "      <td>198332.489076</td>\n",
       "    </tr>\n",
       "    <tr>\n",
       "      <th>874</th>\n",
       "      <td>200139.428059</td>\n",
       "      <td>197427.775835</td>\n",
       "      <td>208740.548063</td>\n",
       "      <td>208398.184754</td>\n",
       "      <td>213751.715737</td>\n",
       "      <td>198409.986458</td>\n",
       "    </tr>\n",
       "    <tr>\n",
       "      <th>875</th>\n",
       "      <td>137921.647722</td>\n",
       "      <td>133604.935523</td>\n",
       "      <td>129820.361156</td>\n",
       "      <td>142313.047983</td>\n",
       "      <td>139982.098504</td>\n",
       "      <td>132434.105810</td>\n",
       "    </tr>\n",
       "    <tr>\n",
       "      <th>876</th>\n",
       "      <td>111546.646014</td>\n",
       "      <td>103033.566317</td>\n",
       "      <td>110085.226150</td>\n",
       "      <td>106545.149367</td>\n",
       "      <td>106663.050309</td>\n",
       "      <td>101811.725086</td>\n",
       "    </tr>\n",
       "    <tr>\n",
       "      <th>877</th>\n",
       "      <td>123608.266701</td>\n",
       "      <td>116152.924801</td>\n",
       "      <td>112033.143514</td>\n",
       "      <td>121893.771403</td>\n",
       "      <td>123408.484038</td>\n",
       "      <td>122912.434537</td>\n",
       "    </tr>\n",
       "  </tbody>\n",
       "</table>\n",
       "<p>878 rows × 6 columns</p>\n",
       "</div>"
      ],
      "text/plain": [
       "             pred1          pred2          pred3          pred4  \\\n",
       "0    132984.715427  142199.270092  161339.479222  108861.833749   \n",
       "1    161843.122158  175734.557185  179755.437664  179526.612021   \n",
       "2    206817.389913  240917.970112  210171.087923  212180.275740   \n",
       "3    114824.092942  127058.703919  117961.330828  131570.076184   \n",
       "4    173131.289944  173403.090021  170713.559788  170144.591476   \n",
       "..             ...            ...            ...            ...   \n",
       "873  186232.782053  176462.295981  187394.013168  183572.731982   \n",
       "874  200139.428059  197427.775835  208740.548063  208398.184754   \n",
       "875  137921.647722  133604.935523  129820.361156  142313.047983   \n",
       "876  111546.646014  103033.566317  110085.226150  106545.149367   \n",
       "877  123608.266701  116152.924801  112033.143514  121893.771403   \n",
       "\n",
       "             pred5          pred6  \n",
       "0    122504.300129  118385.884923  \n",
       "1    170702.399518  166673.439494  \n",
       "2    214427.088004  218354.402251  \n",
       "3    113850.303896  125283.321770  \n",
       "4    193945.960401  185607.639589  \n",
       "..             ...            ...  \n",
       "873  190618.497496  198332.489076  \n",
       "874  213751.715737  198409.986458  \n",
       "875  139982.098504  132434.105810  \n",
       "876  106663.050309  101811.725086  \n",
       "877  123408.484038  122912.434537  \n",
       "\n",
       "[878 rows x 6 columns]"
      ]
     },
     "execution_count": 2343,
     "metadata": {},
     "output_type": "execute_result"
    }
   ],
   "source": [
    "df_test[[\"pred1\", \"pred2\", \"pred3\", \"pred4\", \"pred5\", \"pred6\"]]"
   ]
  },
  {
   "cell_type": "code",
   "execution_count": 2344,
   "metadata": {},
   "outputs": [],
   "source": [
    "#Average predictions across the six sub-models\n",
    "df_test[\"Ens_6_Pred_Price\"] = (df_test[\"pred1\"] + \n",
    "                               df_test[\"pred2\"] + \n",
    "                               df_test[\"pred3\"] + \n",
    "                               df_test[\"pred4\"] + \n",
    "                               df_test[\"pred5\"] + \n",
    "                               df_test[\"pred6\"])/6"
   ]
  },
  {
   "cell_type": "code",
   "execution_count": 2345,
   "metadata": {},
   "outputs": [],
   "source": [
    "#Another version, just averaging the results from the two models with the lowest RMSE\n",
    "df_test[\"Ens_2_Pred_Price\"] = (df_test[\"pred1\"] + df_test[\"pred5\"]) / 2"
   ]
  },
  {
   "cell_type": "code",
   "execution_count": 2346,
   "metadata": {},
   "outputs": [
    {
     "data": {
      "text/plain": [
       "array([[<matplotlib.axes._subplots.AxesSubplot object at 0x1a3576dad0>,\n",
       "        <matplotlib.axes._subplots.AxesSubplot object at 0x1a374981d0>,\n",
       "        <matplotlib.axes._subplots.AxesSubplot object at 0x1a374cd650>],\n",
       "       [<matplotlib.axes._subplots.AxesSubplot object at 0x1a3a4bdbd0>,\n",
       "        <matplotlib.axes._subplots.AxesSubplot object at 0x1a3501a190>,\n",
       "        <matplotlib.axes._subplots.AxesSubplot object at 0x1a51a96710>],\n",
       "       [<matplotlib.axes._subplots.AxesSubplot object at 0x1a51acbd10>,\n",
       "        <matplotlib.axes._subplots.AxesSubplot object at 0x1a51b0c210>,\n",
       "        <matplotlib.axes._subplots.AxesSubplot object at 0x1a51b0c250>]],\n",
       "      dtype=object)"
      ]
     },
     "execution_count": 2346,
     "metadata": {},
     "output_type": "execute_result"
    },
    {
     "data": {
      "image/png": "[encoded data removed]",
      "text/plain": [
       "<Figure size 1080x1080 with 9 Axes>"
      ]
     },
     "metadata": {
      "needs_background": "light"
     },
     "output_type": "display_data"
    }
   ],
   "source": [
    "#Look at similarity of distributions of predictions\n",
    "df_test[[\"pred1\", \"pred2\", \"pred3\", \"pred4\", \"pred5\", \"pred6\",\n",
    "         \"Ens_6_Pred_Price\", \"Ens_2_Pred_Price\", \"SalePrice\"]].hist(figsize=(15,15))"
   ]
  },
  {
   "cell_type": "code",
   "execution_count": 2347,
   "metadata": {},
   "outputs": [
    {
     "data": {
      "text/plain": [
       "178835.8579519426"
      ]
     },
     "execution_count": 2347,
     "metadata": {},
     "output_type": "execute_result"
    }
   ],
   "source": [
    "#Create SalePrice variable for test data file for kaggle submission\n",
    "#Substitute \"Ens_6_Pred_Price\" if you want to use the 6-sub-model version instead\n",
    "df_test[\"SalePrice\"] = df_test[\"Ens_2_Pred_Price\"]\n",
    "df_test[\"SalePrice\"].mean()"
   ]
  },
  {
   "cell_type": "code",
   "execution_count": 2348,
   "metadata": {},
   "outputs": [],
   "source": [
    "# Save file to csv for submission to kaggle\n",
    "df_test[[\"Id\", \"SalePrice\"]].to_csv(\"../datasets/submission.csv\", index=False)"
   ]
  }
 ],
 "metadata": {
  "kernelspec": {
   "display_name": "Python 3",
   "language": "python",
   "name": "python3"
  },
  "language_info": {
   "codemirror_mode": {
    "name": "ipython",
    "version": 3
   },
   "file_extension": ".py",
   "mimetype": "text/x-python",
   "name": "python",
   "nbconvert_exporter": "python",
   "pygments_lexer": "ipython3",
   "version": "3.7.7"
  }
 },
 "nbformat": 4,
 "nbformat_minor": 4
}
